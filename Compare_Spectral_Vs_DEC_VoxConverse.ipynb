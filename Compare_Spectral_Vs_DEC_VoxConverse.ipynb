{
 "cells": [
  {
   "cell_type": "markdown",
   "metadata": {
    "id": "DT5hNAsu0X-u"
   },
   "source": [
    "# **LOAD LIBRARIES**"
   ]
  },
  {
   "cell_type": "code",
   "execution_count": 2,
   "metadata": {
    "colab": {
     "base_uri": "https://localhost:8080/"
    },
    "executionInfo": {
     "elapsed": 18141,
     "status": "ok",
     "timestamp": 1620720553009,
     "user": {
      "displayName": "Shashi Kant",
      "photoUrl": "https://lh3.googleusercontent.com/a-/AOh14GiHv2woo7B1czb0XKsLBEOsgMWsuYITOryCdNNv7A=s64",
      "userId": "09783338171816410510"
     },
     "user_tz": -330
    },
    "id": "ouVW09h_0Usm",
    "outputId": "4027387b-0d0a-4301-c0c4-9ea78a510ca9"
   },
   "outputs": [
    {
     "name": "stdout",
     "output_type": "stream",
     "text": [
      "\u001b[K     |████████████████████████████████| 1.9MB 9.3MB/s \n",
      "\u001b[K     |████████████████████████████████| 358kB 10.3MB/s \n",
      "\u001b[K     |████████████████████████████████| 1.2MB 17.1MB/s \n",
      "\u001b[K     |████████████████████████████████| 645kB 44.8MB/s \n",
      "\u001b[K     |████████████████████████████████| 102kB 11.7MB/s \n",
      "\u001b[K     |████████████████████████████████| 552kB 35.1MB/s \n",
      "\u001b[K     |████████████████████████████████| 51kB 4.5MB/s \n",
      "\u001b[K     |████████████████████████████████| 61kB 6.4MB/s \n",
      "\u001b[K     |████████████████████████████████| 51kB 6.2MB/s \n",
      "\u001b[K     |████████████████████████████████| 133kB 12.8MB/s \n",
      "\u001b[?25h"
     ]
    }
   ],
   "source": [
    "!pip install torchaudio -q --no-deps\n",
    "!pip install speechbrain -q\n",
    "!pip install spectralcluster -q\n",
    "!pip install pyannote.metrics -q\n",
    "!pip install gdown -q"
   ]
  },
  {
   "cell_type": "code",
   "execution_count": 1,
   "metadata": {
    "colab": {
     "base_uri": "https://localhost:8080/"
    },
    "executionInfo": {
     "elapsed": 6796,
     "status": "ok",
     "timestamp": 1620721045252,
     "user": {
      "displayName": "Shashi Kant",
      "photoUrl": "https://lh3.googleusercontent.com/a-/AOh14GiHv2woo7B1czb0XKsLBEOsgMWsuYITOryCdNNv7A=s64",
      "userId": "09783338171816410510"
     },
     "user_tz": -330
    },
    "id": "Qe3sDhQYbwDi",
    "outputId": "e2061dff-9d79-4164-dd90-c5e92019fe64"
   },
   "outputs": [
    {
     "name": "stdout",
     "output_type": "stream",
     "text": [
      "Downloading...\n",
      "From: https://drive.google.com/uc?id=1XltkNas1LTOck62GIDYT0WcPDPGZEo7P\n",
      "To: /content/utils.py\n",
      "100% 16.8k/16.8k [00:00<00:00, 13.1MB/s]\n",
      "Downloading...\n",
      "From: https://drive.google.com/uc?id=1FWIRF2Kq6JB0fFHwjkZmVfEuGq0-SSC5\n",
      "To: /content/DEC.py\n",
      "100% 10.1k/10.1k [00:00<00:00, 18.2MB/s]\n",
      "Downloading...\n",
      "From: https://drive.google.com/uc?id=1hbepzjAxHTQS5QoAlKNP9zK0nMxdjauJ\n",
      "To: /content/optimumSpeaker.py\n",
      "100% 7.08k/7.08k [00:00<00:00, 11.2MB/s]\n",
      "Downloading...\n",
      "From: https://drive.google.com/uc?id=1RQkezkiXa5DVFHE7g4UKE2v8vcmgJFpm\n",
      "To: /content/baselineMethods.py\n",
      "100% 4.39k/4.39k [00:00<00:00, 7.48MB/s]\n"
     ]
    }
   ],
   "source": [
    "!git clone https://github.com/shashikg/speaker_diarization_ee698.git\n",
    "!cp -r speaker_diarization_ee698/core/. core"
   ]
  },
  {
   "cell_type": "code",
   "execution_count": 5,
   "metadata": {
    "colab": {
     "base_uri": "https://localhost:8080/"
    },
    "executionInfo": {
     "elapsed": 1533,
     "status": "ok",
     "timestamp": 1620721092156,
     "user": {
      "displayName": "Shashi Kant",
      "photoUrl": "https://lh3.googleusercontent.com/a-/AOh14GiHv2woo7B1czb0XKsLBEOsgMWsuYITOryCdNNv7A=s64",
      "userId": "09783338171816410510"
     },
     "user_tz": -330
    },
    "id": "0iqaDi7jb5qQ",
    "outputId": "29b92a00-f71c-41ad-f3e0-68dc4c3dc218"
   },
   "outputs": [
    {
     "name": "stdout",
     "output_type": "stream",
     "text": [
      "Populating the interactive namespace from numpy and matplotlib\n"
     ]
    }
   ],
   "source": [
    "%pylab inline"
   ]
  },
  {
   "cell_type": "code",
   "execution_count": 4,
   "metadata": {
    "executionInfo": {
     "elapsed": 1381,
     "status": "ok",
     "timestamp": 1620721086085,
     "user": {
      "displayName": "Shashi Kant",
      "photoUrl": "https://lh3.googleusercontent.com/a-/AOh14GiHv2woo7B1czb0XKsLBEOsgMWsuYITOryCdNNv7A=s64",
      "userId": "09783338171816410510"
     },
     "user_tz": -330
    },
    "id": "FGTt1sJS0bLP"
   },
   "outputs": [],
   "source": [
    "from __future__ import print_function, division\n",
    "import numpy as np\n",
    "import matplotlib.pyplot as plt\n",
    "import torchaudio\n",
    "import os\n",
    "import torch\n",
    "from torch.utils.data import Dataset, DataLoader\n",
    "from speechbrain.pretrained import SpeakerRecognition\n",
    "import warnings\n",
    "warnings.filterwarnings('ignore')\n",
    "\n",
    "from sklearn.cluster import KMeans, SpectralClustering\n",
    "from sklearn import decomposition\n",
    "from tqdm.auto import tqdm\n",
    "\n",
    "from core.utils import DiarizationDataSet, get_metrics, plot_annot\n",
    "import core.baselineMethods as baselineMethods\n",
    "from core.DEC import diarizationDEC\n",
    "\n",
    "import shutil\n",
    "import pandas as pd"
   ]
  },
  {
   "cell_type": "markdown",
   "metadata": {
    "id": "4Dv0fC5mhhao"
   },
   "source": [
    "# Download dataset"
   ]
  },
  {
   "cell_type": "code",
   "execution_count": 6,
   "metadata": {
    "colab": {
     "base_uri": "https://localhost:8080/"
    },
    "executionInfo": {
     "elapsed": 5552,
     "status": "ok",
     "timestamp": 1620721107639,
     "user": {
      "displayName": "Shashi Kant",
      "photoUrl": "https://lh3.googleusercontent.com/a-/AOh14GiHv2woo7B1czb0XKsLBEOsgMWsuYITOryCdNNv7A=s64",
      "userId": "09783338171816410510"
     },
     "user_tz": -330
    },
    "id": "OwMmmaqYhnn0",
    "outputId": "177959a2-5003-4317-e6b2-61a5b6a7b7aa"
   },
   "outputs": [
    {
     "name": "stdout",
     "output_type": "stream",
     "text": [
      "Dataset already downloaded!\n",
      "Downloading precomputed VADs...\n"
     ]
    },
    {
     "name": "stderr",
     "output_type": "stream",
     "text": [
      "Downloading...\n",
      "From: https://drive.google.com/uc?id=18oXqn9Zyt5tJpoEwKKztpTag-AJMQ2Sz\n",
      "To: /content/tmp.zip\n",
      "100%|██████████| 128k/128k [00:00<00:00, 15.8MB/s]\n"
     ]
    },
    {
     "name": "stdout",
     "output_type": "stream",
     "text": [
      "Download and Extraction Complete\n",
      "Precomputed X-vectors exists!\n",
      "Will use precomputed features...\n",
      "\n",
      "Downloading precomputed features...\n"
     ]
    },
    {
     "name": "stderr",
     "output_type": "stream",
     "text": [
      "Downloading...\n",
      "From: https://drive.google.com/uc?id=1-2-AZnabTtHxLmw2DBwj4PJDGwlvFa8J\n",
      "To: /content/tmp.zip\n",
      "69.4MB [00:00, 149MB/s] \n"
     ]
    },
    {
     "name": "stdout",
     "output_type": "stream",
     "text": [
      "Download and Extraction Complete\n",
      "\n",
      "Data size: 50\n"
     ]
    }
   ],
   "source": [
    "audio_dataset = DiarizationDataSet(dataset_name='voxconverse',\n",
    "                                   window_len=1500, \n",
    "                                   window_step=750,\n",
    "                                   split='test',\n",
    "                                   use_oracle_vad=False)\n",
    "\n",
    "print(\"\\nData size:\", len(audio_dataset))"
   ]
  },
  {
   "cell_type": "markdown",
   "metadata": {
    "id": "OiFZ_66hh6Nv"
   },
   "source": [
    "# Spectral - EigenGap"
   ]
  },
  {
   "cell_type": "code",
   "execution_count": 7,
   "metadata": {
    "colab": {
     "base_uri": "https://localhost:8080/",
     "height": 115,
     "referenced_widgets": [
      "565b4861e87849a7af8725f540b2919e",
      "c900a436853b410881055f3e83c40e89",
      "cb3cde767487455fba33a2e8264eb848",
      "fbdd194af6ce4eb68cb7ffc4d8a6bf12",
      "828bdb8aef7848d3b4e43a101a3fcfcb",
      "f3fbec81fa52443281632dad6860c476",
      "49f21726406a4a058675e78fad43bff2",
      "7fcc8fa0edc84cee99a434c563e78439",
      "1751d65c8e3b43aeb52fb635fb050a76",
      "bd8050d867ce48659cbd6d059fdb6aa1",
      "817e2afd12c74c0d88ee45e9abbc4820",
      "3f4ff9fbd05f43818c5105674358bc3f",
      "8dc20dffabfe469582d6ee378128bd6e",
      "2e582449c2cf4cad950d785ca2835d00",
      "a3d5a0f5fc1b4bbcb21f240139cef480",
      "689a21a298e6464088688643942ee044"
     ]
    },
    "executionInfo": {
     "elapsed": 19801,
     "status": "ok",
     "timestamp": 1620721203561,
     "user": {
      "displayName": "Shashi Kant",
      "photoUrl": "https://lh3.googleusercontent.com/a-/AOh14GiHv2woo7B1czb0XKsLBEOsgMWsuYITOryCdNNv7A=s64",
      "userId": "09783338171816410510"
     },
     "user_tz": -330
    },
    "id": "x5JJ_CkFiEcI",
    "outputId": "b81e8436-7881-4dc3-8bec-8d37fe59f9f9"
   },
   "outputs": [
    {
     "data": {
      "application/vnd.jupyter.widget-view+json": {
       "model_id": "565b4861e87849a7af8725f540b2919e",
       "version_major": 2,
       "version_minor": 0
      },
      "text/plain": [
       "HBox(children=(FloatProgress(value=0.0, max=50.0), HTML(value='')))"
      ]
     },
     "metadata": {
      "tags": []
     },
     "output_type": "display_data"
    },
    {
     "name": "stdout",
     "output_type": "stream",
     "text": [
      "\n"
     ]
    },
    {
     "data": {
      "application/vnd.jupyter.widget-view+json": {
       "model_id": "1751d65c8e3b43aeb52fb635fb050a76",
       "version_major": 2,
       "version_minor": 0
      },
      "text/plain": [
       "HBox(children=(FloatProgress(value=0.0, max=50.0), HTML(value='')))"
      ]
     },
     "metadata": {
      "tags": []
     },
     "output_type": "display_data"
    },
    {
     "name": "stdout",
     "output_type": "stream",
     "text": [
      "\n"
     ]
    }
   ],
   "source": [
    "hypothesis_dir_spectral = baselineMethods.diarizationEigenGapNumSpkrs(audio_dataset, hypothesis_dir=\"./rttm_output_spectral/\")\n",
    "metric_spectral = get_metrics(audio_dataset.label_dir, hypothesis_dir_spectral)"
   ]
  },
  {
   "cell_type": "markdown",
   "metadata": {
    "id": "WVWdrk5kv4vp"
   },
   "source": [
    "# DEC"
   ]
  },
  {
   "cell_type": "code",
   "execution_count": 9,
   "metadata": {
    "colab": {
     "base_uri": "https://localhost:8080/",
     "height": 166,
     "referenced_widgets": [
      "1f844a0ffdc7403296cf159a20d15200",
      "ce0ffbabb397468bbb739440b49e1770",
      "7333159d49984747b37f1ed969d35550",
      "95008d85c79d45bfbd4cc532564f4dc5",
      "74e6a4ce01234e02885e3196ff4dbcec",
      "e4a6bd06266e4a1b8d298b694f434cd6",
      "bc9f0ecb7ef04a4692f9bdaf2233924d",
      "58b268f754884cf1a572456bb1085e10",
      "5d9776f13eb4422ea01fa9e595603507",
      "079db2b288ba4de3ba010d9b9dedc103",
      "ac657f273b274cc5a0f73e1fd415f822",
      "7cf3ee7898c64a258faa9b2f2aff74ce",
      "2c32faa5a65a44a698c02349f10a6fb7",
      "2b42c6816c74455086de89769b152197",
      "2e88f3cc697f4232b7b9d6c6a093dead",
      "f1040ae03f054f3ab6edebad55d7a547"
     ]
    },
    "executionInfo": {
     "elapsed": 68570,
     "status": "ok",
     "timestamp": 1620721312688,
     "user": {
      "displayName": "Shashi Kant",
      "photoUrl": "https://lh3.googleusercontent.com/a-/AOh14GiHv2woo7B1czb0XKsLBEOsgMWsuYITOryCdNNv7A=s64",
      "userId": "09783338171816410510"
     },
     "user_tz": -330
    },
    "id": "D3myQoh-lv-U",
    "outputId": "0d9de133-c3b4-41af-e292-aa2ca739eb37"
   },
   "outputs": [
    {
     "data": {
      "application/vnd.jupyter.widget-view+json": {
       "model_id": "1f844a0ffdc7403296cf159a20d15200",
       "version_major": 2,
       "version_minor": 0
      },
      "text/plain": [
       "HBox(children=(FloatProgress(value=0.0, max=50.0), HTML(value='')))"
      ]
     },
     "metadata": {
      "tags": []
     },
     "output_type": "display_data"
    },
    {
     "name": "stdout",
     "output_type": "stream",
     "text": [
      "Downloading pre-trained weights for auto encoder...\n",
      "Downloading Complete!\n",
      "\n",
      "\n"
     ]
    },
    {
     "data": {
      "application/vnd.jupyter.widget-view+json": {
       "model_id": "5d9776f13eb4422ea01fa9e595603507",
       "version_major": 2,
       "version_minor": 0
      },
      "text/plain": [
       "HBox(children=(FloatProgress(value=0.0, max=50.0), HTML(value='')))"
      ]
     },
     "metadata": {
      "tags": []
     },
     "output_type": "display_data"
    },
    {
     "name": "stdout",
     "output_type": "stream",
     "text": [
      "\n"
     ]
    }
   ],
   "source": [
    "hypothesis_dir_dec = diarizationDEC(audio_dataset, hypothesis_dir=\"./rttm_output_dec/\")\n",
    "metric_dec = get_metrics(audio_dataset.label_dir, hypothesis_dir_dec)"
   ]
  },
  {
   "cell_type": "markdown",
   "metadata": {
    "id": "2TgnLCbohjn6"
   },
   "source": [
    "# Compare"
   ]
  },
  {
   "cell_type": "code",
   "execution_count": 11,
   "metadata": {
    "executionInfo": {
     "elapsed": 1587,
     "status": "ok",
     "timestamp": 1620721429121,
     "user": {
      "displayName": "Shashi Kant",
      "photoUrl": "https://lh3.googleusercontent.com/a-/AOh14GiHv2woo7B1czb0XKsLBEOsgMWsuYITOryCdNNv7A=s64",
      "userId": "09783338171816410510"
     },
     "user_tz": -330
    },
    "id": "PTlgV9PWmJ-k"
   },
   "outputs": [],
   "source": [
    "df_dec = metric_dec.report()\n",
    "df_spectral = metric_spectral.report()\n",
    "\n",
    "df_spectral = df_spectral[[df_dec.keys()[0]]]\n",
    "df_dec = df_dec[[df_dec.keys()[0]]]\n",
    "\n",
    "df_both = df_dec\n",
    "df_both[\"DER (Spectral)\"] = df_spectral[[df_dec.keys()[0]]]\n",
    "df_both.columns = [\"DER (DEC)\", \"DER (Spectral)\"]\n",
    "\n",
    "df_both[\"DER Difference\"] = df_both[\"DER (Spectral)\"]-df_both[\"DER (DEC)\"]\n",
    "\n",
    "df_both = df_both[:-1]\n",
    "df_both = df_both.sort_values(by=['DER Difference'])"
   ]
  },
  {
   "cell_type": "code",
   "execution_count": 12,
   "metadata": {
    "colab": {
     "base_uri": "https://localhost:8080/",
     "height": 111
    },
    "executionInfo": {
     "elapsed": 1357,
     "status": "ok",
     "timestamp": 1620721429131,
     "user": {
      "displayName": "Shashi Kant",
      "photoUrl": "https://lh3.googleusercontent.com/a-/AOh14GiHv2woo7B1czb0XKsLBEOsgMWsuYITOryCdNNv7A=s64",
      "userId": "09783338171816410510"
     },
     "user_tz": -330
    },
    "id": "zEIp5MM9uR_A",
    "outputId": "eb73d20f-1f83-4c0b-d17b-c5caaf01efac"
   },
   "outputs": [
    {
     "data": {
      "text/html": [
       "<div>\n",
       "<style scoped>\n",
       "    .dataframe tbody tr th:only-of-type {\n",
       "        vertical-align: middle;\n",
       "    }\n",
       "\n",
       "    .dataframe tbody tr th {\n",
       "        vertical-align: top;\n",
       "    }\n",
       "\n",
       "    .dataframe thead th {\n",
       "        text-align: right;\n",
       "    }\n",
       "</style>\n",
       "<table border=\"1\" class=\"dataframe\">\n",
       "  <thead>\n",
       "    <tr style=\"text-align: right;\">\n",
       "      <th></th>\n",
       "      <th>DER (DEC)</th>\n",
       "      <th>DER (Spectral)</th>\n",
       "      <th>DER Difference</th>\n",
       "    </tr>\n",
       "    <tr>\n",
       "      <th>item</th>\n",
       "      <th></th>\n",
       "      <th></th>\n",
       "      <th></th>\n",
       "    </tr>\n",
       "  </thead>\n",
       "  <tbody>\n",
       "    <tr>\n",
       "      <th>TOTAL</th>\n",
       "      <td>12.990757</td>\n",
       "      <td>17.760788</td>\n",
       "      <td>4.770031</td>\n",
       "    </tr>\n",
       "  </tbody>\n",
       "</table>\n",
       "</div>"
      ],
      "text/plain": [
       "       DER (DEC)  DER (Spectral)  DER Difference\n",
       "item                                            \n",
       "TOTAL  12.990757       17.760788        4.770031"
      ]
     },
     "execution_count": 12,
     "metadata": {
      "tags": []
     },
     "output_type": "execute_result"
    }
   ],
   "source": [
    "df_dec[-1:]"
   ]
  },
  {
   "cell_type": "code",
   "execution_count": 13,
   "metadata": {
    "colab": {
     "base_uri": "https://localhost:8080/",
     "height": 1000
    },
    "executionInfo": {
     "elapsed": 1032,
     "status": "ok",
     "timestamp": 1620721436287,
     "user": {
      "displayName": "Shashi Kant",
      "photoUrl": "https://lh3.googleusercontent.com/a-/AOh14GiHv2woo7B1czb0XKsLBEOsgMWsuYITOryCdNNv7A=s64",
      "userId": "09783338171816410510"
     },
     "user_tz": -330
    },
    "id": "vjQP9QqUvuOZ",
    "outputId": "27c02d70-e187-4048-d094-bea26613e6ad"
   },
   "outputs": [
    {
     "data": {
      "text/html": [
       "<div>\n",
       "<style scoped>\n",
       "    .dataframe tbody tr th:only-of-type {\n",
       "        vertical-align: middle;\n",
       "    }\n",
       "\n",
       "    .dataframe tbody tr th {\n",
       "        vertical-align: top;\n",
       "    }\n",
       "\n",
       "    .dataframe thead th {\n",
       "        text-align: right;\n",
       "    }\n",
       "</style>\n",
       "<table border=\"1\" class=\"dataframe\">\n",
       "  <thead>\n",
       "    <tr style=\"text-align: right;\">\n",
       "      <th></th>\n",
       "      <th>DER (DEC)</th>\n",
       "      <th>DER (Spectral)</th>\n",
       "      <th>DER Difference</th>\n",
       "    </tr>\n",
       "    <tr>\n",
       "      <th>item</th>\n",
       "      <th></th>\n",
       "      <th></th>\n",
       "      <th></th>\n",
       "    </tr>\n",
       "  </thead>\n",
       "  <tbody>\n",
       "    <tr>\n",
       "      <th>qjgpl</th>\n",
       "      <td>58.585535</td>\n",
       "      <td>23.713084</td>\n",
       "      <td>-34.872451</td>\n",
       "    </tr>\n",
       "    <tr>\n",
       "      <th>mevkw</th>\n",
       "      <td>83.032581</td>\n",
       "      <td>54.461153</td>\n",
       "      <td>-28.571429</td>\n",
       "    </tr>\n",
       "    <tr>\n",
       "      <th>ehpau</th>\n",
       "      <td>31.754241</td>\n",
       "      <td>11.828713</td>\n",
       "      <td>-19.925528</td>\n",
       "    </tr>\n",
       "    <tr>\n",
       "      <th>falxo</th>\n",
       "      <td>61.040005</td>\n",
       "      <td>42.708300</td>\n",
       "      <td>-18.331705</td>\n",
       "    </tr>\n",
       "    <tr>\n",
       "      <th>cqaec</th>\n",
       "      <td>38.985241</td>\n",
       "      <td>29.348762</td>\n",
       "      <td>-9.636478</td>\n",
       "    </tr>\n",
       "    <tr>\n",
       "      <th>pilgb</th>\n",
       "      <td>15.796775</td>\n",
       "      <td>9.453537</td>\n",
       "      <td>-6.343239</td>\n",
       "    </tr>\n",
       "    <tr>\n",
       "      <th>luvfz</th>\n",
       "      <td>28.499016</td>\n",
       "      <td>24.426024</td>\n",
       "      <td>-4.072992</td>\n",
       "    </tr>\n",
       "    <tr>\n",
       "      <th>hgdez</th>\n",
       "      <td>13.055585</td>\n",
       "      <td>12.424016</td>\n",
       "      <td>-0.631569</td>\n",
       "    </tr>\n",
       "    <tr>\n",
       "      <th>dhorc</th>\n",
       "      <td>5.096795</td>\n",
       "      <td>4.546283</td>\n",
       "      <td>-0.550512</td>\n",
       "    </tr>\n",
       "    <tr>\n",
       "      <th>kbkon</th>\n",
       "      <td>3.126518</td>\n",
       "      <td>2.750121</td>\n",
       "      <td>-0.376396</td>\n",
       "    </tr>\n",
       "    <tr>\n",
       "      <th>vmaiq</th>\n",
       "      <td>17.553682</td>\n",
       "      <td>17.448103</td>\n",
       "      <td>-0.105579</td>\n",
       "    </tr>\n",
       "    <tr>\n",
       "      <th>kckqn</th>\n",
       "      <td>2.390522</td>\n",
       "      <td>2.368015</td>\n",
       "      <td>-0.022507</td>\n",
       "    </tr>\n",
       "    <tr>\n",
       "      <th>jsdmu</th>\n",
       "      <td>12.848572</td>\n",
       "      <td>12.848572</td>\n",
       "      <td>0.000000</td>\n",
       "    </tr>\n",
       "    <tr>\n",
       "      <th>ysgbf</th>\n",
       "      <td>5.300844</td>\n",
       "      <td>5.300844</td>\n",
       "      <td>0.000000</td>\n",
       "    </tr>\n",
       "    <tr>\n",
       "      <th>oxxwk</th>\n",
       "      <td>29.356791</td>\n",
       "      <td>29.356791</td>\n",
       "      <td>0.000000</td>\n",
       "    </tr>\n",
       "    <tr>\n",
       "      <th>cmhsm</th>\n",
       "      <td>2.571929</td>\n",
       "      <td>2.571929</td>\n",
       "      <td>0.000000</td>\n",
       "    </tr>\n",
       "    <tr>\n",
       "      <th>pnook</th>\n",
       "      <td>33.123355</td>\n",
       "      <td>33.123355</td>\n",
       "      <td>0.000000</td>\n",
       "    </tr>\n",
       "    <tr>\n",
       "      <th>ufpel</th>\n",
       "      <td>33.297790</td>\n",
       "      <td>33.297790</td>\n",
       "      <td>0.000000</td>\n",
       "    </tr>\n",
       "    <tr>\n",
       "      <th>ngyrk</th>\n",
       "      <td>8.134614</td>\n",
       "      <td>8.403190</td>\n",
       "      <td>0.268577</td>\n",
       "    </tr>\n",
       "    <tr>\n",
       "      <th>jnivh</th>\n",
       "      <td>2.006673</td>\n",
       "      <td>2.488646</td>\n",
       "      <td>0.481972</td>\n",
       "    </tr>\n",
       "    <tr>\n",
       "      <th>txcok</th>\n",
       "      <td>2.321460</td>\n",
       "      <td>2.832840</td>\n",
       "      <td>0.511379</td>\n",
       "    </tr>\n",
       "    <tr>\n",
       "      <th>irvat</th>\n",
       "      <td>3.195128</td>\n",
       "      <td>3.754859</td>\n",
       "      <td>0.559731</td>\n",
       "    </tr>\n",
       "    <tr>\n",
       "      <th>zyffh</th>\n",
       "      <td>3.466285</td>\n",
       "      <td>4.119109</td>\n",
       "      <td>0.652824</td>\n",
       "    </tr>\n",
       "    <tr>\n",
       "      <th>blwmj</th>\n",
       "      <td>1.893200</td>\n",
       "      <td>2.686270</td>\n",
       "      <td>0.793070</td>\n",
       "    </tr>\n",
       "    <tr>\n",
       "      <th>djngn</th>\n",
       "      <td>2.337598</td>\n",
       "      <td>3.155758</td>\n",
       "      <td>0.818159</td>\n",
       "    </tr>\n",
       "    <tr>\n",
       "      <th>qygfk</th>\n",
       "      <td>3.359364</td>\n",
       "      <td>4.180037</td>\n",
       "      <td>0.820673</td>\n",
       "    </tr>\n",
       "    <tr>\n",
       "      <th>bravd</th>\n",
       "      <td>9.482496</td>\n",
       "      <td>10.675433</td>\n",
       "      <td>1.192937</td>\n",
       "    </tr>\n",
       "    <tr>\n",
       "      <th>ahnss</th>\n",
       "      <td>3.505548</td>\n",
       "      <td>5.298684</td>\n",
       "      <td>1.793137</td>\n",
       "    </tr>\n",
       "    <tr>\n",
       "      <th>uatlu</th>\n",
       "      <td>23.474117</td>\n",
       "      <td>25.590241</td>\n",
       "      <td>2.116125</td>\n",
       "    </tr>\n",
       "    <tr>\n",
       "      <th>uvnmy</th>\n",
       "      <td>4.290582</td>\n",
       "      <td>6.496283</td>\n",
       "      <td>2.205700</td>\n",
       "    </tr>\n",
       "    <tr>\n",
       "      <th>xmfzh</th>\n",
       "      <td>15.886634</td>\n",
       "      <td>18.217857</td>\n",
       "      <td>2.331223</td>\n",
       "    </tr>\n",
       "    <tr>\n",
       "      <th>fsaal</th>\n",
       "      <td>3.583821</td>\n",
       "      <td>7.086315</td>\n",
       "      <td>3.502494</td>\n",
       "    </tr>\n",
       "    <tr>\n",
       "      <th>eapdk</th>\n",
       "      <td>8.666388</td>\n",
       "      <td>14.603467</td>\n",
       "      <td>5.937079</td>\n",
       "    </tr>\n",
       "    <tr>\n",
       "      <th>imbqf</th>\n",
       "      <td>3.743185</td>\n",
       "      <td>9.773417</td>\n",
       "      <td>6.030233</td>\n",
       "    </tr>\n",
       "    <tr>\n",
       "      <th>akthc</th>\n",
       "      <td>21.759396</td>\n",
       "      <td>30.051025</td>\n",
       "      <td>8.291630</td>\n",
       "    </tr>\n",
       "    <tr>\n",
       "      <th>esrit</th>\n",
       "      <td>6.053467</td>\n",
       "      <td>14.647137</td>\n",
       "      <td>8.593670</td>\n",
       "    </tr>\n",
       "    <tr>\n",
       "      <th>ccokr</th>\n",
       "      <td>9.247530</td>\n",
       "      <td>18.887763</td>\n",
       "      <td>9.640233</td>\n",
       "    </tr>\n",
       "    <tr>\n",
       "      <th>sduml</th>\n",
       "      <td>9.958199</td>\n",
       "      <td>21.645240</td>\n",
       "      <td>11.687042</td>\n",
       "    </tr>\n",
       "    <tr>\n",
       "      <th>gofnj</th>\n",
       "      <td>14.663680</td>\n",
       "      <td>27.935136</td>\n",
       "      <td>13.271457</td>\n",
       "    </tr>\n",
       "    <tr>\n",
       "      <th>aufkn</th>\n",
       "      <td>4.697883</td>\n",
       "      <td>22.547994</td>\n",
       "      <td>17.850111</td>\n",
       "    </tr>\n",
       "    <tr>\n",
       "      <th>tguxv</th>\n",
       "      <td>25.509072</td>\n",
       "      <td>43.545358</td>\n",
       "      <td>18.036286</td>\n",
       "    </tr>\n",
       "    <tr>\n",
       "      <th>goyli</th>\n",
       "      <td>5.953693</td>\n",
       "      <td>26.150145</td>\n",
       "      <td>20.196452</td>\n",
       "    </tr>\n",
       "    <tr>\n",
       "      <th>gwtwd</th>\n",
       "      <td>11.032028</td>\n",
       "      <td>32.692764</td>\n",
       "      <td>21.660735</td>\n",
       "    </tr>\n",
       "    <tr>\n",
       "      <th>ycxxe</th>\n",
       "      <td>4.393707</td>\n",
       "      <td>32.935533</td>\n",
       "      <td>28.541827</td>\n",
       "    </tr>\n",
       "    <tr>\n",
       "      <th>sosnj</th>\n",
       "      <td>5.911210</td>\n",
       "      <td>34.650738</td>\n",
       "      <td>28.739529</td>\n",
       "    </tr>\n",
       "    <tr>\n",
       "      <th>gzvkx</th>\n",
       "      <td>3.484163</td>\n",
       "      <td>37.159377</td>\n",
       "      <td>33.675214</td>\n",
       "    </tr>\n",
       "    <tr>\n",
       "      <th>wmori</th>\n",
       "      <td>7.530722</td>\n",
       "      <td>49.280538</td>\n",
       "      <td>41.749816</td>\n",
       "    </tr>\n",
       "    <tr>\n",
       "      <th>szsyz</th>\n",
       "      <td>19.026258</td>\n",
       "      <td>79.835886</td>\n",
       "      <td>60.809628</td>\n",
       "    </tr>\n",
       "    <tr>\n",
       "      <th>bkwns</th>\n",
       "      <td>10.480669</td>\n",
       "      <td>89.226750</td>\n",
       "      <td>78.746082</td>\n",
       "    </tr>\n",
       "    <tr>\n",
       "      <th>plbbw</th>\n",
       "      <td>4.893588</td>\n",
       "      <td>87.013691</td>\n",
       "      <td>82.120103</td>\n",
       "    </tr>\n",
       "  </tbody>\n",
       "</table>\n",
       "</div>"
      ],
      "text/plain": [
       "       DER (DEC)  DER (Spectral)  DER Difference\n",
       "item                                            \n",
       "qjgpl  58.585535       23.713084      -34.872451\n",
       "mevkw  83.032581       54.461153      -28.571429\n",
       "ehpau  31.754241       11.828713      -19.925528\n",
       "falxo  61.040005       42.708300      -18.331705\n",
       "cqaec  38.985241       29.348762       -9.636478\n",
       "pilgb  15.796775        9.453537       -6.343239\n",
       "luvfz  28.499016       24.426024       -4.072992\n",
       "hgdez  13.055585       12.424016       -0.631569\n",
       "dhorc   5.096795        4.546283       -0.550512\n",
       "kbkon   3.126518        2.750121       -0.376396\n",
       "vmaiq  17.553682       17.448103       -0.105579\n",
       "kckqn   2.390522        2.368015       -0.022507\n",
       "jsdmu  12.848572       12.848572        0.000000\n",
       "ysgbf   5.300844        5.300844        0.000000\n",
       "oxxwk  29.356791       29.356791        0.000000\n",
       "cmhsm   2.571929        2.571929        0.000000\n",
       "pnook  33.123355       33.123355        0.000000\n",
       "ufpel  33.297790       33.297790        0.000000\n",
       "ngyrk   8.134614        8.403190        0.268577\n",
       "jnivh   2.006673        2.488646        0.481972\n",
       "txcok   2.321460        2.832840        0.511379\n",
       "irvat   3.195128        3.754859        0.559731\n",
       "zyffh   3.466285        4.119109        0.652824\n",
       "blwmj   1.893200        2.686270        0.793070\n",
       "djngn   2.337598        3.155758        0.818159\n",
       "qygfk   3.359364        4.180037        0.820673\n",
       "bravd   9.482496       10.675433        1.192937\n",
       "ahnss   3.505548        5.298684        1.793137\n",
       "uatlu  23.474117       25.590241        2.116125\n",
       "uvnmy   4.290582        6.496283        2.205700\n",
       "xmfzh  15.886634       18.217857        2.331223\n",
       "fsaal   3.583821        7.086315        3.502494\n",
       "eapdk   8.666388       14.603467        5.937079\n",
       "imbqf   3.743185        9.773417        6.030233\n",
       "akthc  21.759396       30.051025        8.291630\n",
       "esrit   6.053467       14.647137        8.593670\n",
       "ccokr   9.247530       18.887763        9.640233\n",
       "sduml   9.958199       21.645240       11.687042\n",
       "gofnj  14.663680       27.935136       13.271457\n",
       "aufkn   4.697883       22.547994       17.850111\n",
       "tguxv  25.509072       43.545358       18.036286\n",
       "goyli   5.953693       26.150145       20.196452\n",
       "gwtwd  11.032028       32.692764       21.660735\n",
       "ycxxe   4.393707       32.935533       28.541827\n",
       "sosnj   5.911210       34.650738       28.739529\n",
       "gzvkx   3.484163       37.159377       33.675214\n",
       "wmori   7.530722       49.280538       41.749816\n",
       "szsyz  19.026258       79.835886       60.809628\n",
       "bkwns  10.480669       89.226750       78.746082\n",
       "plbbw   4.893588       87.013691       82.120103"
      ]
     },
     "execution_count": 13,
     "metadata": {
      "tags": []
     },
     "output_type": "execute_result"
    }
   ],
   "source": [
    "df_both"
   ]
  },
  {
   "cell_type": "code",
   "execution_count": 14,
   "metadata": {
    "colab": {
     "base_uri": "https://localhost:8080/"
    },
    "executionInfo": {
     "elapsed": 1809,
     "status": "ok",
     "timestamp": 1620721448966,
     "user": {
      "displayName": "Shashi Kant",
      "photoUrl": "https://lh3.googleusercontent.com/a-/AOh14GiHv2woo7B1czb0XKsLBEOsgMWsuYITOryCdNNv7A=s64",
      "userId": "09783338171816410510"
     },
     "user_tz": -330
    },
    "id": "cNkpz4-XpHDs",
    "outputId": "c998b1b4-83e5-4d7a-8087-b026c9644b96"
   },
   "outputs": [
    {
     "name": "stdout",
     "output_type": "stream",
     "text": [
      "Better DER for 32 examples.\n",
      "Poor DER for 12 examples.\n",
      "Same DER for 6 examples.\n"
     ]
    }
   ],
   "source": [
    "print(\"Better DER for\", np.sum(df_both['DER Difference'].values>0), \"examples.\")\n",
    "print(\"Poor DER for\", np.sum(df_both['DER Difference'].values<0), \"examples.\")\n",
    "print(\"Same DER for\", np.sum(df_both['DER Difference'].values==0), \"examples.\")"
   ]
  },
  {
   "cell_type": "code",
   "execution_count": 15,
   "metadata": {
    "executionInfo": {
     "elapsed": 1553,
     "status": "ok",
     "timestamp": 1620721460519,
     "user": {
      "displayName": "Shashi Kant",
      "photoUrl": "https://lh3.googleusercontent.com/a-/AOh14GiHv2woo7B1czb0XKsLBEOsgMWsuYITOryCdNNv7A=s64",
      "userId": "09783338171816410510"
     },
     "user_tz": -330
    },
    "id": "vnXwVIAwqoSC"
   },
   "outputs": [],
   "source": [
    "filenames = [\"hgdez\"] + list(df_both.index[[-1, -2, -3, 2, 1, 0]])"
   ]
  },
  {
   "cell_type": "code",
   "execution_count": 17,
   "metadata": {
    "colab": {
     "base_uri": "https://localhost:8080/",
     "height": 1000
    },
    "executionInfo": {
     "elapsed": 9181,
     "status": "ok",
     "timestamp": 1620721590744,
     "user": {
      "displayName": "Shashi Kant",
      "photoUrl": "https://lh3.googleusercontent.com/a-/AOh14GiHv2woo7B1czb0XKsLBEOsgMWsuYITOryCdNNv7A=s64",
      "userId": "09783338171816410510"
     },
     "user_tz": -330
    },
    "id": "9hAGvSouLxTe",
    "outputId": "1776ec2c-72c1-4af0-b08a-9053029fc3f4"
   },
   "outputs": [
    {
     "name": "stdout",
     "output_type": "stream",
     "text": [
      "\n",
      "---------------------------\n",
      "DEC\n",
      "---------------------------\n",
      "\n"
     ]
    },
    {
     "data": {
      "image/png": "[encoded data removed]",
      "text/plain": [
       "<Figure size 1728x504 with 2 Axes>"
      ]
     },
     "metadata": {
      "needs_background": "light",
      "tags": []
     },
     "output_type": "display_data"
    },
    {
     "name": "stdout",
     "output_type": "stream",
     "text": [
      "\n",
      "---------------------------\n",
      "Spectral\n",
      "---------------------------\n",
      "\n"
     ]
    },
    {
     "data": {
      "image/png": "[encoded data removed]",
      "text/plain": [
       "<Figure size 1728x504 with 2 Axes>"
      ]
     },
     "metadata": {
      "needs_background": "light",
      "tags": []
     },
     "output_type": "display_data"
    },
    {
     "name": "stdout",
     "output_type": "stream",
     "text": [
      "\n",
      "---------------------------\n",
      "DEC\n",
      "---------------------------\n",
      "\n"
     ]
    },
    {
     "data": {
      "image/png": "[encoded data removed]",
      "text/plain": [
       "<Figure size 1728x504 with 2 Axes>"
      ]
     },
     "metadata": {
      "needs_background": "light",
      "tags": []
     },
     "output_type": "display_data"
    },
    {
     "name": "stdout",
     "output_type": "stream",
     "text": [
      "\n",
      "---------------------------\n",
      "Spectral\n",
      "---------------------------\n",
      "\n"
     ]
    },
    {
     "data": {
      "image/png": "[encoded data removed]",
      "text/plain": [
       "<Figure size 1728x504 with 2 Axes>"
      ]
     },
     "metadata": {
      "needs_background": "light",
      "tags": []
     },
     "output_type": "display_data"
    },
    {
     "name": "stdout",
     "output_type": "stream",
     "text": [
      "\n",
      "---------------------------\n",
      "DEC\n",
      "---------------------------\n",
      "\n"
     ]
    },
    {
     "data": {
      "image/png": "[encoded data removed]",
      "text/plain": [
       "<Figure size 1728x504 with 2 Axes>"
      ]
     },
     "metadata": {
      "needs_background": "light",
      "tags": []
     },
     "output_type": "display_data"
    },
    {
     "name": "stdout",
     "output_type": "stream",
     "text": [
      "\n",
      "---------------------------\n",
      "Spectral\n",
      "---------------------------\n",
      "\n"
     ]
    },
    {
     "data": {
      "image/png": "[encoded data removed]",
      "text/plain": [
       "<Figure size 1728x504 with 2 Axes>"
      ]
     },
     "metadata": {
      "needs_background": "light",
      "tags": []
     },
     "output_type": "display_data"
    },
    {
     "name": "stdout",
     "output_type": "stream",
     "text": [
      "\n",
      "---------------------------\n",
      "DEC\n",
      "---------------------------\n",
      "\n"
     ]
    },
    {
     "data": {
      "image/png": "[encoded data removed]",
      "text/plain": [
       "<Figure size 1728x504 with 2 Axes>"
      ]
     },
     "metadata": {
      "needs_background": "light",
      "tags": []
     },
     "output_type": "display_data"
    },
    {
     "name": "stdout",
     "output_type": "stream",
     "text": [
      "\n",
      "---------------------------\n",
      "Spectral\n",
      "---------------------------\n",
      "\n"
     ]
    },
    {
     "data": {
      "image/png": "[encoded data removed]",
      "text/plain": [
       "<Figure size 1728x504 with 2 Axes>"
      ]
     },
     "metadata": {
      "needs_background": "light",
      "tags": []
     },
     "output_type": "display_data"
    },
    {
     "name": "stdout",
     "output_type": "stream",
     "text": [
      "\n",
      "---------------------------\n",
      "DEC\n",
      "---------------------------\n",
      "\n"
     ]
    },
    {
     "data": {
      "image/png": "[encoded data removed]",
      "text/plain": [
       "<Figure size 1728x504 with 2 Axes>"
      ]
     },
     "metadata": {
      "needs_background": "light",
      "tags": []
     },
     "output_type": "display_data"
    },
    {
     "name": "stdout",
     "output_type": "stream",
     "text": [
      "\n",
      "---------------------------\n",
      "Spectral\n",
      "---------------------------\n",
      "\n"
     ]
    },
    {
     "data": {
      "image/png": "[encoded data removed]",
      "text/plain": [
       "<Figure size 1728x504 with 2 Axes>"
      ]
     },
     "metadata": {
      "needs_background": "light",
      "tags": []
     },
     "output_type": "display_data"
    },
    {
     "name": "stdout",
     "output_type": "stream",
     "text": [
      "\n",
      "---------------------------\n",
      "DEC\n",
      "---------------------------\n",
      "\n"
     ]
    },
    {
     "data": {
      "image/png": "[encoded data removed]",
      "text/plain": [
       "<Figure size 1728x504 with 2 Axes>"
      ]
     },
     "metadata": {
      "needs_background": "light",
      "tags": []
     },
     "output_type": "display_data"
    },
    {
     "name": "stdout",
     "output_type": "stream",
     "text": [
      "\n",
      "---------------------------\n",
      "Spectral\n",
      "---------------------------\n",
      "\n"
     ]
    },
    {
     "data": {
      "image/png": "[encoded data removed]",
      "text/plain": [
       "<Figure size 1728x504 with 2 Axes>"
      ]
     },
     "metadata": {
      "needs_background": "light",
      "tags": []
     },
     "output_type": "display_data"
    },
    {
     "name": "stdout",
     "output_type": "stream",
     "text": [
      "\n",
      "---------------------------\n",
      "DEC\n",
      "---------------------------\n",
      "\n"
     ]
    },
    {
     "data": {
      "image/png": "[encoded data removed]",
      "text/plain": [
       "<Figure size 1728x504 with 2 Axes>"
      ]
     },
     "metadata": {
      "needs_background": "light",
      "tags": []
     },
     "output_type": "display_data"
    },
    {
     "name": "stdout",
     "output_type": "stream",
     "text": [
      "\n",
      "---------------------------\n",
      "Spectral\n",
      "---------------------------\n",
      "\n"
     ]
    },
    {
     "data": {
      "image/png": "[encoded data removed]",
      "text/plain": [
       "<Figure size 1728x504 with 2 Axes>"
      ]
     },
     "metadata": {
      "needs_background": "light",
      "tags": []
     },
     "output_type": "display_data"
    }
   ],
   "source": [
    "for name in filenames:\n",
    "    print(\"\\n---------------------------\\nDEC\\n---------------------------\\n\")\n",
    "    plot_annot(name=name, collar=0.25, skip_overlap=True, groundtruth_path=audio_dataset.label_dir, hypothesis_path=hypothesis_dir_dec)\n",
    "    plt.show()\n",
    "\n",
    "    print(\"\\n---------------------------\\nSpectral\\n---------------------------\\n\")\n",
    "    plot_annot(name=name, collar=0.25, skip_overlap=True, groundtruth_path=audio_dataset.label_dir, hypothesis_path=hypothesis_dir_spectral)\n",
    "    plt.show()"
   ]
  },
  {
   "cell_type": "code",
   "execution_count": null,
   "metadata": {
    "id": "M6diVRDO1wt8"
   },
   "outputs": [],
   "source": []
  }
 ],
 "metadata": {
  "accelerator": "GPU",
  "colab": {
   "collapsed_sections": [],
   "name": "Compare_Spectral_Vs_DEC_VoxConverse.ipynb",
   "provenance": []
  },
  "kernelspec": {
   "display_name": "Python 3",
   "language": "python",
   "name": "python3"
  },
  "language_info": {
   "codemirror_mode": {
    "name": "ipython",
    "version": 3
   },
   "file_extension": ".py",
   "mimetype": "text/x-python",
   "name": "python",
   "nbconvert_exporter": "python",
   "pygments_lexer": "ipython3",
   "version": "3.7.6"
  },
  "widgets": {
   "application/vnd.jupyter.widget-state+json": {
    "079db2b288ba4de3ba010d9b9dedc103": {
     "model_module": "@jupyter-widgets/base",
     "model_name": "LayoutModel",
     "state": {
      "_model_module": "@jupyter-widgets/base",
      "_model_module_version": "1.2.0",
      "_model_name": "LayoutModel",
      "_view_count": null,
      "_view_module": "@jupyter-widgets/base",
      "_view_module_version": "1.2.0",
      "_view_name": "LayoutView",
      "align_content": null,
      "align_items": null,
      "align_self": null,
      "border": null,
      "bottom": null,
      "display": null,
      "flex": null,
      "flex_flow": null,
      "grid_area": null,
      "grid_auto_columns": null,
      "grid_auto_flow": null,
      "grid_auto_rows": null,
      "grid_column": null,
      "grid_gap": null,
      "grid_row": null,
      "grid_template_areas": null,
      "grid_template_columns": null,
      "grid_template_rows": null,
      "height": null,
      "justify_content": null,
      "justify_items": null,
      "left": null,
      "margin": null,
      "max_height": null,
      "max_width": null,
      "min_height": null,
      "min_width": null,
      "object_fit": null,
      "object_position": null,
      "order": null,
      "overflow": null,
      "overflow_x": null,
      "overflow_y": null,
      "padding": null,
      "right": null,
      "top": null,
      "visibility": null,
      "width": null
     }
    },
    "1751d65c8e3b43aeb52fb635fb050a76": {
     "model_module": "@jupyter-widgets/controls",
     "model_name": "HBoxModel",
     "state": {
      "_dom_classes": [],
      "_model_module": "@jupyter-widgets/controls",
      "_model_module_version": "1.5.0",
      "_model_name": "HBoxModel",
      "_view_count": null,
      "_view_module": "@jupyter-widgets/controls",
      "_view_module_version": "1.5.0",
      "_view_name": "HBoxView",
      "box_style": "",
      "children": [
       "IPY_MODEL_817e2afd12c74c0d88ee45e9abbc4820",
       "IPY_MODEL_3f4ff9fbd05f43818c5105674358bc3f"
      ],
      "layout": "IPY_MODEL_bd8050d867ce48659cbd6d059fdb6aa1"
     }
    },
    "1f844a0ffdc7403296cf159a20d15200": {
     "model_module": "@jupyter-widgets/controls",
     "model_name": "HBoxModel",
     "state": {
      "_dom_classes": [],
      "_model_module": "@jupyter-widgets/controls",
      "_model_module_version": "1.5.0",
      "_model_name": "HBoxModel",
      "_view_count": null,
      "_view_module": "@jupyter-widgets/controls",
      "_view_module_version": "1.5.0",
      "_view_name": "HBoxView",
      "box_style": "",
      "children": [
       "IPY_MODEL_7333159d49984747b37f1ed969d35550",
       "IPY_MODEL_95008d85c79d45bfbd4cc532564f4dc5"
      ],
      "layout": "IPY_MODEL_ce0ffbabb397468bbb739440b49e1770"
     }
    },
    "2b42c6816c74455086de89769b152197": {
     "model_module": "@jupyter-widgets/base",
     "model_name": "LayoutModel",
     "state": {
      "_model_module": "@jupyter-widgets/base",
      "_model_module_version": "1.2.0",
      "_model_name": "LayoutModel",
      "_view_count": null,
      "_view_module": "@jupyter-widgets/base",
      "_view_module_version": "1.2.0",
      "_view_name": "LayoutView",
      "align_content": null,
      "align_items": null,
      "align_self": null,
      "border": null,
      "bottom": null,
      "display": null,
      "flex": null,
      "flex_flow": null,
      "grid_area": null,
      "grid_auto_columns": null,
      "grid_auto_flow": null,
      "grid_auto_rows": null,
      "grid_column": null,
      "grid_gap": null,
      "grid_row": null,
      "grid_template_areas": null,
      "grid_template_columns": null,
      "grid_template_rows": null,
      "height": null,
      "justify_content": null,
      "justify_items": null,
      "left": null,
      "margin": null,
      "max_height": null,
      "max_width": null,
      "min_height": null,
      "min_width": null,
      "object_fit": null,
      "object_position": null,
      "order": null,
      "overflow": null,
      "overflow_x": null,
      "overflow_y": null,
      "padding": null,
      "right": null,
      "top": null,
      "visibility": null,
      "width": null
     }
    },
    "2c32faa5a65a44a698c02349f10a6fb7": {
     "model_module": "@jupyter-widgets/controls",
     "model_name": "ProgressStyleModel",
     "state": {
      "_model_module": "@jupyter-widgets/controls",
      "_model_module_version": "1.5.0",
      "_model_name": "ProgressStyleModel",
      "_view_count": null,
      "_view_module": "@jupyter-widgets/base",
      "_view_module_version": "1.2.0",
      "_view_name": "StyleView",
      "bar_color": null,
      "description_width": "initial"
     }
    },
    "2e582449c2cf4cad950d785ca2835d00": {
     "model_module": "@jupyter-widgets/base",
     "model_name": "LayoutModel",
     "state": {
      "_model_module": "@jupyter-widgets/base",
      "_model_module_version": "1.2.0",
      "_model_name": "LayoutModel",
      "_view_count": null,
      "_view_module": "@jupyter-widgets/base",
      "_view_module_version": "1.2.0",
      "_view_name": "LayoutView",
      "align_content": null,
      "align_items": null,
      "align_self": null,
      "border": null,
      "bottom": null,
      "display": null,
      "flex": null,
      "flex_flow": null,
      "grid_area": null,
      "grid_auto_columns": null,
      "grid_auto_flow": null,
      "grid_auto_rows": null,
      "grid_column": null,
      "grid_gap": null,
      "grid_row": null,
      "grid_template_areas": null,
      "grid_template_columns": null,
      "grid_template_rows": null,
      "height": null,
      "justify_content": null,
      "justify_items": null,
      "left": null,
      "margin": null,
      "max_height": null,
      "max_width": null,
      "min_height": null,
      "min_width": null,
      "object_fit": null,
      "object_position": null,
      "order": null,
      "overflow": null,
      "overflow_x": null,
      "overflow_y": null,
      "padding": null,
      "right": null,
      "top": null,
      "visibility": null,
      "width": null
     }
    },
    "2e88f3cc697f4232b7b9d6c6a093dead": {
     "model_module": "@jupyter-widgets/controls",
     "model_name": "DescriptionStyleModel",
     "state": {
      "_model_module": "@jupyter-widgets/controls",
      "_model_module_version": "1.5.0",
      "_model_name": "DescriptionStyleModel",
      "_view_count": null,
      "_view_module": "@jupyter-widgets/base",
      "_view_module_version": "1.2.0",
      "_view_name": "StyleView",
      "description_width": ""
     }
    },
    "3f4ff9fbd05f43818c5105674358bc3f": {
     "model_module": "@jupyter-widgets/controls",
     "model_name": "HTMLModel",
     "state": {
      "_dom_classes": [],
      "_model_module": "@jupyter-widgets/controls",
      "_model_module_version": "1.5.0",
      "_model_name": "HTMLModel",
      "_view_count": null,
      "_view_module": "@jupyter-widgets/controls",
      "_view_module_version": "1.5.0",
      "_view_name": "HTMLView",
      "description": "",
      "description_tooltip": null,
      "layout": "IPY_MODEL_689a21a298e6464088688643942ee044",
      "placeholder": "​",
      "style": "IPY_MODEL_a3d5a0f5fc1b4bbcb21f240139cef480",
      "value": " 50/50 [04:57&lt;00:00,  5.96s/it]"
     }
    },
    "49f21726406a4a058675e78fad43bff2": {
     "model_module": "@jupyter-widgets/controls",
     "model_name": "DescriptionStyleModel",
     "state": {
      "_model_module": "@jupyter-widgets/controls",
      "_model_module_version": "1.5.0",
      "_model_name": "DescriptionStyleModel",
      "_view_count": null,
      "_view_module": "@jupyter-widgets/base",
      "_view_module_version": "1.2.0",
      "_view_name": "StyleView",
      "description_width": ""
     }
    },
    "565b4861e87849a7af8725f540b2919e": {
     "model_module": "@jupyter-widgets/controls",
     "model_name": "HBoxModel",
     "state": {
      "_dom_classes": [],
      "_model_module": "@jupyter-widgets/controls",
      "_model_module_version": "1.5.0",
      "_model_name": "HBoxModel",
      "_view_count": null,
      "_view_module": "@jupyter-widgets/controls",
      "_view_module_version": "1.5.0",
      "_view_name": "HBoxView",
      "box_style": "",
      "children": [
       "IPY_MODEL_cb3cde767487455fba33a2e8264eb848",
       "IPY_MODEL_fbdd194af6ce4eb68cb7ffc4d8a6bf12"
      ],
      "layout": "IPY_MODEL_c900a436853b410881055f3e83c40e89"
     }
    },
    "58b268f754884cf1a572456bb1085e10": {
     "model_module": "@jupyter-widgets/base",
     "model_name": "LayoutModel",
     "state": {
      "_model_module": "@jupyter-widgets/base",
      "_model_module_version": "1.2.0",
      "_model_name": "LayoutModel",
      "_view_count": null,
      "_view_module": "@jupyter-widgets/base",
      "_view_module_version": "1.2.0",
      "_view_name": "LayoutView",
      "align_content": null,
      "align_items": null,
      "align_self": null,
      "border": null,
      "bottom": null,
      "display": null,
      "flex": null,
      "flex_flow": null,
      "grid_area": null,
      "grid_auto_columns": null,
      "grid_auto_flow": null,
      "grid_auto_rows": null,
      "grid_column": null,
      "grid_gap": null,
      "grid_row": null,
      "grid_template_areas": null,
      "grid_template_columns": null,
      "grid_template_rows": null,
      "height": null,
      "justify_content": null,
      "justify_items": null,
      "left": null,
      "margin": null,
      "max_height": null,
      "max_width": null,
      "min_height": null,
      "min_width": null,
      "object_fit": null,
      "object_position": null,
      "order": null,
      "overflow": null,
      "overflow_x": null,
      "overflow_y": null,
      "padding": null,
      "right": null,
      "top": null,
      "visibility": null,
      "width": null
     }
    },
    "5d9776f13eb4422ea01fa9e595603507": {
     "model_module": "@jupyter-widgets/controls",
     "model_name": "HBoxModel",
     "state": {
      "_dom_classes": [],
      "_model_module": "@jupyter-widgets/controls",
      "_model_module_version": "1.5.0",
      "_model_name": "HBoxModel",
      "_view_count": null,
      "_view_module": "@jupyter-widgets/controls",
      "_view_module_version": "1.5.0",
      "_view_name": "HBoxView",
      "box_style": "",
      "children": [
       "IPY_MODEL_ac657f273b274cc5a0f73e1fd415f822",
       "IPY_MODEL_7cf3ee7898c64a258faa9b2f2aff74ce"
      ],
      "layout": "IPY_MODEL_079db2b288ba4de3ba010d9b9dedc103"
     }
    },
    "689a21a298e6464088688643942ee044": {
     "model_module": "@jupyter-widgets/base",
     "model_name": "LayoutModel",
     "state": {
      "_model_module": "@jupyter-widgets/base",
      "_model_module_version": "1.2.0",
      "_model_name": "LayoutModel",
      "_view_count": null,
      "_view_module": "@jupyter-widgets/base",
      "_view_module_version": "1.2.0",
      "_view_name": "LayoutView",
      "align_content": null,
      "align_items": null,
      "align_self": null,
      "border": null,
      "bottom": null,
      "display": null,
      "flex": null,
      "flex_flow": null,
      "grid_area": null,
      "grid_auto_columns": null,
      "grid_auto_flow": null,
      "grid_auto_rows": null,
      "grid_column": null,
      "grid_gap": null,
      "grid_row": null,
      "grid_template_areas": null,
      "grid_template_columns": null,
      "grid_template_rows": null,
      "height": null,
      "justify_content": null,
      "justify_items": null,
      "left": null,
      "margin": null,
      "max_height": null,
      "max_width": null,
      "min_height": null,
      "min_width": null,
      "object_fit": null,
      "object_position": null,
      "order": null,
      "overflow": null,
      "overflow_x": null,
      "overflow_y": null,
      "padding": null,
      "right": null,
      "top": null,
      "visibility": null,
      "width": null
     }
    },
    "7333159d49984747b37f1ed969d35550": {
     "model_module": "@jupyter-widgets/controls",
     "model_name": "FloatProgressModel",
     "state": {
      "_dom_classes": [],
      "_model_module": "@jupyter-widgets/controls",
      "_model_module_version": "1.5.0",
      "_model_name": "FloatProgressModel",
      "_view_count": null,
      "_view_module": "@jupyter-widgets/controls",
      "_view_module_version": "1.5.0",
      "_view_name": "ProgressView",
      "bar_style": "success",
      "description": "100%",
      "description_tooltip": null,
      "layout": "IPY_MODEL_e4a6bd06266e4a1b8d298b694f434cd6",
      "max": 50,
      "min": 0,
      "orientation": "horizontal",
      "style": "IPY_MODEL_74e6a4ce01234e02885e3196ff4dbcec",
      "value": 50
     }
    },
    "74e6a4ce01234e02885e3196ff4dbcec": {
     "model_module": "@jupyter-widgets/controls",
     "model_name": "ProgressStyleModel",
     "state": {
      "_model_module": "@jupyter-widgets/controls",
      "_model_module_version": "1.5.0",
      "_model_name": "ProgressStyleModel",
      "_view_count": null,
      "_view_module": "@jupyter-widgets/base",
      "_view_module_version": "1.2.0",
      "_view_name": "StyleView",
      "bar_color": null,
      "description_width": "initial"
     }
    },
    "7cf3ee7898c64a258faa9b2f2aff74ce": {
     "model_module": "@jupyter-widgets/controls",
     "model_name": "HTMLModel",
     "state": {
      "_dom_classes": [],
      "_model_module": "@jupyter-widgets/controls",
      "_model_module_version": "1.5.0",
      "_model_name": "HTMLModel",
      "_view_count": null,
      "_view_module": "@jupyter-widgets/controls",
      "_view_module_version": "1.5.0",
      "_view_name": "HTMLView",
      "description": "",
      "description_tooltip": null,
      "layout": "IPY_MODEL_f1040ae03f054f3ab6edebad55d7a547",
      "placeholder": "​",
      "style": "IPY_MODEL_2e88f3cc697f4232b7b9d6c6a093dead",
      "value": " 50/50 [03:08&lt;00:00,  3.77s/it]"
     }
    },
    "7fcc8fa0edc84cee99a434c563e78439": {
     "model_module": "@jupyter-widgets/base",
     "model_name": "LayoutModel",
     "state": {
      "_model_module": "@jupyter-widgets/base",
      "_model_module_version": "1.2.0",
      "_model_name": "LayoutModel",
      "_view_count": null,
      "_view_module": "@jupyter-widgets/base",
      "_view_module_version": "1.2.0",
      "_view_name": "LayoutView",
      "align_content": null,
      "align_items": null,
      "align_self": null,
      "border": null,
      "bottom": null,
      "display": null,
      "flex": null,
      "flex_flow": null,
      "grid_area": null,
      "grid_auto_columns": null,
      "grid_auto_flow": null,
      "grid_auto_rows": null,
      "grid_column": null,
      "grid_gap": null,
      "grid_row": null,
      "grid_template_areas": null,
      "grid_template_columns": null,
      "grid_template_rows": null,
      "height": null,
      "justify_content": null,
      "justify_items": null,
      "left": null,
      "margin": null,
      "max_height": null,
      "max_width": null,
      "min_height": null,
      "min_width": null,
      "object_fit": null,
      "object_position": null,
      "order": null,
      "overflow": null,
      "overflow_x": null,
      "overflow_y": null,
      "padding": null,
      "right": null,
      "top": null,
      "visibility": null,
      "width": null
     }
    },
    "817e2afd12c74c0d88ee45e9abbc4820": {
     "model_module": "@jupyter-widgets/controls",
     "model_name": "FloatProgressModel",
     "state": {
      "_dom_classes": [],
      "_model_module": "@jupyter-widgets/controls",
      "_model_module_version": "1.5.0",
      "_model_name": "FloatProgressModel",
      "_view_count": null,
      "_view_module": "@jupyter-widgets/controls",
      "_view_module_version": "1.5.0",
      "_view_name": "ProgressView",
      "bar_style": "success",
      "description": "100%",
      "description_tooltip": null,
      "layout": "IPY_MODEL_2e582449c2cf4cad950d785ca2835d00",
      "max": 50,
      "min": 0,
      "orientation": "horizontal",
      "style": "IPY_MODEL_8dc20dffabfe469582d6ee378128bd6e",
      "value": 50
     }
    },
    "828bdb8aef7848d3b4e43a101a3fcfcb": {
     "model_module": "@jupyter-widgets/controls",
     "model_name": "ProgressStyleModel",
     "state": {
      "_model_module": "@jupyter-widgets/controls",
      "_model_module_version": "1.5.0",
      "_model_name": "ProgressStyleModel",
      "_view_count": null,
      "_view_module": "@jupyter-widgets/base",
      "_view_module_version": "1.2.0",
      "_view_name": "StyleView",
      "bar_color": null,
      "description_width": "initial"
     }
    },
    "8dc20dffabfe469582d6ee378128bd6e": {
     "model_module": "@jupyter-widgets/controls",
     "model_name": "ProgressStyleModel",
     "state": {
      "_model_module": "@jupyter-widgets/controls",
      "_model_module_version": "1.5.0",
      "_model_name": "ProgressStyleModel",
      "_view_count": null,
      "_view_module": "@jupyter-widgets/base",
      "_view_module_version": "1.2.0",
      "_view_name": "StyleView",
      "bar_color": null,
      "description_width": "initial"
     }
    },
    "95008d85c79d45bfbd4cc532564f4dc5": {
     "model_module": "@jupyter-widgets/controls",
     "model_name": "HTMLModel",
     "state": {
      "_dom_classes": [],
      "_model_module": "@jupyter-widgets/controls",
      "_model_module_version": "1.5.0",
      "_model_name": "HTMLModel",
      "_view_count": null,
      "_view_module": "@jupyter-widgets/controls",
      "_view_module_version": "1.5.0",
      "_view_name": "HTMLView",
      "description": "",
      "description_tooltip": null,
      "layout": "IPY_MODEL_58b268f754884cf1a572456bb1085e10",
      "placeholder": "​",
      "style": "IPY_MODEL_bc9f0ecb7ef04a4692f9bdaf2233924d",
      "value": " 50/50 [04:13&lt;00:00,  5.07s/it]"
     }
    },
    "a3d5a0f5fc1b4bbcb21f240139cef480": {
     "model_module": "@jupyter-widgets/controls",
     "model_name": "DescriptionStyleModel",
     "state": {
      "_model_module": "@jupyter-widgets/controls",
      "_model_module_version": "1.5.0",
      "_model_name": "DescriptionStyleModel",
      "_view_count": null,
      "_view_module": "@jupyter-widgets/base",
      "_view_module_version": "1.2.0",
      "_view_name": "StyleView",
      "description_width": ""
     }
    },
    "ac657f273b274cc5a0f73e1fd415f822": {
     "model_module": "@jupyter-widgets/controls",
     "model_name": "FloatProgressModel",
     "state": {
      "_dom_classes": [],
      "_model_module": "@jupyter-widgets/controls",
      "_model_module_version": "1.5.0",
      "_model_name": "FloatProgressModel",
      "_view_count": null,
      "_view_module": "@jupyter-widgets/controls",
      "_view_module_version": "1.5.0",
      "_view_name": "ProgressView",
      "bar_style": "success",
      "description": "100%",
      "description_tooltip": null,
      "layout": "IPY_MODEL_2b42c6816c74455086de89769b152197",
      "max": 50,
      "min": 0,
      "orientation": "horizontal",
      "style": "IPY_MODEL_2c32faa5a65a44a698c02349f10a6fb7",
      "value": 50
     }
    },
    "bc9f0ecb7ef04a4692f9bdaf2233924d": {
     "model_module": "@jupyter-widgets/controls",
     "model_name": "DescriptionStyleModel",
     "state": {
      "_model_module": "@jupyter-widgets/controls",
      "_model_module_version": "1.5.0",
      "_model_name": "DescriptionStyleModel",
      "_view_count": null,
      "_view_module": "@jupyter-widgets/base",
      "_view_module_version": "1.2.0",
      "_view_name": "StyleView",
      "description_width": ""
     }
    },
    "bd8050d867ce48659cbd6d059fdb6aa1": {
     "model_module": "@jupyter-widgets/base",
     "model_name": "LayoutModel",
     "state": {
      "_model_module": "@jupyter-widgets/base",
      "_model_module_version": "1.2.0",
      "_model_name": "LayoutModel",
      "_view_count": null,
      "_view_module": "@jupyter-widgets/base",
      "_view_module_version": "1.2.0",
      "_view_name": "LayoutView",
      "align_content": null,
      "align_items": null,
      "align_self": null,
      "border": null,
      "bottom": null,
      "display": null,
      "flex": null,
      "flex_flow": null,
      "grid_area": null,
      "grid_auto_columns": null,
      "grid_auto_flow": null,
      "grid_auto_rows": null,
      "grid_column": null,
      "grid_gap": null,
      "grid_row": null,
      "grid_template_areas": null,
      "grid_template_columns": null,
      "grid_template_rows": null,
      "height": null,
      "justify_content": null,
      "justify_items": null,
      "left": null,
      "margin": null,
      "max_height": null,
      "max_width": null,
      "min_height": null,
      "min_width": null,
      "object_fit": null,
      "object_position": null,
      "order": null,
      "overflow": null,
      "overflow_x": null,
      "overflow_y": null,
      "padding": null,
      "right": null,
      "top": null,
      "visibility": null,
      "width": null
     }
    },
    "c900a436853b410881055f3e83c40e89": {
     "model_module": "@jupyter-widgets/base",
     "model_name": "LayoutModel",
     "state": {
      "_model_module": "@jupyter-widgets/base",
      "_model_module_version": "1.2.0",
      "_model_name": "LayoutModel",
      "_view_count": null,
      "_view_module": "@jupyter-widgets/base",
      "_view_module_version": "1.2.0",
      "_view_name": "LayoutView",
      "align_content": null,
      "align_items": null,
      "align_self": null,
      "border": null,
      "bottom": null,
      "display": null,
      "flex": null,
      "flex_flow": null,
      "grid_area": null,
      "grid_auto_columns": null,
      "grid_auto_flow": null,
      "grid_auto_rows": null,
      "grid_column": null,
      "grid_gap": null,
      "grid_row": null,
      "grid_template_areas": null,
      "grid_template_columns": null,
      "grid_template_rows": null,
      "height": null,
      "justify_content": null,
      "justify_items": null,
      "left": null,
      "margin": null,
      "max_height": null,
      "max_width": null,
      "min_height": null,
      "min_width": null,
      "object_fit": null,
      "object_position": null,
      "order": null,
      "overflow": null,
      "overflow_x": null,
      "overflow_y": null,
      "padding": null,
      "right": null,
      "top": null,
      "visibility": null,
      "width": null
     }
    },
    "cb3cde767487455fba33a2e8264eb848": {
     "model_module": "@jupyter-widgets/controls",
     "model_name": "FloatProgressModel",
     "state": {
      "_dom_classes": [],
      "_model_module": "@jupyter-widgets/controls",
      "_model_module_version": "1.5.0",
      "_model_name": "FloatProgressModel",
      "_view_count": null,
      "_view_module": "@jupyter-widgets/controls",
      "_view_module_version": "1.5.0",
      "_view_name": "ProgressView",
      "bar_style": "success",
      "description": "100%",
      "description_tooltip": null,
      "layout": "IPY_MODEL_f3fbec81fa52443281632dad6860c476",
      "max": 50,
      "min": 0,
      "orientation": "horizontal",
      "style": "IPY_MODEL_828bdb8aef7848d3b4e43a101a3fcfcb",
      "value": 50
     }
    },
    "ce0ffbabb397468bbb739440b49e1770": {
     "model_module": "@jupyter-widgets/base",
     "model_name": "LayoutModel",
     "state": {
      "_model_module": "@jupyter-widgets/base",
      "_model_module_version": "1.2.0",
      "_model_name": "LayoutModel",
      "_view_count": null,
      "_view_module": "@jupyter-widgets/base",
      "_view_module_version": "1.2.0",
      "_view_name": "LayoutView",
      "align_content": null,
      "align_items": null,
      "align_self": null,
      "border": null,
      "bottom": null,
      "display": null,
      "flex": null,
      "flex_flow": null,
      "grid_area": null,
      "grid_auto_columns": null,
      "grid_auto_flow": null,
      "grid_auto_rows": null,
      "grid_column": null,
      "grid_gap": null,
      "grid_row": null,
      "grid_template_areas": null,
      "grid_template_columns": null,
      "grid_template_rows": null,
      "height": null,
      "justify_content": null,
      "justify_items": null,
      "left": null,
      "margin": null,
      "max_height": null,
      "max_width": null,
      "min_height": null,
      "min_width": null,
      "object_fit": null,
      "object_position": null,
      "order": null,
      "overflow": null,
      "overflow_x": null,
      "overflow_y": null,
      "padding": null,
      "right": null,
      "top": null,
      "visibility": null,
      "width": null
     }
    },
    "e4a6bd06266e4a1b8d298b694f434cd6": {
     "model_module": "@jupyter-widgets/base",
     "model_name": "LayoutModel",
     "state": {
      "_model_module": "@jupyter-widgets/base",
      "_model_module_version": "1.2.0",
      "_model_name": "LayoutModel",
      "_view_count": null,
      "_view_module": "@jupyter-widgets/base",
      "_view_module_version": "1.2.0",
      "_view_name": "LayoutView",
      "align_content": null,
      "align_items": null,
      "align_self": null,
      "border": null,
      "bottom": null,
      "display": null,
      "flex": null,
      "flex_flow": null,
      "grid_area": null,
      "grid_auto_columns": null,
      "grid_auto_flow": null,
      "grid_auto_rows": null,
      "grid_column": null,
      "grid_gap": null,
      "grid_row": null,
      "grid_template_areas": null,
      "grid_template_columns": null,
      "grid_template_rows": null,
      "height": null,
      "justify_content": null,
      "justify_items": null,
      "left": null,
      "margin": null,
      "max_height": null,
      "max_width": null,
      "min_height": null,
      "min_width": null,
      "object_fit": null,
      "object_position": null,
      "order": null,
      "overflow": null,
      "overflow_x": null,
      "overflow_y": null,
      "padding": null,
      "right": null,
      "top": null,
      "visibility": null,
      "width": null
     }
    },
    "f1040ae03f054f3ab6edebad55d7a547": {
     "model_module": "@jupyter-widgets/base",
     "model_name": "LayoutModel",
     "state": {
      "_model_module": "@jupyter-widgets/base",
      "_model_module_version": "1.2.0",
      "_model_name": "LayoutModel",
      "_view_count": null,
      "_view_module": "@jupyter-widgets/base",
      "_view_module_version": "1.2.0",
      "_view_name": "LayoutView",
      "align_content": null,
      "align_items": null,
      "align_self": null,
      "border": null,
      "bottom": null,
      "display": null,
      "flex": null,
      "flex_flow": null,
      "grid_area": null,
      "grid_auto_columns": null,
      "grid_auto_flow": null,
      "grid_auto_rows": null,
      "grid_column": null,
      "grid_gap": null,
      "grid_row": null,
      "grid_template_areas": null,
      "grid_template_columns": null,
      "grid_template_rows": null,
      "height": null,
      "justify_content": null,
      "justify_items": null,
      "left": null,
      "margin": null,
      "max_height": null,
      "max_width": null,
      "min_height": null,
      "min_width": null,
      "object_fit": null,
      "object_position": null,
      "order": null,
      "overflow": null,
      "overflow_x": null,
      "overflow_y": null,
      "padding": null,
      "right": null,
      "top": null,
      "visibility": null,
      "width": null
     }
    },
    "f3fbec81fa52443281632dad6860c476": {
     "model_module": "@jupyter-widgets/base",
     "model_name": "LayoutModel",
     "state": {
      "_model_module": "@jupyter-widgets/base",
      "_model_module_version": "1.2.0",
      "_model_name": "LayoutModel",
      "_view_count": null,
      "_view_module": "@jupyter-widgets/base",
      "_view_module_version": "1.2.0",
      "_view_name": "LayoutView",
      "align_content": null,
      "align_items": null,
      "align_self": null,
      "border": null,
      "bottom": null,
      "display": null,
      "flex": null,
      "flex_flow": null,
      "grid_area": null,
      "grid_auto_columns": null,
      "grid_auto_flow": null,
      "grid_auto_rows": null,
      "grid_column": null,
      "grid_gap": null,
      "grid_row": null,
      "grid_template_areas": null,
      "grid_template_columns": null,
      "grid_template_rows": null,
      "height": null,
      "justify_content": null,
      "justify_items": null,
      "left": null,
      "margin": null,
      "max_height": null,
      "max_width": null,
      "min_height": null,
      "min_width": null,
      "object_fit": null,
      "object_position": null,
      "order": null,
      "overflow": null,
      "overflow_x": null,
      "overflow_y": null,
      "padding": null,
      "right": null,
      "top": null,
      "visibility": null,
      "width": null
     }
    },
    "fbdd194af6ce4eb68cb7ffc4d8a6bf12": {
     "model_module": "@jupyter-widgets/controls",
     "model_name": "HTMLModel",
     "state": {
      "_dom_classes": [],
      "_model_module": "@jupyter-widgets/controls",
      "_model_module_version": "1.5.0",
      "_model_name": "HTMLModel",
      "_view_count": null,
      "_view_module": "@jupyter-widgets/controls",
      "_view_module_version": "1.5.0",
      "_view_name": "HTMLView",
      "description": "",
      "description_tooltip": null,
      "layout": "IPY_MODEL_7fcc8fa0edc84cee99a434c563e78439",
      "placeholder": "​",
      "style": "IPY_MODEL_49f21726406a4a058675e78fad43bff2",
      "value": " 50/50 [00:16&lt;00:00,  3.05it/s]"
     }
    }
   }
  }
 },
 "nbformat": 4,
 "nbformat_minor": 1
}
