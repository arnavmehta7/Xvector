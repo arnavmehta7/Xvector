{
 "cells": [
  {
   "cell_type": "markdown",
   "metadata": {
    "id": "DT5hNAsu0X-u"
   },
   "source": [
    "# **LOAD LIBRARIES**"
   ]
  },
  {
   "cell_type": "code",
   "execution_count": 1,
   "metadata": {
    "colab": {
     "base_uri": "https://localhost:8080/"
    },
    "executionInfo": {
     "elapsed": 15750,
     "status": "ok",
     "timestamp": 1620719362178,
     "user": {
      "displayName": "Shashi Kant",
      "photoUrl": "https://lh3.googleusercontent.com/a-/AOh14GiHv2woo7B1czb0XKsLBEOsgMWsuYITOryCdNNv7A=s64",
      "userId": "09783338171816410510"
     },
     "user_tz": -330
    },
    "id": "46zwMZhjUi1e",
    "outputId": "88adf709-1333-482d-f8f9-1e5cd265bf6a"
   },
   "outputs": [
    {
     "name": "stdout",
     "output_type": "stream",
     "text": [
      "\u001b[K     |████████████████████████████████| 1.9MB 32.7MB/s \n",
      "\u001b[K     |████████████████████████████████| 358kB 28.7MB/s \n",
      "\u001b[K     |████████████████████████████████| 1.2MB 43.4MB/s \n",
      "\u001b[K     |████████████████████████████████| 102kB 12.0MB/s \n",
      "\u001b[K     |████████████████████████████████| 645kB 58.4MB/s \n",
      "\u001b[K     |████████████████████████████████| 552kB 59.1MB/s \n",
      "\u001b[K     |████████████████████████████████| 51kB 6.4MB/s \n",
      "\u001b[K     |████████████████████████████████| 51kB 7.6MB/s \n",
      "\u001b[K     |████████████████████████████████| 61kB 8.7MB/s \n",
      "\u001b[K     |████████████████████████████████| 133kB 42.3MB/s \n",
      "\u001b[?25h"
     ]
    }
   ],
   "source": [
    "!pip install torchaudio -q --no-deps\n",
    "!pip install speechbrain -q\n",
    "!pip install spectralcluster -q\n",
    "!pip install pyannote.metrics -q\n",
    "!pip install gdown -q"
   ]
  },
  {
   "cell_type": "code",
   "execution_count": 1,
   "metadata": {
    "colab": {
     "base_uri": "https://localhost:8080/"
    },
    "executionInfo": {
     "elapsed": 5646,
     "status": "ok",
     "timestamp": 1620719776070,
     "user": {
      "displayName": "Shashi Kant",
      "photoUrl": "https://lh3.googleusercontent.com/a-/AOh14GiHv2woo7B1czb0XKsLBEOsgMWsuYITOryCdNNv7A=s64",
      "userId": "09783338171816410510"
     },
     "user_tz": -330
    },
    "id": "2F3EtGFv0jLQ",
    "outputId": "47ed9012-04dd-4d3a-e074-d30800fe5592"
   },
   "outputs": [
    {
     "name": "stdout",
     "output_type": "stream",
     "text": [
      "Downloading...\n",
      "From: https://drive.google.com/uc?id=1XltkNas1LTOck62GIDYT0WcPDPGZEo7P\n",
      "To: /content/utils.py\n",
      "100% 15.4k/15.4k [00:00<00:00, 22.9MB/s]\n",
      "Downloading...\n",
      "From: https://drive.google.com/uc?id=1FWIRF2Kq6JB0fFHwjkZmVfEuGq0-SSC5\n",
      "To: /content/DEC.py\n",
      "100% 10.1k/10.1k [00:00<00:00, 14.9MB/s]\n",
      "Downloading...\n",
      "From: https://drive.google.com/uc?id=1hbepzjAxHTQS5QoAlKNP9zK0nMxdjauJ\n",
      "To: /content/optimumSpeaker.py\n",
      "100% 7.08k/7.08k [00:00<00:00, 10.7MB/s]\n",
      "Downloading...\n",
      "From: https://drive.google.com/uc?id=1RQkezkiXa5DVFHE7g4UKE2v8vcmgJFpm\n",
      "To: /content/baselineMethods.py\n",
      "100% 4.39k/4.39k [00:00<00:00, 3.92MB/s]\n"
     ]
    }
   ],
   "source": [
    "!git clone https://github.com/shashikg/speaker_diarization_ee698.git\n",
    "!cp -r speaker_diarization_ee698/core/. core"
   ]
  },
  {
   "cell_type": "code",
   "execution_count": 2,
   "metadata": {
    "colab": {
     "base_uri": "https://localhost:8080/"
    },
    "executionInfo": {
     "elapsed": 1137,
     "status": "ok",
     "timestamp": 1620719788717,
     "user": {
      "displayName": "Shashi Kant",
      "photoUrl": "https://lh3.googleusercontent.com/a-/AOh14GiHv2woo7B1czb0XKsLBEOsgMWsuYITOryCdNNv7A=s64",
      "userId": "09783338171816410510"
     },
     "user_tz": -330
    },
    "id": "0iqaDi7jb5qQ",
    "outputId": "ad539d8f-69aa-42ca-cd65-53c2a470e54f"
   },
   "outputs": [
    {
     "name": "stdout",
     "output_type": "stream",
     "text": [
      "Populating the interactive namespace from numpy and matplotlib\n"
     ]
    }
   ],
   "source": [
    "%pylab inline"
   ]
  },
  {
   "cell_type": "code",
   "execution_count": 3,
   "metadata": {
    "executionInfo": {
     "elapsed": 8741,
     "status": "ok",
     "timestamp": 1620719799860,
     "user": {
      "displayName": "Shashi Kant",
      "photoUrl": "https://lh3.googleusercontent.com/a-/AOh14GiHv2woo7B1czb0XKsLBEOsgMWsuYITOryCdNNv7A=s64",
      "userId": "09783338171816410510"
     },
     "user_tz": -330
    },
    "id": "FGTt1sJS0bLP"
   },
   "outputs": [],
   "source": [
    "from __future__ import print_function, division\n",
    "import numpy as np\n",
    "import matplotlib.pyplot as plt\n",
    "import torchaudio\n",
    "import os\n",
    "import torch\n",
    "from torch.utils.data import Dataset, DataLoader\n",
    "from speechbrain.pretrained import SpeakerRecognition\n",
    "import warnings\n",
    "warnings.filterwarnings('ignore')\n",
    "\n",
    "from sklearn.cluster import KMeans, SpectralClustering\n",
    "from sklearn import decomposition\n",
    "from tqdm.auto import tqdm\n",
    "\n",
    "from core.utils import DiarizationDataSet, make_rttm, get_metrics, plot_annot\n",
    "import core.baselineMethods as baselineMethods\n",
    "\n",
    "import shutil\n",
    "import pandas as pd"
   ]
  },
  {
   "cell_type": "code",
   "execution_count": 4,
   "metadata": {
    "colab": {
     "base_uri": "https://localhost:8080/"
    },
    "executionInfo": {
     "elapsed": 36972,
     "status": "ok",
     "timestamp": 1620719846503,
     "user": {
      "displayName": "Shashi Kant",
      "photoUrl": "https://lh3.googleusercontent.com/a-/AOh14GiHv2woo7B1czb0XKsLBEOsgMWsuYITOryCdNNv7A=s64",
      "userId": "09783338171816410510"
     },
     "user_tz": -330
    },
    "id": "azc4tDba0-aT",
    "outputId": "494102fb-a4bd-4c8b-c519-a01447c0ef2f"
   },
   "outputs": [
    {
     "name": "stdout",
     "output_type": "stream",
     "text": [
      "Downloading audio dataset...\n"
     ]
    },
    {
     "name": "stderr",
     "output_type": "stream",
     "text": [
      "Downloading...\n",
      "From: https://drive.google.com/uc?id=1c0l9amE_0eVD1soSXvxUvJzuxzFxkn2u\n",
      "To: /content/tmp.zip\n",
      "668MB [00:05, 133MB/s]\n"
     ]
    },
    {
     "name": "stdout",
     "output_type": "stream",
     "text": [
      "Download and Extraction Complete\n",
      "Downloading precomputed VADs...\n"
     ]
    },
    {
     "name": "stderr",
     "output_type": "stream",
     "text": [
      "Downloading...\n",
      "From: https://drive.google.com/uc?id=1Hzhks79Mq9py0yPfxI_e73Nx5M-XbJp6\n",
      "To: /content/tmp.zip\n",
      "100%|██████████| 44.0k/44.0k [00:00<00:00, 8.88MB/s]\n"
     ]
    },
    {
     "name": "stdout",
     "output_type": "stream",
     "text": [
      "Download and Extraction Complete\n",
      "Precomputed X-vectors exists!\n",
      "Will use precomputed features...\n",
      "\n",
      "Downloading precomputed features...\n"
     ]
    },
    {
     "name": "stderr",
     "output_type": "stream",
     "text": [
      "Downloading...\n",
      "From: https://drive.google.com/uc?id=1HjW9caW9f3Bqp2hvz97tvLPEz_fFv01X\n",
      "To: /content/tmp.zip\n",
      "31.0MB [00:00, 36.0MB/s]\n"
     ]
    },
    {
     "name": "stdout",
     "output_type": "stream",
     "text": [
      "Download and Extraction Complete\n",
      "\n",
      "Data size: 16\n"
     ]
    }
   ],
   "source": [
    "audio_dataset = DiarizationDataSet(dataset_name='ami',\n",
    "                                   window_len=1500, \n",
    "                                   window_step=750,\n",
    "                                   split='full',\n",
    "                                   use_oracle_vad=False)\n",
    "\n",
    "print(\"\\nData size:\", len(audio_dataset))"
   ]
  },
  {
   "cell_type": "markdown",
   "metadata": {
    "id": "I6Kjl-jE-uOk"
   },
   "source": [
    "## KMeans - Oracle Number of Speakers"
   ]
  },
  {
   "cell_type": "code",
   "execution_count": 5,
   "metadata": {
    "colab": {
     "base_uri": "https://localhost:8080/",
     "height": 455,
     "referenced_widgets": [
      "0b6025e73fc24d19b933827c8cfe1e29",
      "e7018abc33f04e4f8761f5411e9dec6e",
      "10632d2d032543bf9162ad541ff7374a",
      "84a593a71d464215b840da9ec6f817cf",
      "1c169868e5214da8b225f8abc122a2bc",
      "9096c52e791941a29cd3d0aadfc8a734",
      "c6d13a3548f24658913dc0166af5ef39",
      "6788b3dbc6e243f2b65cd0fce2b2b789",
      "7acb8134f96f4a739617df5237cfc55a",
      "6c3e2647b15e436e97d4630fa3e2c6b3",
      "89449b349acb4f2baffa352c1b8dd2d7",
      "ab4779baa156465d98f5ca7ef224de77",
      "c8807d011eed4936a71d93f96ed2dc9f",
      "7f75d05e5a5c4a899881facc416dbca6",
      "bc368bcf7f29470ba83645da21c3fc73",
      "db68e1a8d10943578c7e390428eda12a"
     ]
    },
    "executionInfo": {
     "elapsed": 22948,
     "status": "ok",
     "timestamp": 1620719964625,
     "user": {
      "displayName": "Shashi Kant",
      "photoUrl": "https://lh3.googleusercontent.com/a-/AOh14GiHv2woo7B1czb0XKsLBEOsgMWsuYITOryCdNNv7A=s64",
      "userId": "09783338171816410510"
     },
     "user_tz": -330
    },
    "id": "k18nyRCpSmO0",
    "outputId": "9093ff7b-a6f5-434e-9c50-9241b9095984"
   },
   "outputs": [
    {
     "data": {
      "application/vnd.jupyter.widget-view+json": {
       "model_id": "0b6025e73fc24d19b933827c8cfe1e29",
       "version_major": 2,
       "version_minor": 0
      },
      "text/plain": [
       "HBox(children=(FloatProgress(value=0.0, max=16.0), HTML(value='')))"
      ]
     },
     "metadata": {
      "tags": []
     },
     "output_type": "display_data"
    },
    {
     "name": "stdout",
     "output_type": "stream",
     "text": [
      "\n"
     ]
    },
    {
     "data": {
      "application/vnd.jupyter.widget-view+json": {
       "model_id": "7acb8134f96f4a739617df5237cfc55a",
       "version_major": 2,
       "version_minor": 0
      },
      "text/plain": [
       "HBox(children=(FloatProgress(value=0.0, max=16.0), HTML(value='')))"
      ]
     },
     "metadata": {
      "tags": []
     },
     "output_type": "display_data"
    },
    {
     "name": "stdout",
     "output_type": "stream",
     "text": [
      "\n",
      "        diarization error rate    total  correct correct false alarm false alarm missed detection missed detection confusion confusion\n",
      "                             %                         %                       %                                 %                   %\n",
      "item                                                                                                                                  \n",
      "EN2002a                  18.99  1234.81  1117.81   90.52      117.47        9.51            77.60             6.28     39.40      3.19\n",
      "EN2002b                  21.34   989.65   881.36   89.06      102.90       10.40            64.87             6.55     43.42      4.39\n",
      "EN2002c                  15.73  1839.89  1699.15   92.35      148.76        8.09           104.32             5.67     36.42      1.98\n",
      "EN2002d                  20.59  1214.34  1074.12   88.45      109.77        9.04            81.75             6.73     58.47      4.81\n",
      "ES2004a                  36.91   607.99   487.94   80.25      104.37       17.17            45.17             7.43     74.88     12.32\n",
      "ES2004b                  13.77  1710.57  1605.43   93.85      130.39        7.62            83.53             4.88     21.61      1.26\n",
      "ES2004c                  15.14  1689.12  1606.06   95.08      172.69       10.22            63.72             3.77     19.34      1.14\n",
      "ES2004d                  20.62  1331.38  1191.82   89.52      134.94       10.14           101.91             7.65     37.65      2.83\n",
      "IS1009a                  22.22   480.18   421.97   87.88       48.47       10.09            26.66             5.55     31.55      6.57\n",
      "IS1009b                   8.30  1517.14  1444.35   95.20       53.12        3.50            58.31             3.84     14.48      0.95\n",
      "IS1009c                   9.86  1362.55  1314.07   96.44       85.81        6.30            34.65             2.54     13.83      1.02\n",
      "IS1009d                  18.50  1279.88  1159.44   90.59      116.40        9.09            68.55             5.36     51.89      4.05\n",
      "TS3003a                  55.84   877.51   503.17   57.34      115.66       13.18            60.78             6.93    313.56     35.73\n",
      "TS3003b                  18.24  1574.64  1477.81   93.85      190.46       12.10            61.03             3.88     35.80      2.27\n",
      "TS3003c                  19.11  1623.81  1486.76   91.56      173.20       10.67            88.51             5.45     48.54      2.99\n",
      "TS3003d                  27.60  1500.78  1317.99   87.82      231.41       15.42           117.73             7.84     65.06      4.34\n",
      "TOTAL                    19.59 20834.24 18789.25   90.18     2035.82        9.77          1139.09             5.47    905.90      4.35\n"
     ]
    }
   ],
   "source": [
    "hypothesis_dir = baselineMethods.diarizationOracleNumSpkrs(audio_dataset, method=\"KMeans\")\n",
    "metric = get_metrics(audio_dataset.label_dir, hypothesis_dir)\n",
    "print(metric)"
   ]
  },
  {
   "cell_type": "code",
   "execution_count": 6,
   "metadata": {
    "colab": {
     "base_uri": "https://localhost:8080/",
     "height": 142
    },
    "executionInfo": {
     "elapsed": 1117,
     "status": "ok",
     "timestamp": 1620719971040,
     "user": {
      "displayName": "Shashi Kant",
      "photoUrl": "https://lh3.googleusercontent.com/a-/AOh14GiHv2woo7B1czb0XKsLBEOsgMWsuYITOryCdNNv7A=s64",
      "userId": "09783338171816410510"
     },
     "user_tz": -330
    },
    "id": "K08l7xhCQY20",
    "outputId": "801a9aaf-1ece-472a-bc03-4aa759560050"
   },
   "outputs": [
    {
     "data": {
      "text/html": [
       "<div>\n",
       "<style scoped>\n",
       "    .dataframe tbody tr th:only-of-type {\n",
       "        vertical-align: middle;\n",
       "    }\n",
       "\n",
       "    .dataframe tbody tr th {\n",
       "        vertical-align: top;\n",
       "    }\n",
       "\n",
       "    .dataframe thead tr th {\n",
       "        text-align: left;\n",
       "    }\n",
       "\n",
       "    .dataframe thead tr:last-of-type th {\n",
       "        text-align: right;\n",
       "    }\n",
       "</style>\n",
       "<table border=\"1\" class=\"dataframe\">\n",
       "  <thead>\n",
       "    <tr>\n",
       "      <th></th>\n",
       "      <th>diarization error rate</th>\n",
       "      <th>false alarm</th>\n",
       "      <th>missed detection</th>\n",
       "      <th>confusion</th>\n",
       "    </tr>\n",
       "    <tr>\n",
       "      <th></th>\n",
       "      <th>%</th>\n",
       "      <th>%</th>\n",
       "      <th>%</th>\n",
       "      <th>%</th>\n",
       "    </tr>\n",
       "    <tr>\n",
       "      <th>item</th>\n",
       "      <th></th>\n",
       "      <th></th>\n",
       "      <th></th>\n",
       "      <th></th>\n",
       "    </tr>\n",
       "  </thead>\n",
       "  <tbody>\n",
       "    <tr>\n",
       "      <th>TOTAL</th>\n",
       "      <td>19.587051</td>\n",
       "      <td>9.771509</td>\n",
       "      <td>5.467412</td>\n",
       "      <td>4.34813</td>\n",
       "    </tr>\n",
       "  </tbody>\n",
       "</table>\n",
       "</div>"
      ],
      "text/plain": [
       "      diarization error rate false alarm missed detection confusion\n",
       "                           %           %                %         %\n",
       "item                                                               \n",
       "TOTAL              19.587051    9.771509         5.467412   4.34813"
      ]
     },
     "execution_count": 6,
     "metadata": {
      "tags": []
     },
     "output_type": "execute_result"
    }
   ],
   "source": [
    "df = metric.report()\n",
    "dfT = df[-1:]\n",
    "dfT[[dfT.keys()[0], dfT.keys()[5], dfT.keys()[7], dfT.keys()[9]]]"
   ]
  },
  {
   "cell_type": "markdown",
   "metadata": {
    "id": "XGp-ryjr-xXJ"
   },
   "source": [
    "## Spectral - Oracle Number of Speakers"
   ]
  },
  {
   "cell_type": "code",
   "execution_count": 7,
   "metadata": {
    "colab": {
     "base_uri": "https://localhost:8080/",
     "height": 455,
     "referenced_widgets": [
      "4ef88a7e70544601900bd686986e50e5",
      "9acdb6ea4f394be984e743a8a1228ccb",
      "e12c3bdfac644332a47d9437751cdfff",
      "cafb4a4eeaf045e689446444d7c828b4",
      "49f0c8737b354160a22a48ff53c2dae2",
      "989edd9985aa4a4b85144a9587a4cafb",
      "2ed6e82fe7ab4a1187df2890a1f7bb74",
      "d6e982cde2404a9f8477e99bc26feba7",
      "a75daeafc280423f86deab8edb6ce710",
      "220da486094d472ea42cfaf4fbf0ff57",
      "71deda6af0c94e71bd703e7f4a090881",
      "86ff7d0fcf554069a744e5491be2d300",
      "713ff7e755c94efe87057bf9afe896b5",
      "938068c08aec43cbbe02072d4a291bd9",
      "ab1c17dc3aff49b084e91ec1853732e7",
      "971928fa633b4fd28da6b15e61d75176"
     ]
    },
    "executionInfo": {
     "elapsed": 39270,
     "status": "ok",
     "timestamp": 1620720022568,
     "user": {
      "displayName": "Shashi Kant",
      "photoUrl": "https://lh3.googleusercontent.com/a-/AOh14GiHv2woo7B1czb0XKsLBEOsgMWsuYITOryCdNNv7A=s64",
      "userId": "09783338171816410510"
     },
     "user_tz": -330
    },
    "id": "WeGjW5ror9qN",
    "outputId": "3e4dc9da-b968-4069-db75-bd62897b1801"
   },
   "outputs": [
    {
     "data": {
      "application/vnd.jupyter.widget-view+json": {
       "model_id": "4ef88a7e70544601900bd686986e50e5",
       "version_major": 2,
       "version_minor": 0
      },
      "text/plain": [
       "HBox(children=(FloatProgress(value=0.0, max=16.0), HTML(value='')))"
      ]
     },
     "metadata": {
      "tags": []
     },
     "output_type": "display_data"
    },
    {
     "name": "stdout",
     "output_type": "stream",
     "text": [
      "\n"
     ]
    },
    {
     "data": {
      "application/vnd.jupyter.widget-view+json": {
       "model_id": "a75daeafc280423f86deab8edb6ce710",
       "version_major": 2,
       "version_minor": 0
      },
      "text/plain": [
       "HBox(children=(FloatProgress(value=0.0, max=16.0), HTML(value='')))"
      ]
     },
     "metadata": {
      "tags": []
     },
     "output_type": "display_data"
    },
    {
     "name": "stdout",
     "output_type": "stream",
     "text": [
      "\n",
      "        diarization error rate    total  correct correct false alarm false alarm missed detection missed detection confusion confusion\n",
      "                             %                         %                       %                                 %                   %\n",
      "item                                                                                                                                  \n",
      "EN2002a                  18.71  1234.81  1121.22   90.80      117.47        9.51            77.60             6.28     35.99      2.91\n",
      "EN2002b                  20.91   989.65   885.60   89.49      102.90       10.40            64.87             6.55     39.18      3.96\n",
      "EN2002c                  15.95  1839.89  1695.13   92.13      148.76        8.09           104.32             5.67     40.44      2.20\n",
      "EN2002d                  19.07  1214.34  1092.56   89.97      109.77        9.04            81.75             6.73     40.03      3.30\n",
      "ES2004a                  36.69   607.99   489.27   80.47      104.37       17.17            45.17             7.43     73.55     12.10\n",
      "ES2004b                  13.80  1710.57  1604.97   93.83      130.39        7.62            83.53             4.88     22.07      1.29\n",
      "ES2004c                  15.10  1689.12  1606.69   95.12      172.69       10.22            63.72             3.77     18.71      1.11\n",
      "ES2004d                  19.98  1331.38  1200.36   90.16      134.94       10.14           101.91             7.65     29.11      2.19\n",
      "IS1009a                  19.97   480.18   432.77   90.13       48.47       10.09            26.66             5.55     20.75      4.32\n",
      "IS1009b                   8.44  1517.14  1442.16   95.06       53.12        3.50            58.31             3.84     16.67      1.10\n",
      "IS1009c                  10.17  1362.55  1309.80   96.13       85.81        6.30            34.65             2.54     18.10      1.33\n",
      "IS1009d                  17.01  1279.88  1178.57   92.08      116.40        9.09            68.55             5.36     32.76      2.56\n",
      "TS3003a                  25.78   877.51   766.92   87.40      115.66       13.18            60.78             6.93     49.81      5.68\n",
      "TS3003b                  16.94  1574.64  1498.37   95.16      190.46       12.10            61.03             3.88     15.24      0.97\n",
      "TS3003c                  17.25  1623.81  1516.92   93.42      173.20       10.67            88.51             5.45     18.38      1.13\n",
      "TS3003d                  25.40  1500.78  1351.01   90.02      231.41       15.42           117.73             7.84     32.04      2.13\n",
      "TOTAL                    17.65 20834.24 19192.32   92.12     2035.82        9.77          1139.09             5.47    502.83      2.41\n"
     ]
    }
   ],
   "source": [
    "hypothesis_dir = baselineMethods.diarizationOracleNumSpkrs(audio_dataset, method=\"Spectral\")\n",
    "metric = get_metrics(audio_dataset.label_dir, hypothesis_dir)\n",
    "print(metric)"
   ]
  },
  {
   "cell_type": "code",
   "execution_count": 8,
   "metadata": {
    "colab": {
     "base_uri": "https://localhost:8080/",
     "height": 142
    },
    "executionInfo": {
     "elapsed": 34760,
     "status": "ok",
     "timestamp": 1620720022569,
     "user": {
      "displayName": "Shashi Kant",
      "photoUrl": "https://lh3.googleusercontent.com/a-/AOh14GiHv2woo7B1czb0XKsLBEOsgMWsuYITOryCdNNv7A=s64",
      "userId": "09783338171816410510"
     },
     "user_tz": -330
    },
    "id": "zr02Mtv6QbNg",
    "outputId": "0a4bbb73-6a8a-40d7-b429-c4e7a4dce5ec"
   },
   "outputs": [
    {
     "data": {
      "text/html": [
       "<div>\n",
       "<style scoped>\n",
       "    .dataframe tbody tr th:only-of-type {\n",
       "        vertical-align: middle;\n",
       "    }\n",
       "\n",
       "    .dataframe tbody tr th {\n",
       "        vertical-align: top;\n",
       "    }\n",
       "\n",
       "    .dataframe thead tr th {\n",
       "        text-align: left;\n",
       "    }\n",
       "\n",
       "    .dataframe thead tr:last-of-type th {\n",
       "        text-align: right;\n",
       "    }\n",
       "</style>\n",
       "<table border=\"1\" class=\"dataframe\">\n",
       "  <thead>\n",
       "    <tr>\n",
       "      <th></th>\n",
       "      <th>diarization error rate</th>\n",
       "      <th>false alarm</th>\n",
       "      <th>missed detection</th>\n",
       "      <th>confusion</th>\n",
       "    </tr>\n",
       "    <tr>\n",
       "      <th></th>\n",
       "      <th>%</th>\n",
       "      <th>%</th>\n",
       "      <th>%</th>\n",
       "      <th>%</th>\n",
       "    </tr>\n",
       "    <tr>\n",
       "      <th>item</th>\n",
       "      <th></th>\n",
       "      <th></th>\n",
       "      <th></th>\n",
       "      <th></th>\n",
       "    </tr>\n",
       "  </thead>\n",
       "  <tbody>\n",
       "    <tr>\n",
       "      <th>TOTAL</th>\n",
       "      <td>17.6524</td>\n",
       "      <td>9.771509</td>\n",
       "      <td>5.467412</td>\n",
       "      <td>2.413479</td>\n",
       "    </tr>\n",
       "  </tbody>\n",
       "</table>\n",
       "</div>"
      ],
      "text/plain": [
       "      diarization error rate false alarm missed detection confusion\n",
       "                           %           %                %         %\n",
       "item                                                               \n",
       "TOTAL                17.6524    9.771509         5.467412  2.413479"
      ]
     },
     "execution_count": 8,
     "metadata": {
      "tags": []
     },
     "output_type": "execute_result"
    }
   ],
   "source": [
    "df = metric.report()\n",
    "dfT = df[-1:]\n",
    "dfT[[dfT.keys()[0], dfT.keys()[5], dfT.keys()[7], dfT.keys()[9]]]"
   ]
  },
  {
   "cell_type": "markdown",
   "metadata": {
    "id": "JNWfHmRK_Glj"
   },
   "source": [
    "## Spectral - EigenGap"
   ]
  },
  {
   "cell_type": "code",
   "execution_count": 9,
   "metadata": {
    "colab": {
     "base_uri": "https://localhost:8080/",
     "height": 455,
     "referenced_widgets": [
      "45719232f8484c87b815e982a0f8c49f",
      "5634a4f0b9fd484dbd635858cbf80813",
      "cf75bf6a4c2b4c7a82286612f60383c4",
      "00c8e2122b854d87be2fc9e29836cbfb",
      "2f9496981ed945b588f330404650b9b7",
      "3f0fa822d216457884f8cf5d6838575e",
      "869e8b2cb84b40bca75257b923dd2dd8",
      "e5e96e83a5bc4372a3b2300d593cb4bd",
      "9a974bbc9ffa4cb8bf7f786752cb5491",
      "e158b600929945efa381e1a4b8fb8134",
      "236d0cd3d2d940cd9845c290a6d429f0",
      "13db5bfccf6f4300898295a10d376d4b",
      "46535303f60b4f1e8e2e9c9a4f12c7ac",
      "dd940eb8a7c648ffb35d67455b637bd4",
      "1520c73597544185a18c2f13867da3c0",
      "395241a843a84253901bf52baebb5545"
     ]
    },
    "executionInfo": {
     "elapsed": 185867,
     "status": "ok",
     "timestamp": 1620720195271,
     "user": {
      "displayName": "Shashi Kant",
      "photoUrl": "https://lh3.googleusercontent.com/a-/AOh14GiHv2woo7B1czb0XKsLBEOsgMWsuYITOryCdNNv7A=s64",
      "userId": "09783338171816410510"
     },
     "user_tz": -330
    },
    "id": "yfcI3lQFJQLf",
    "outputId": "cc793430-19e8-4adb-9487-d0a4fd224e04"
   },
   "outputs": [
    {
     "data": {
      "application/vnd.jupyter.widget-view+json": {
       "model_id": "45719232f8484c87b815e982a0f8c49f",
       "version_major": 2,
       "version_minor": 0
      },
      "text/plain": [
       "HBox(children=(FloatProgress(value=0.0, max=16.0), HTML(value='')))"
      ]
     },
     "metadata": {
      "tags": []
     },
     "output_type": "display_data"
    },
    {
     "name": "stdout",
     "output_type": "stream",
     "text": [
      "\n"
     ]
    },
    {
     "data": {
      "application/vnd.jupyter.widget-view+json": {
       "model_id": "9a974bbc9ffa4cb8bf7f786752cb5491",
       "version_major": 2,
       "version_minor": 0
      },
      "text/plain": [
       "HBox(children=(FloatProgress(value=0.0, max=16.0), HTML(value='')))"
      ]
     },
     "metadata": {
      "tags": []
     },
     "output_type": "display_data"
    },
    {
     "name": "stdout",
     "output_type": "stream",
     "text": [
      "\n",
      "        diarization error rate    total  correct correct false alarm false alarm missed detection missed detection confusion confusion\n",
      "                             %                         %                       %                                 %                   %\n",
      "item                                                                                                                                  \n",
      "EN2002a                  22.43  1234.81  1075.28   87.08      117.47        9.51            77.60             6.28     81.93      6.64\n",
      "EN2002b                  24.20   989.65   853.05   86.20      102.90       10.40            64.87             6.55     71.73      7.25\n",
      "EN2002c                  16.74  1839.89  1680.67   91.35      148.76        8.09           104.32             5.67     54.90      2.98\n",
      "EN2002d                  21.54  1214.34  1062.60   87.50      109.77        9.04            81.75             6.73     69.99      5.76\n",
      "ES2004a                  32.38   607.99   515.52   84.79      104.37       17.17            45.17             7.43     47.30      7.78\n",
      "ES2004b                  14.62  1710.57  1590.82   93.00      130.39        7.62            83.53             4.88     36.22      2.12\n",
      "ES2004c                  15.85  1689.12  1594.12   94.38      172.69       10.22            63.72             3.77     31.28      1.85\n",
      "ES2004d                  21.36  1331.38  1181.96   88.78      134.94       10.14           101.91             7.65     47.51      3.57\n",
      "IS1009a                  33.32   480.18   368.67   76.78       48.47       10.09            26.66             5.55     84.85     17.67\n",
      "IS1009b                   8.68  1517.14  1438.51   94.82       53.12        3.50            58.31             3.84     20.32      1.34\n",
      "IS1009c                  10.73  1362.55  1302.20   95.57       85.81        6.30            34.65             2.54     25.70      1.89\n",
      "IS1009d                  31.47  1279.88   993.48   77.62      116.40        9.09            68.55             5.36    217.85     17.02\n",
      "TS3003a                  29.81   877.51   731.62   83.37      115.66       13.18            60.78             6.93     85.11      9.70\n",
      "TS3003b                  25.65  1574.64  1361.14   86.44      190.46       12.10            61.03             3.88    152.47      9.68\n",
      "TS3003c                  17.50  1623.81  1512.82   93.16      173.20       10.67            88.51             5.45     22.48      1.38\n",
      "TS3003d                  47.08  1500.78  1025.61   68.34      231.41       15.42           117.73             7.84    357.44     23.82\n",
      "TOTAL                    21.99 20834.24 18288.07   87.78     2035.82        9.77          1139.09             5.47   1407.08      6.75\n"
     ]
    }
   ],
   "source": [
    "hypothesis_dir = baselineMethods.diarizationEigenGapNumSpkrs(audio_dataset)\n",
    "metric = get_metrics(audio_dataset.label_dir, hypothesis_dir)\n",
    "print(metric)"
   ]
  },
  {
   "cell_type": "code",
   "execution_count": 10,
   "metadata": {
    "colab": {
     "base_uri": "https://localhost:8080/",
     "height": 142
    },
    "executionInfo": {
     "elapsed": 182685,
     "status": "ok",
     "timestamp": 1620720195278,
     "user": {
      "displayName": "Shashi Kant",
      "photoUrl": "https://lh3.googleusercontent.com/a-/AOh14GiHv2woo7B1czb0XKsLBEOsgMWsuYITOryCdNNv7A=s64",
      "userId": "09783338171816410510"
     },
     "user_tz": -330
    },
    "id": "zPJYV4gTQdfx",
    "outputId": "1f9051fb-b78c-4630-fcd3-42fabcdbc157"
   },
   "outputs": [
    {
     "data": {
      "text/html": [
       "<div>\n",
       "<style scoped>\n",
       "    .dataframe tbody tr th:only-of-type {\n",
       "        vertical-align: middle;\n",
       "    }\n",
       "\n",
       "    .dataframe tbody tr th {\n",
       "        vertical-align: top;\n",
       "    }\n",
       "\n",
       "    .dataframe thead tr th {\n",
       "        text-align: left;\n",
       "    }\n",
       "\n",
       "    .dataframe thead tr:last-of-type th {\n",
       "        text-align: right;\n",
       "    }\n",
       "</style>\n",
       "<table border=\"1\" class=\"dataframe\">\n",
       "  <thead>\n",
       "    <tr>\n",
       "      <th></th>\n",
       "      <th>diarization error rate</th>\n",
       "      <th>false alarm</th>\n",
       "      <th>missed detection</th>\n",
       "      <th>confusion</th>\n",
       "    </tr>\n",
       "    <tr>\n",
       "      <th></th>\n",
       "      <th>%</th>\n",
       "      <th>%</th>\n",
       "      <th>%</th>\n",
       "      <th>%</th>\n",
       "    </tr>\n",
       "    <tr>\n",
       "      <th>item</th>\n",
       "      <th></th>\n",
       "      <th></th>\n",
       "      <th></th>\n",
       "      <th></th>\n",
       "    </tr>\n",
       "  </thead>\n",
       "  <tbody>\n",
       "    <tr>\n",
       "      <th>TOTAL</th>\n",
       "      <td>21.99261</td>\n",
       "      <td>9.771509</td>\n",
       "      <td>5.467412</td>\n",
       "      <td>6.753689</td>\n",
       "    </tr>\n",
       "  </tbody>\n",
       "</table>\n",
       "</div>"
      ],
      "text/plain": [
       "      diarization error rate false alarm missed detection confusion\n",
       "                           %           %                %         %\n",
       "item                                                               \n",
       "TOTAL               21.99261    9.771509         5.467412  6.753689"
      ]
     },
     "execution_count": 10,
     "metadata": {
      "tags": []
     },
     "output_type": "execute_result"
    }
   ],
   "source": [
    "df = metric.report()\n",
    "dfT = df[-1:]\n",
    "dfT[[dfT.keys()[0], dfT.keys()[5], dfT.keys()[7], dfT.keys()[9]]]"
   ]
  },
  {
   "cell_type": "code",
   "execution_count": null,
   "metadata": {
    "id": "2Tr7f2KKZW_X"
   },
   "outputs": [],
   "source": []
  }
 ],
 "metadata": {
  "accelerator": "GPU",
  "colab": {
   "collapsed_sections": [],
   "name": "BaselineAMI.ipynb",
   "provenance": [],
   "toc_visible": true
  },
  "kernelspec": {
   "display_name": "Python 3",
   "language": "python",
   "name": "python3"
  },
  "language_info": {
   "codemirror_mode": {
    "name": "ipython",
    "version": 3
   },
   "file_extension": ".py",
   "mimetype": "text/x-python",
   "name": "python",
   "nbconvert_exporter": "python",
   "pygments_lexer": "ipython3",
   "version": "3.7.6"
  },
  "widgets": {
   "application/vnd.jupyter.widget-state+json": {
    "00c8e2122b854d87be2fc9e29836cbfb": {
     "model_module": "@jupyter-widgets/controls",
     "model_name": "HTMLModel",
     "state": {
      "_dom_classes": [],
      "_model_module": "@jupyter-widgets/controls",
      "_model_module_version": "1.5.0",
      "_model_name": "HTMLModel",
      "_view_count": null,
      "_view_module": "@jupyter-widgets/controls",
      "_view_module_version": "1.5.0",
      "_view_name": "HTMLView",
      "description": "",
      "description_tooltip": null,
      "layout": "IPY_MODEL_e5e96e83a5bc4372a3b2300d593cb4bd",
      "placeholder": "​",
      "style": "IPY_MODEL_869e8b2cb84b40bca75257b923dd2dd8",
      "value": " 16/16 [02:36&lt;00:00,  9.80s/it]"
     }
    },
    "0b6025e73fc24d19b933827c8cfe1e29": {
     "model_module": "@jupyter-widgets/controls",
     "model_name": "HBoxModel",
     "state": {
      "_dom_classes": [],
      "_model_module": "@jupyter-widgets/controls",
      "_model_module_version": "1.5.0",
      "_model_name": "HBoxModel",
      "_view_count": null,
      "_view_module": "@jupyter-widgets/controls",
      "_view_module_version": "1.5.0",
      "_view_name": "HBoxView",
      "box_style": "",
      "children": [
       "IPY_MODEL_10632d2d032543bf9162ad541ff7374a",
       "IPY_MODEL_84a593a71d464215b840da9ec6f817cf"
      ],
      "layout": "IPY_MODEL_e7018abc33f04e4f8761f5411e9dec6e"
     }
    },
    "10632d2d032543bf9162ad541ff7374a": {
     "model_module": "@jupyter-widgets/controls",
     "model_name": "FloatProgressModel",
     "state": {
      "_dom_classes": [],
      "_model_module": "@jupyter-widgets/controls",
      "_model_module_version": "1.5.0",
      "_model_name": "FloatProgressModel",
      "_view_count": null,
      "_view_module": "@jupyter-widgets/controls",
      "_view_module_version": "1.5.0",
      "_view_name": "ProgressView",
      "bar_style": "success",
      "description": "100%",
      "description_tooltip": null,
      "layout": "IPY_MODEL_9096c52e791941a29cd3d0aadfc8a734",
      "max": 16,
      "min": 0,
      "orientation": "horizontal",
      "style": "IPY_MODEL_1c169868e5214da8b225f8abc122a2bc",
      "value": 16
     }
    },
    "13db5bfccf6f4300898295a10d376d4b": {
     "model_module": "@jupyter-widgets/controls",
     "model_name": "HTMLModel",
     "state": {
      "_dom_classes": [],
      "_model_module": "@jupyter-widgets/controls",
      "_model_module_version": "1.5.0",
      "_model_name": "HTMLModel",
      "_view_count": null,
      "_view_module": "@jupyter-widgets/controls",
      "_view_module_version": "1.5.0",
      "_view_name": "HTMLView",
      "description": "",
      "description_tooltip": null,
      "layout": "IPY_MODEL_395241a843a84253901bf52baebb5545",
      "placeholder": "​",
      "style": "IPY_MODEL_1520c73597544185a18c2f13867da3c0",
      "value": " 16/16 [00:16&lt;00:00,  1.03s/it]"
     }
    },
    "1520c73597544185a18c2f13867da3c0": {
     "model_module": "@jupyter-widgets/controls",
     "model_name": "DescriptionStyleModel",
     "state": {
      "_model_module": "@jupyter-widgets/controls",
      "_model_module_version": "1.5.0",
      "_model_name": "DescriptionStyleModel",
      "_view_count": null,
      "_view_module": "@jupyter-widgets/base",
      "_view_module_version": "1.2.0",
      "_view_name": "StyleView",
      "description_width": ""
     }
    },
    "1c169868e5214da8b225f8abc122a2bc": {
     "model_module": "@jupyter-widgets/controls",
     "model_name": "ProgressStyleModel",
     "state": {
      "_model_module": "@jupyter-widgets/controls",
      "_model_module_version": "1.5.0",
      "_model_name": "ProgressStyleModel",
      "_view_count": null,
      "_view_module": "@jupyter-widgets/base",
      "_view_module_version": "1.2.0",
      "_view_name": "StyleView",
      "bar_color": null,
      "description_width": "initial"
     }
    },
    "220da486094d472ea42cfaf4fbf0ff57": {
     "model_module": "@jupyter-widgets/base",
     "model_name": "LayoutModel",
     "state": {
      "_model_module": "@jupyter-widgets/base",
      "_model_module_version": "1.2.0",
      "_model_name": "LayoutModel",
      "_view_count": null,
      "_view_module": "@jupyter-widgets/base",
      "_view_module_version": "1.2.0",
      "_view_name": "LayoutView",
      "align_content": null,
      "align_items": null,
      "align_self": null,
      "border": null,
      "bottom": null,
      "display": null,
      "flex": null,
      "flex_flow": null,
      "grid_area": null,
      "grid_auto_columns": null,
      "grid_auto_flow": null,
      "grid_auto_rows": null,
      "grid_column": null,
      "grid_gap": null,
      "grid_row": null,
      "grid_template_areas": null,
      "grid_template_columns": null,
      "grid_template_rows": null,
      "height": null,
      "justify_content": null,
      "justify_items": null,
      "left": null,
      "margin": null,
      "max_height": null,
      "max_width": null,
      "min_height": null,
      "min_width": null,
      "object_fit": null,
      "object_position": null,
      "order": null,
      "overflow": null,
      "overflow_x": null,
      "overflow_y": null,
      "padding": null,
      "right": null,
      "top": null,
      "visibility": null,
      "width": null
     }
    },
    "236d0cd3d2d940cd9845c290a6d429f0": {
     "model_module": "@jupyter-widgets/controls",
     "model_name": "FloatProgressModel",
     "state": {
      "_dom_classes": [],
      "_model_module": "@jupyter-widgets/controls",
      "_model_module_version": "1.5.0",
      "_model_name": "FloatProgressModel",
      "_view_count": null,
      "_view_module": "@jupyter-widgets/controls",
      "_view_module_version": "1.5.0",
      "_view_name": "ProgressView",
      "bar_style": "success",
      "description": "100%",
      "description_tooltip": null,
      "layout": "IPY_MODEL_dd940eb8a7c648ffb35d67455b637bd4",
      "max": 16,
      "min": 0,
      "orientation": "horizontal",
      "style": "IPY_MODEL_46535303f60b4f1e8e2e9c9a4f12c7ac",
      "value": 16
     }
    },
    "2ed6e82fe7ab4a1187df2890a1f7bb74": {
     "model_module": "@jupyter-widgets/controls",
     "model_name": "DescriptionStyleModel",
     "state": {
      "_model_module": "@jupyter-widgets/controls",
      "_model_module_version": "1.5.0",
      "_model_name": "DescriptionStyleModel",
      "_view_count": null,
      "_view_module": "@jupyter-widgets/base",
      "_view_module_version": "1.2.0",
      "_view_name": "StyleView",
      "description_width": ""
     }
    },
    "2f9496981ed945b588f330404650b9b7": {
     "model_module": "@jupyter-widgets/controls",
     "model_name": "ProgressStyleModel",
     "state": {
      "_model_module": "@jupyter-widgets/controls",
      "_model_module_version": "1.5.0",
      "_model_name": "ProgressStyleModel",
      "_view_count": null,
      "_view_module": "@jupyter-widgets/base",
      "_view_module_version": "1.2.0",
      "_view_name": "StyleView",
      "bar_color": null,
      "description_width": "initial"
     }
    },
    "395241a843a84253901bf52baebb5545": {
     "model_module": "@jupyter-widgets/base",
     "model_name": "LayoutModel",
     "state": {
      "_model_module": "@jupyter-widgets/base",
      "_model_module_version": "1.2.0",
      "_model_name": "LayoutModel",
      "_view_count": null,
      "_view_module": "@jupyter-widgets/base",
      "_view_module_version": "1.2.0",
      "_view_name": "LayoutView",
      "align_content": null,
      "align_items": null,
      "align_self": null,
      "border": null,
      "bottom": null,
      "display": null,
      "flex": null,
      "flex_flow": null,
      "grid_area": null,
      "grid_auto_columns": null,
      "grid_auto_flow": null,
      "grid_auto_rows": null,
      "grid_column": null,
      "grid_gap": null,
      "grid_row": null,
      "grid_template_areas": null,
      "grid_template_columns": null,
      "grid_template_rows": null,
      "height": null,
      "justify_content": null,
      "justify_items": null,
      "left": null,
      "margin": null,
      "max_height": null,
      "max_width": null,
      "min_height": null,
      "min_width": null,
      "object_fit": null,
      "object_position": null,
      "order": null,
      "overflow": null,
      "overflow_x": null,
      "overflow_y": null,
      "padding": null,
      "right": null,
      "top": null,
      "visibility": null,
      "width": null
     }
    },
    "3f0fa822d216457884f8cf5d6838575e": {
     "model_module": "@jupyter-widgets/base",
     "model_name": "LayoutModel",
     "state": {
      "_model_module": "@jupyter-widgets/base",
      "_model_module_version": "1.2.0",
      "_model_name": "LayoutModel",
      "_view_count": null,
      "_view_module": "@jupyter-widgets/base",
      "_view_module_version": "1.2.0",
      "_view_name": "LayoutView",
      "align_content": null,
      "align_items": null,
      "align_self": null,
      "border": null,
      "bottom": null,
      "display": null,
      "flex": null,
      "flex_flow": null,
      "grid_area": null,
      "grid_auto_columns": null,
      "grid_auto_flow": null,
      "grid_auto_rows": null,
      "grid_column": null,
      "grid_gap": null,
      "grid_row": null,
      "grid_template_areas": null,
      "grid_template_columns": null,
      "grid_template_rows": null,
      "height": null,
      "justify_content": null,
      "justify_items": null,
      "left": null,
      "margin": null,
      "max_height": null,
      "max_width": null,
      "min_height": null,
      "min_width": null,
      "object_fit": null,
      "object_position": null,
      "order": null,
      "overflow": null,
      "overflow_x": null,
      "overflow_y": null,
      "padding": null,
      "right": null,
      "top": null,
      "visibility": null,
      "width": null
     }
    },
    "45719232f8484c87b815e982a0f8c49f": {
     "model_module": "@jupyter-widgets/controls",
     "model_name": "HBoxModel",
     "state": {
      "_dom_classes": [],
      "_model_module": "@jupyter-widgets/controls",
      "_model_module_version": "1.5.0",
      "_model_name": "HBoxModel",
      "_view_count": null,
      "_view_module": "@jupyter-widgets/controls",
      "_view_module_version": "1.5.0",
      "_view_name": "HBoxView",
      "box_style": "",
      "children": [
       "IPY_MODEL_cf75bf6a4c2b4c7a82286612f60383c4",
       "IPY_MODEL_00c8e2122b854d87be2fc9e29836cbfb"
      ],
      "layout": "IPY_MODEL_5634a4f0b9fd484dbd635858cbf80813"
     }
    },
    "46535303f60b4f1e8e2e9c9a4f12c7ac": {
     "model_module": "@jupyter-widgets/controls",
     "model_name": "ProgressStyleModel",
     "state": {
      "_model_module": "@jupyter-widgets/controls",
      "_model_module_version": "1.5.0",
      "_model_name": "ProgressStyleModel",
      "_view_count": null,
      "_view_module": "@jupyter-widgets/base",
      "_view_module_version": "1.2.0",
      "_view_name": "StyleView",
      "bar_color": null,
      "description_width": "initial"
     }
    },
    "49f0c8737b354160a22a48ff53c2dae2": {
     "model_module": "@jupyter-widgets/controls",
     "model_name": "ProgressStyleModel",
     "state": {
      "_model_module": "@jupyter-widgets/controls",
      "_model_module_version": "1.5.0",
      "_model_name": "ProgressStyleModel",
      "_view_count": null,
      "_view_module": "@jupyter-widgets/base",
      "_view_module_version": "1.2.0",
      "_view_name": "StyleView",
      "bar_color": null,
      "description_width": "initial"
     }
    },
    "4ef88a7e70544601900bd686986e50e5": {
     "model_module": "@jupyter-widgets/controls",
     "model_name": "HBoxModel",
     "state": {
      "_dom_classes": [],
      "_model_module": "@jupyter-widgets/controls",
      "_model_module_version": "1.5.0",
      "_model_name": "HBoxModel",
      "_view_count": null,
      "_view_module": "@jupyter-widgets/controls",
      "_view_module_version": "1.5.0",
      "_view_name": "HBoxView",
      "box_style": "",
      "children": [
       "IPY_MODEL_e12c3bdfac644332a47d9437751cdfff",
       "IPY_MODEL_cafb4a4eeaf045e689446444d7c828b4"
      ],
      "layout": "IPY_MODEL_9acdb6ea4f394be984e743a8a1228ccb"
     }
    },
    "5634a4f0b9fd484dbd635858cbf80813": {
     "model_module": "@jupyter-widgets/base",
     "model_name": "LayoutModel",
     "state": {
      "_model_module": "@jupyter-widgets/base",
      "_model_module_version": "1.2.0",
      "_model_name": "LayoutModel",
      "_view_count": null,
      "_view_module": "@jupyter-widgets/base",
      "_view_module_version": "1.2.0",
      "_view_name": "LayoutView",
      "align_content": null,
      "align_items": null,
      "align_self": null,
      "border": null,
      "bottom": null,
      "display": null,
      "flex": null,
      "flex_flow": null,
      "grid_area": null,
      "grid_auto_columns": null,
      "grid_auto_flow": null,
      "grid_auto_rows": null,
      "grid_column": null,
      "grid_gap": null,
      "grid_row": null,
      "grid_template_areas": null,
      "grid_template_columns": null,
      "grid_template_rows": null,
      "height": null,
      "justify_content": null,
      "justify_items": null,
      "left": null,
      "margin": null,
      "max_height": null,
      "max_width": null,
      "min_height": null,
      "min_width": null,
      "object_fit": null,
      "object_position": null,
      "order": null,
      "overflow": null,
      "overflow_x": null,
      "overflow_y": null,
      "padding": null,
      "right": null,
      "top": null,
      "visibility": null,
      "width": null
     }
    },
    "6788b3dbc6e243f2b65cd0fce2b2b789": {
     "model_module": "@jupyter-widgets/base",
     "model_name": "LayoutModel",
     "state": {
      "_model_module": "@jupyter-widgets/base",
      "_model_module_version": "1.2.0",
      "_model_name": "LayoutModel",
      "_view_count": null,
      "_view_module": "@jupyter-widgets/base",
      "_view_module_version": "1.2.0",
      "_view_name": "LayoutView",
      "align_content": null,
      "align_items": null,
      "align_self": null,
      "border": null,
      "bottom": null,
      "display": null,
      "flex": null,
      "flex_flow": null,
      "grid_area": null,
      "grid_auto_columns": null,
      "grid_auto_flow": null,
      "grid_auto_rows": null,
      "grid_column": null,
      "grid_gap": null,
      "grid_row": null,
      "grid_template_areas": null,
      "grid_template_columns": null,
      "grid_template_rows": null,
      "height": null,
      "justify_content": null,
      "justify_items": null,
      "left": null,
      "margin": null,
      "max_height": null,
      "max_width": null,
      "min_height": null,
      "min_width": null,
      "object_fit": null,
      "object_position": null,
      "order": null,
      "overflow": null,
      "overflow_x": null,
      "overflow_y": null,
      "padding": null,
      "right": null,
      "top": null,
      "visibility": null,
      "width": null
     }
    },
    "6c3e2647b15e436e97d4630fa3e2c6b3": {
     "model_module": "@jupyter-widgets/base",
     "model_name": "LayoutModel",
     "state": {
      "_model_module": "@jupyter-widgets/base",
      "_model_module_version": "1.2.0",
      "_model_name": "LayoutModel",
      "_view_count": null,
      "_view_module": "@jupyter-widgets/base",
      "_view_module_version": "1.2.0",
      "_view_name": "LayoutView",
      "align_content": null,
      "align_items": null,
      "align_self": null,
      "border": null,
      "bottom": null,
      "display": null,
      "flex": null,
      "flex_flow": null,
      "grid_area": null,
      "grid_auto_columns": null,
      "grid_auto_flow": null,
      "grid_auto_rows": null,
      "grid_column": null,
      "grid_gap": null,
      "grid_row": null,
      "grid_template_areas": null,
      "grid_template_columns": null,
      "grid_template_rows": null,
      "height": null,
      "justify_content": null,
      "justify_items": null,
      "left": null,
      "margin": null,
      "max_height": null,
      "max_width": null,
      "min_height": null,
      "min_width": null,
      "object_fit": null,
      "object_position": null,
      "order": null,
      "overflow": null,
      "overflow_x": null,
      "overflow_y": null,
      "padding": null,
      "right": null,
      "top": null,
      "visibility": null,
      "width": null
     }
    },
    "713ff7e755c94efe87057bf9afe896b5": {
     "model_module": "@jupyter-widgets/controls",
     "model_name": "ProgressStyleModel",
     "state": {
      "_model_module": "@jupyter-widgets/controls",
      "_model_module_version": "1.5.0",
      "_model_name": "ProgressStyleModel",
      "_view_count": null,
      "_view_module": "@jupyter-widgets/base",
      "_view_module_version": "1.2.0",
      "_view_name": "StyleView",
      "bar_color": null,
      "description_width": "initial"
     }
    },
    "71deda6af0c94e71bd703e7f4a090881": {
     "model_module": "@jupyter-widgets/controls",
     "model_name": "FloatProgressModel",
     "state": {
      "_dom_classes": [],
      "_model_module": "@jupyter-widgets/controls",
      "_model_module_version": "1.5.0",
      "_model_name": "FloatProgressModel",
      "_view_count": null,
      "_view_module": "@jupyter-widgets/controls",
      "_view_module_version": "1.5.0",
      "_view_name": "ProgressView",
      "bar_style": "success",
      "description": "100%",
      "description_tooltip": null,
      "layout": "IPY_MODEL_938068c08aec43cbbe02072d4a291bd9",
      "max": 16,
      "min": 0,
      "orientation": "horizontal",
      "style": "IPY_MODEL_713ff7e755c94efe87057bf9afe896b5",
      "value": 16
     }
    },
    "7acb8134f96f4a739617df5237cfc55a": {
     "model_module": "@jupyter-widgets/controls",
     "model_name": "HBoxModel",
     "state": {
      "_dom_classes": [],
      "_model_module": "@jupyter-widgets/controls",
      "_model_module_version": "1.5.0",
      "_model_name": "HBoxModel",
      "_view_count": null,
      "_view_module": "@jupyter-widgets/controls",
      "_view_module_version": "1.5.0",
      "_view_name": "HBoxView",
      "box_style": "",
      "children": [
       "IPY_MODEL_89449b349acb4f2baffa352c1b8dd2d7",
       "IPY_MODEL_ab4779baa156465d98f5ca7ef224de77"
      ],
      "layout": "IPY_MODEL_6c3e2647b15e436e97d4630fa3e2c6b3"
     }
    },
    "7f75d05e5a5c4a899881facc416dbca6": {
     "model_module": "@jupyter-widgets/base",
     "model_name": "LayoutModel",
     "state": {
      "_model_module": "@jupyter-widgets/base",
      "_model_module_version": "1.2.0",
      "_model_name": "LayoutModel",
      "_view_count": null,
      "_view_module": "@jupyter-widgets/base",
      "_view_module_version": "1.2.0",
      "_view_name": "LayoutView",
      "align_content": null,
      "align_items": null,
      "align_self": null,
      "border": null,
      "bottom": null,
      "display": null,
      "flex": null,
      "flex_flow": null,
      "grid_area": null,
      "grid_auto_columns": null,
      "grid_auto_flow": null,
      "grid_auto_rows": null,
      "grid_column": null,
      "grid_gap": null,
      "grid_row": null,
      "grid_template_areas": null,
      "grid_template_columns": null,
      "grid_template_rows": null,
      "height": null,
      "justify_content": null,
      "justify_items": null,
      "left": null,
      "margin": null,
      "max_height": null,
      "max_width": null,
      "min_height": null,
      "min_width": null,
      "object_fit": null,
      "object_position": null,
      "order": null,
      "overflow": null,
      "overflow_x": null,
      "overflow_y": null,
      "padding": null,
      "right": null,
      "top": null,
      "visibility": null,
      "width": null
     }
    },
    "84a593a71d464215b840da9ec6f817cf": {
     "model_module": "@jupyter-widgets/controls",
     "model_name": "HTMLModel",
     "state": {
      "_dom_classes": [],
      "_model_module": "@jupyter-widgets/controls",
      "_model_module_version": "1.5.0",
      "_model_name": "HTMLModel",
      "_view_count": null,
      "_view_module": "@jupyter-widgets/controls",
      "_view_module_version": "1.5.0",
      "_view_name": "HTMLView",
      "description": "",
      "description_tooltip": null,
      "layout": "IPY_MODEL_6788b3dbc6e243f2b65cd0fce2b2b789",
      "placeholder": "​",
      "style": "IPY_MODEL_c6d13a3548f24658913dc0166af5ef39",
      "value": " 16/16 [00:03&lt;00:00,  4.40it/s]"
     }
    },
    "869e8b2cb84b40bca75257b923dd2dd8": {
     "model_module": "@jupyter-widgets/controls",
     "model_name": "DescriptionStyleModel",
     "state": {
      "_model_module": "@jupyter-widgets/controls",
      "_model_module_version": "1.5.0",
      "_model_name": "DescriptionStyleModel",
      "_view_count": null,
      "_view_module": "@jupyter-widgets/base",
      "_view_module_version": "1.2.0",
      "_view_name": "StyleView",
      "description_width": ""
     }
    },
    "86ff7d0fcf554069a744e5491be2d300": {
     "model_module": "@jupyter-widgets/controls",
     "model_name": "HTMLModel",
     "state": {
      "_dom_classes": [],
      "_model_module": "@jupyter-widgets/controls",
      "_model_module_version": "1.5.0",
      "_model_name": "HTMLModel",
      "_view_count": null,
      "_view_module": "@jupyter-widgets/controls",
      "_view_module_version": "1.5.0",
      "_view_name": "HTMLView",
      "description": "",
      "description_tooltip": null,
      "layout": "IPY_MODEL_971928fa633b4fd28da6b15e61d75176",
      "placeholder": "​",
      "style": "IPY_MODEL_ab1c17dc3aff49b084e91ec1853732e7",
      "value": " 16/16 [03:03&lt;00:00, 11.48s/it]"
     }
    },
    "89449b349acb4f2baffa352c1b8dd2d7": {
     "model_module": "@jupyter-widgets/controls",
     "model_name": "FloatProgressModel",
     "state": {
      "_dom_classes": [],
      "_model_module": "@jupyter-widgets/controls",
      "_model_module_version": "1.5.0",
      "_model_name": "FloatProgressModel",
      "_view_count": null,
      "_view_module": "@jupyter-widgets/controls",
      "_view_module_version": "1.5.0",
      "_view_name": "ProgressView",
      "bar_style": "success",
      "description": "100%",
      "description_tooltip": null,
      "layout": "IPY_MODEL_7f75d05e5a5c4a899881facc416dbca6",
      "max": 16,
      "min": 0,
      "orientation": "horizontal",
      "style": "IPY_MODEL_c8807d011eed4936a71d93f96ed2dc9f",
      "value": 16
     }
    },
    "9096c52e791941a29cd3d0aadfc8a734": {
     "model_module": "@jupyter-widgets/base",
     "model_name": "LayoutModel",
     "state": {
      "_model_module": "@jupyter-widgets/base",
      "_model_module_version": "1.2.0",
      "_model_name": "LayoutModel",
      "_view_count": null,
      "_view_module": "@jupyter-widgets/base",
      "_view_module_version": "1.2.0",
      "_view_name": "LayoutView",
      "align_content": null,
      "align_items": null,
      "align_self": null,
      "border": null,
      "bottom": null,
      "display": null,
      "flex": null,
      "flex_flow": null,
      "grid_area": null,
      "grid_auto_columns": null,
      "grid_auto_flow": null,
      "grid_auto_rows": null,
      "grid_column": null,
      "grid_gap": null,
      "grid_row": null,
      "grid_template_areas": null,
      "grid_template_columns": null,
      "grid_template_rows": null,
      "height": null,
      "justify_content": null,
      "justify_items": null,
      "left": null,
      "margin": null,
      "max_height": null,
      "max_width": null,
      "min_height": null,
      "min_width": null,
      "object_fit": null,
      "object_position": null,
      "order": null,
      "overflow": null,
      "overflow_x": null,
      "overflow_y": null,
      "padding": null,
      "right": null,
      "top": null,
      "visibility": null,
      "width": null
     }
    },
    "938068c08aec43cbbe02072d4a291bd9": {
     "model_module": "@jupyter-widgets/base",
     "model_name": "LayoutModel",
     "state": {
      "_model_module": "@jupyter-widgets/base",
      "_model_module_version": "1.2.0",
      "_model_name": "LayoutModel",
      "_view_count": null,
      "_view_module": "@jupyter-widgets/base",
      "_view_module_version": "1.2.0",
      "_view_name": "LayoutView",
      "align_content": null,
      "align_items": null,
      "align_self": null,
      "border": null,
      "bottom": null,
      "display": null,
      "flex": null,
      "flex_flow": null,
      "grid_area": null,
      "grid_auto_columns": null,
      "grid_auto_flow": null,
      "grid_auto_rows": null,
      "grid_column": null,
      "grid_gap": null,
      "grid_row": null,
      "grid_template_areas": null,
      "grid_template_columns": null,
      "grid_template_rows": null,
      "height": null,
      "justify_content": null,
      "justify_items": null,
      "left": null,
      "margin": null,
      "max_height": null,
      "max_width": null,
      "min_height": null,
      "min_width": null,
      "object_fit": null,
      "object_position": null,
      "order": null,
      "overflow": null,
      "overflow_x": null,
      "overflow_y": null,
      "padding": null,
      "right": null,
      "top": null,
      "visibility": null,
      "width": null
     }
    },
    "971928fa633b4fd28da6b15e61d75176": {
     "model_module": "@jupyter-widgets/base",
     "model_name": "LayoutModel",
     "state": {
      "_model_module": "@jupyter-widgets/base",
      "_model_module_version": "1.2.0",
      "_model_name": "LayoutModel",
      "_view_count": null,
      "_view_module": "@jupyter-widgets/base",
      "_view_module_version": "1.2.0",
      "_view_name": "LayoutView",
      "align_content": null,
      "align_items": null,
      "align_self": null,
      "border": null,
      "bottom": null,
      "display": null,
      "flex": null,
      "flex_flow": null,
      "grid_area": null,
      "grid_auto_columns": null,
      "grid_auto_flow": null,
      "grid_auto_rows": null,
      "grid_column": null,
      "grid_gap": null,
      "grid_row": null,
      "grid_template_areas": null,
      "grid_template_columns": null,
      "grid_template_rows": null,
      "height": null,
      "justify_content": null,
      "justify_items": null,
      "left": null,
      "margin": null,
      "max_height": null,
      "max_width": null,
      "min_height": null,
      "min_width": null,
      "object_fit": null,
      "object_position": null,
      "order": null,
      "overflow": null,
      "overflow_x": null,
      "overflow_y": null,
      "padding": null,
      "right": null,
      "top": null,
      "visibility": null,
      "width": null
     }
    },
    "989edd9985aa4a4b85144a9587a4cafb": {
     "model_module": "@jupyter-widgets/base",
     "model_name": "LayoutModel",
     "state": {
      "_model_module": "@jupyter-widgets/base",
      "_model_module_version": "1.2.0",
      "_model_name": "LayoutModel",
      "_view_count": null,
      "_view_module": "@jupyter-widgets/base",
      "_view_module_version": "1.2.0",
      "_view_name": "LayoutView",
      "align_content": null,
      "align_items": null,
      "align_self": null,
      "border": null,
      "bottom": null,
      "display": null,
      "flex": null,
      "flex_flow": null,
      "grid_area": null,
      "grid_auto_columns": null,
      "grid_auto_flow": null,
      "grid_auto_rows": null,
      "grid_column": null,
      "grid_gap": null,
      "grid_row": null,
      "grid_template_areas": null,
      "grid_template_columns": null,
      "grid_template_rows": null,
      "height": null,
      "justify_content": null,
      "justify_items": null,
      "left": null,
      "margin": null,
      "max_height": null,
      "max_width": null,
      "min_height": null,
      "min_width": null,
      "object_fit": null,
      "object_position": null,
      "order": null,
      "overflow": null,
      "overflow_x": null,
      "overflow_y": null,
      "padding": null,
      "right": null,
      "top": null,
      "visibility": null,
      "width": null
     }
    },
    "9a974bbc9ffa4cb8bf7f786752cb5491": {
     "model_module": "@jupyter-widgets/controls",
     "model_name": "HBoxModel",
     "state": {
      "_dom_classes": [],
      "_model_module": "@jupyter-widgets/controls",
      "_model_module_version": "1.5.0",
      "_model_name": "HBoxModel",
      "_view_count": null,
      "_view_module": "@jupyter-widgets/controls",
      "_view_module_version": "1.5.0",
      "_view_name": "HBoxView",
      "box_style": "",
      "children": [
       "IPY_MODEL_236d0cd3d2d940cd9845c290a6d429f0",
       "IPY_MODEL_13db5bfccf6f4300898295a10d376d4b"
      ],
      "layout": "IPY_MODEL_e158b600929945efa381e1a4b8fb8134"
     }
    },
    "9acdb6ea4f394be984e743a8a1228ccb": {
     "model_module": "@jupyter-widgets/base",
     "model_name": "LayoutModel",
     "state": {
      "_model_module": "@jupyter-widgets/base",
      "_model_module_version": "1.2.0",
      "_model_name": "LayoutModel",
      "_view_count": null,
      "_view_module": "@jupyter-widgets/base",
      "_view_module_version": "1.2.0",
      "_view_name": "LayoutView",
      "align_content": null,
      "align_items": null,
      "align_self": null,
      "border": null,
      "bottom": null,
      "display": null,
      "flex": null,
      "flex_flow": null,
      "grid_area": null,
      "grid_auto_columns": null,
      "grid_auto_flow": null,
      "grid_auto_rows": null,
      "grid_column": null,
      "grid_gap": null,
      "grid_row": null,
      "grid_template_areas": null,
      "grid_template_columns": null,
      "grid_template_rows": null,
      "height": null,
      "justify_content": null,
      "justify_items": null,
      "left": null,
      "margin": null,
      "max_height": null,
      "max_width": null,
      "min_height": null,
      "min_width": null,
      "object_fit": null,
      "object_position": null,
      "order": null,
      "overflow": null,
      "overflow_x": null,
      "overflow_y": null,
      "padding": null,
      "right": null,
      "top": null,
      "visibility": null,
      "width": null
     }
    },
    "a75daeafc280423f86deab8edb6ce710": {
     "model_module": "@jupyter-widgets/controls",
     "model_name": "HBoxModel",
     "state": {
      "_dom_classes": [],
      "_model_module": "@jupyter-widgets/controls",
      "_model_module_version": "1.5.0",
      "_model_name": "HBoxModel",
      "_view_count": null,
      "_view_module": "@jupyter-widgets/controls",
      "_view_module_version": "1.5.0",
      "_view_name": "HBoxView",
      "box_style": "",
      "children": [
       "IPY_MODEL_71deda6af0c94e71bd703e7f4a090881",
       "IPY_MODEL_86ff7d0fcf554069a744e5491be2d300"
      ],
      "layout": "IPY_MODEL_220da486094d472ea42cfaf4fbf0ff57"
     }
    },
    "ab1c17dc3aff49b084e91ec1853732e7": {
     "model_module": "@jupyter-widgets/controls",
     "model_name": "DescriptionStyleModel",
     "state": {
      "_model_module": "@jupyter-widgets/controls",
      "_model_module_version": "1.5.0",
      "_model_name": "DescriptionStyleModel",
      "_view_count": null,
      "_view_module": "@jupyter-widgets/base",
      "_view_module_version": "1.2.0",
      "_view_name": "StyleView",
      "description_width": ""
     }
    },
    "ab4779baa156465d98f5ca7ef224de77": {
     "model_module": "@jupyter-widgets/controls",
     "model_name": "HTMLModel",
     "state": {
      "_dom_classes": [],
      "_model_module": "@jupyter-widgets/controls",
      "_model_module_version": "1.5.0",
      "_model_name": "HTMLModel",
      "_view_count": null,
      "_view_module": "@jupyter-widgets/controls",
      "_view_module_version": "1.5.0",
      "_view_name": "HTMLView",
      "description": "",
      "description_tooltip": null,
      "layout": "IPY_MODEL_db68e1a8d10943578c7e390428eda12a",
      "placeholder": "​",
      "style": "IPY_MODEL_bc368bcf7f29470ba83645da21c3fc73",
      "value": " 16/16 [01:00&lt;00:00,  3.77s/it]"
     }
    },
    "bc368bcf7f29470ba83645da21c3fc73": {
     "model_module": "@jupyter-widgets/controls",
     "model_name": "DescriptionStyleModel",
     "state": {
      "_model_module": "@jupyter-widgets/controls",
      "_model_module_version": "1.5.0",
      "_model_name": "DescriptionStyleModel",
      "_view_count": null,
      "_view_module": "@jupyter-widgets/base",
      "_view_module_version": "1.2.0",
      "_view_name": "StyleView",
      "description_width": ""
     }
    },
    "c6d13a3548f24658913dc0166af5ef39": {
     "model_module": "@jupyter-widgets/controls",
     "model_name": "DescriptionStyleModel",
     "state": {
      "_model_module": "@jupyter-widgets/controls",
      "_model_module_version": "1.5.0",
      "_model_name": "DescriptionStyleModel",
      "_view_count": null,
      "_view_module": "@jupyter-widgets/base",
      "_view_module_version": "1.2.0",
      "_view_name": "StyleView",
      "description_width": ""
     }
    },
    "c8807d011eed4936a71d93f96ed2dc9f": {
     "model_module": "@jupyter-widgets/controls",
     "model_name": "ProgressStyleModel",
     "state": {
      "_model_module": "@jupyter-widgets/controls",
      "_model_module_version": "1.5.0",
      "_model_name": "ProgressStyleModel",
      "_view_count": null,
      "_view_module": "@jupyter-widgets/base",
      "_view_module_version": "1.2.0",
      "_view_name": "StyleView",
      "bar_color": null,
      "description_width": "initial"
     }
    },
    "cafb4a4eeaf045e689446444d7c828b4": {
     "model_module": "@jupyter-widgets/controls",
     "model_name": "HTMLModel",
     "state": {
      "_dom_classes": [],
      "_model_module": "@jupyter-widgets/controls",
      "_model_module_version": "1.5.0",
      "_model_name": "HTMLModel",
      "_view_count": null,
      "_view_module": "@jupyter-widgets/controls",
      "_view_module_version": "1.5.0",
      "_view_name": "HTMLView",
      "description": "",
      "description_tooltip": null,
      "layout": "IPY_MODEL_d6e982cde2404a9f8477e99bc26feba7",
      "placeholder": "​",
      "style": "IPY_MODEL_2ed6e82fe7ab4a1187df2890a1f7bb74",
      "value": " 16/16 [00:22&lt;00:00,  1.40s/it]"
     }
    },
    "cf75bf6a4c2b4c7a82286612f60383c4": {
     "model_module": "@jupyter-widgets/controls",
     "model_name": "FloatProgressModel",
     "state": {
      "_dom_classes": [],
      "_model_module": "@jupyter-widgets/controls",
      "_model_module_version": "1.5.0",
      "_model_name": "FloatProgressModel",
      "_view_count": null,
      "_view_module": "@jupyter-widgets/controls",
      "_view_module_version": "1.5.0",
      "_view_name": "ProgressView",
      "bar_style": "success",
      "description": "100%",
      "description_tooltip": null,
      "layout": "IPY_MODEL_3f0fa822d216457884f8cf5d6838575e",
      "max": 16,
      "min": 0,
      "orientation": "horizontal",
      "style": "IPY_MODEL_2f9496981ed945b588f330404650b9b7",
      "value": 16
     }
    },
    "d6e982cde2404a9f8477e99bc26feba7": {
     "model_module": "@jupyter-widgets/base",
     "model_name": "LayoutModel",
     "state": {
      "_model_module": "@jupyter-widgets/base",
      "_model_module_version": "1.2.0",
      "_model_name": "LayoutModel",
      "_view_count": null,
      "_view_module": "@jupyter-widgets/base",
      "_view_module_version": "1.2.0",
      "_view_name": "LayoutView",
      "align_content": null,
      "align_items": null,
      "align_self": null,
      "border": null,
      "bottom": null,
      "display": null,
      "flex": null,
      "flex_flow": null,
      "grid_area": null,
      "grid_auto_columns": null,
      "grid_auto_flow": null,
      "grid_auto_rows": null,
      "grid_column": null,
      "grid_gap": null,
      "grid_row": null,
      "grid_template_areas": null,
      "grid_template_columns": null,
      "grid_template_rows": null,
      "height": null,
      "justify_content": null,
      "justify_items": null,
      "left": null,
      "margin": null,
      "max_height": null,
      "max_width": null,
      "min_height": null,
      "min_width": null,
      "object_fit": null,
      "object_position": null,
      "order": null,
      "overflow": null,
      "overflow_x": null,
      "overflow_y": null,
      "padding": null,
      "right": null,
      "top": null,
      "visibility": null,
      "width": null
     }
    },
    "db68e1a8d10943578c7e390428eda12a": {
     "model_module": "@jupyter-widgets/base",
     "model_name": "LayoutModel",
     "state": {
      "_model_module": "@jupyter-widgets/base",
      "_model_module_version": "1.2.0",
      "_model_name": "LayoutModel",
      "_view_count": null,
      "_view_module": "@jupyter-widgets/base",
      "_view_module_version": "1.2.0",
      "_view_name": "LayoutView",
      "align_content": null,
      "align_items": null,
      "align_self": null,
      "border": null,
      "bottom": null,
      "display": null,
      "flex": null,
      "flex_flow": null,
      "grid_area": null,
      "grid_auto_columns": null,
      "grid_auto_flow": null,
      "grid_auto_rows": null,
      "grid_column": null,
      "grid_gap": null,
      "grid_row": null,
      "grid_template_areas": null,
      "grid_template_columns": null,
      "grid_template_rows": null,
      "height": null,
      "justify_content": null,
      "justify_items": null,
      "left": null,
      "margin": null,
      "max_height": null,
      "max_width": null,
      "min_height": null,
      "min_width": null,
      "object_fit": null,
      "object_position": null,
      "order": null,
      "overflow": null,
      "overflow_x": null,
      "overflow_y": null,
      "padding": null,
      "right": null,
      "top": null,
      "visibility": null,
      "width": null
     }
    },
    "dd940eb8a7c648ffb35d67455b637bd4": {
     "model_module": "@jupyter-widgets/base",
     "model_name": "LayoutModel",
     "state": {
      "_model_module": "@jupyter-widgets/base",
      "_model_module_version": "1.2.0",
      "_model_name": "LayoutModel",
      "_view_count": null,
      "_view_module": "@jupyter-widgets/base",
      "_view_module_version": "1.2.0",
      "_view_name": "LayoutView",
      "align_content": null,
      "align_items": null,
      "align_self": null,
      "border": null,
      "bottom": null,
      "display": null,
      "flex": null,
      "flex_flow": null,
      "grid_area": null,
      "grid_auto_columns": null,
      "grid_auto_flow": null,
      "grid_auto_rows": null,
      "grid_column": null,
      "grid_gap": null,
      "grid_row": null,
      "grid_template_areas": null,
      "grid_template_columns": null,
      "grid_template_rows": null,
      "height": null,
      "justify_content": null,
      "justify_items": null,
      "left": null,
      "margin": null,
      "max_height": null,
      "max_width": null,
      "min_height": null,
      "min_width": null,
      "object_fit": null,
      "object_position": null,
      "order": null,
      "overflow": null,
      "overflow_x": null,
      "overflow_y": null,
      "padding": null,
      "right": null,
      "top": null,
      "visibility": null,
      "width": null
     }
    },
    "e12c3bdfac644332a47d9437751cdfff": {
     "model_module": "@jupyter-widgets/controls",
     "model_name": "FloatProgressModel",
     "state": {
      "_dom_classes": [],
      "_model_module": "@jupyter-widgets/controls",
      "_model_module_version": "1.5.0",
      "_model_name": "FloatProgressModel",
      "_view_count": null,
      "_view_module": "@jupyter-widgets/controls",
      "_view_module_version": "1.5.0",
      "_view_name": "ProgressView",
      "bar_style": "success",
      "description": "100%",
      "description_tooltip": null,
      "layout": "IPY_MODEL_989edd9985aa4a4b85144a9587a4cafb",
      "max": 16,
      "min": 0,
      "orientation": "horizontal",
      "style": "IPY_MODEL_49f0c8737b354160a22a48ff53c2dae2",
      "value": 16
     }
    },
    "e158b600929945efa381e1a4b8fb8134": {
     "model_module": "@jupyter-widgets/base",
     "model_name": "LayoutModel",
     "state": {
      "_model_module": "@jupyter-widgets/base",
      "_model_module_version": "1.2.0",
      "_model_name": "LayoutModel",
      "_view_count": null,
      "_view_module": "@jupyter-widgets/base",
      "_view_module_version": "1.2.0",
      "_view_name": "LayoutView",
      "align_content": null,
      "align_items": null,
      "align_self": null,
      "border": null,
      "bottom": null,
      "display": null,
      "flex": null,
      "flex_flow": null,
      "grid_area": null,
      "grid_auto_columns": null,
      "grid_auto_flow": null,
      "grid_auto_rows": null,
      "grid_column": null,
      "grid_gap": null,
      "grid_row": null,
      "grid_template_areas": null,
      "grid_template_columns": null,
      "grid_template_rows": null,
      "height": null,
      "justify_content": null,
      "justify_items": null,
      "left": null,
      "margin": null,
      "max_height": null,
      "max_width": null,
      "min_height": null,
      "min_width": null,
      "object_fit": null,
      "object_position": null,
      "order": null,
      "overflow": null,
      "overflow_x": null,
      "overflow_y": null,
      "padding": null,
      "right": null,
      "top": null,
      "visibility": null,
      "width": null
     }
    },
    "e5e96e83a5bc4372a3b2300d593cb4bd": {
     "model_module": "@jupyter-widgets/base",
     "model_name": "LayoutModel",
     "state": {
      "_model_module": "@jupyter-widgets/base",
      "_model_module_version": "1.2.0",
      "_model_name": "LayoutModel",
      "_view_count": null,
      "_view_module": "@jupyter-widgets/base",
      "_view_module_version": "1.2.0",
      "_view_name": "LayoutView",
      "align_content": null,
      "align_items": null,
      "align_self": null,
      "border": null,
      "bottom": null,
      "display": null,
      "flex": null,
      "flex_flow": null,
      "grid_area": null,
      "grid_auto_columns": null,
      "grid_auto_flow": null,
      "grid_auto_rows": null,
      "grid_column": null,
      "grid_gap": null,
      "grid_row": null,
      "grid_template_areas": null,
      "grid_template_columns": null,
      "grid_template_rows": null,
      "height": null,
      "justify_content": null,
      "justify_items": null,
      "left": null,
      "margin": null,
      "max_height": null,
      "max_width": null,
      "min_height": null,
      "min_width": null,
      "object_fit": null,
      "object_position": null,
      "order": null,
      "overflow": null,
      "overflow_x": null,
      "overflow_y": null,
      "padding": null,
      "right": null,
      "top": null,
      "visibility": null,
      "width": null
     }
    },
    "e7018abc33f04e4f8761f5411e9dec6e": {
     "model_module": "@jupyter-widgets/base",
     "model_name": "LayoutModel",
     "state": {
      "_model_module": "@jupyter-widgets/base",
      "_model_module_version": "1.2.0",
      "_model_name": "LayoutModel",
      "_view_count": null,
      "_view_module": "@jupyter-widgets/base",
      "_view_module_version": "1.2.0",
      "_view_name": "LayoutView",
      "align_content": null,
      "align_items": null,
      "align_self": null,
      "border": null,
      "bottom": null,
      "display": null,
      "flex": null,
      "flex_flow": null,
      "grid_area": null,
      "grid_auto_columns": null,
      "grid_auto_flow": null,
      "grid_auto_rows": null,
      "grid_column": null,
      "grid_gap": null,
      "grid_row": null,
      "grid_template_areas": null,
      "grid_template_columns": null,
      "grid_template_rows": null,
      "height": null,
      "justify_content": null,
      "justify_items": null,
      "left": null,
      "margin": null,
      "max_height": null,
      "max_width": null,
      "min_height": null,
      "min_width": null,
      "object_fit": null,
      "object_position": null,
      "order": null,
      "overflow": null,
      "overflow_x": null,
      "overflow_y": null,
      "padding": null,
      "right": null,
      "top": null,
      "visibility": null,
      "width": null
     }
    }
   }
  }
 },
 "nbformat": 4,
 "nbformat_minor": 1
}
