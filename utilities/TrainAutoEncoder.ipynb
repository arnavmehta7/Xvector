{
 "cells": [
  {
   "cell_type": "code",
   "execution_count": 1,
   "metadata": {
    "colab": {
     "base_uri": "https://localhost:8080/"
    },
    "execution": {
     "iopub.execute_input": "2021-04-28T14:55:23.609698Z",
     "iopub.status.busy": "2021-04-28T14:55:23.607727Z",
     "iopub.status.idle": "2021-04-28T14:56:18.314367Z",
     "shell.execute_reply": "2021-04-28T14:56:18.314974Z"
    },
    "id": "QrtAAIp853gY",
    "outputId": "170aef57-cedc-4dcb-aa31-b4988a148f5b",
    "papermill": {
     "duration": 54.736382,
     "end_time": "2021-04-28T14:56:18.315345",
     "exception": false,
     "start_time": "2021-04-28T14:55:23.578963",
     "status": "completed"
    },
    "tags": []
   },
   "outputs": [
    {
     "name": "stdout",
     "output_type": "stream",
     "text": [
      "\u001b[K     |████████████████████████████████| 1.9MB 4.1MB/s \n",
      "\u001b[K     |████████████████████████████████| 358kB 4.2MB/s \n",
      "\u001b[K     |████████████████████████████████| 1.2MB 31.6MB/s \n",
      "\u001b[K     |████████████████████████████████| 645kB 41.4MB/s \n",
      "\u001b[K     |████████████████████████████████| 102kB 9.3MB/s \n",
      "\u001b[K     |████████████████████████████████| 552kB 42.5MB/s \n",
      "\u001b[K     |████████████████████████████████| 51kB 2.6MB/s \n",
      "\u001b[K     |████████████████████████████████| 51kB 3.2MB/s \n",
      "\u001b[K     |████████████████████████████████| 61kB 6.0MB/s \n",
      "\u001b[K     |████████████████████████████████| 133kB 25.7MB/s \n",
      "\u001b[?25h"
     ]
    }
   ],
   "source": [
    "!pip install torchaudio -q --no-deps\n",
    "!pip install speechbrain -q\n",
    "!pip install spectralcluster -q\n",
    "!pip install pyannote.metrics -q\n",
    "!pip install gdown -q"
   ]
  },
  {
   "cell_type": "code",
   "execution_count": 2,
   "metadata": {
    "colab": {
     "base_uri": "https://localhost:8080/"
    },
    "execution": {
     "iopub.execute_input": "2021-04-28T14:56:18.380616Z",
     "iopub.status.busy": "2021-04-28T14:56:18.376115Z",
     "iopub.status.idle": "2021-04-28T14:57:33.135414Z",
     "shell.execute_reply": "2021-04-28T14:57:33.136012Z"
    },
    "id": "A529jowL53gj",
    "outputId": "2182beea-cd4b-437c-aef1-39d8ac1621e1",
    "papermill": {
     "duration": 74.79793,
     "end_time": "2021-04-28T14:57:33.136198",
     "exception": false,
     "start_time": "2021-04-28T14:56:18.338268",
     "status": "completed"
    },
    "tags": []
   },
   "outputs": [
    {
     "name": "stdout",
     "output_type": "stream",
     "text": [
      "Downloading...\n",
      "From: https://drive.google.com/uc?id=1rUDuxPTqMMj-lH7Y9W14BgTxkyiVTntX\n",
      "To: /content/core.zip\n",
      "\r",
      "  0% 0.00/14.9k [00:00<?, ?B/s]\r",
      "100% 14.9k/14.9k [00:00<00:00, 29.8MB/s]\n",
      "Archive:  core.zip\n",
      "   creating: core/\n",
      "  inflating: core/baselineMethods.py  \n",
      "  inflating: core/colab_demo_utils.py  \n",
      "  inflating: core/DEC.py             \n",
      "  inflating: core/optimumSpeaker.py  \n",
      "  inflating: core/utils.py           \n",
      " extracting: core/__init__.py        \n"
     ]
    }
   ],
   "source": [
    "!git clone https://github.com/shashikg/speaker_diarization_ee698.git\n",
    "!cp -r speaker_diarization_ee698/core/. core"
   ]
  },
  {
   "cell_type": "code",
   "execution_count": 4,
   "metadata": {
    "execution": {
     "iopub.execute_input": "2021-04-28T14:57:51.374892Z",
     "iopub.status.busy": "2021-04-28T14:57:51.373863Z",
     "iopub.status.idle": "2021-04-28T14:57:58.306193Z",
     "shell.execute_reply": "2021-04-28T14:57:58.306904Z"
    },
    "id": "7JEAT4Vj53gn",
    "papermill": {
     "duration": 7.079136,
     "end_time": "2021-04-28T14:57:58.307091",
     "exception": false,
     "start_time": "2021-04-28T14:57:51.227955",
     "status": "completed"
    },
    "tags": []
   },
   "outputs": [],
   "source": [
    "from __future__ import print_function, division\n",
    "import numpy as np\n",
    "import matplotlib.pyplot as plt\n",
    "import torchaudio\n",
    "import os\n",
    "import torch\n",
    "from torch.utils.data import Dataset, DataLoader\n",
    "from speechbrain.pretrained import SpeakerRecognition\n",
    "import warnings\n",
    "warnings.filterwarnings('ignore')\n",
    "\n",
    "from sklearn.cluster import KMeans, SpectralClustering\n",
    "from sklearn import decomposition\n",
    "from tqdm.auto import tqdm\n",
    "\n",
    "from core.utils import make_rttm, get_metrics\n",
    "from core.utils import DiarizationDataSet\n",
    "import core.baselineMethods as baselineMethods\n",
    "\n",
    "import shutil\n",
    "import pandas as pd\n",
    "\n",
    "from core.DEC import ResidualAutoEncoder"
   ]
  },
  {
   "cell_type": "code",
   "execution_count": 5,
   "metadata": {
    "_cell_guid": "b1076dfc-b9ad-4769-8c92-a6c4dae69d19",
    "_uuid": "8f2839f25d086af736a60e9eeb907d3b93b6e0e5",
    "execution": {
     "iopub.execute_input": "2021-04-28T14:57:58.490524Z",
     "iopub.status.busy": "2021-04-28T14:57:58.489685Z",
     "iopub.status.idle": "2021-04-28T14:57:58.494011Z",
     "shell.execute_reply": "2021-04-28T14:57:58.493462Z"
    },
    "id": "ILFsRJyr53gp",
    "papermill": {
     "duration": 0.099052,
     "end_time": "2021-04-28T14:57:58.494156",
     "exception": false,
     "start_time": "2021-04-28T14:57:58.395104",
     "status": "completed"
    },
    "tags": []
   },
   "outputs": [],
   "source": [
    "import numpy as np\n",
    "import torch\n",
    "import torch.nn as nn\n",
    "from sklearn.cluster import KMeans\n",
    "from tqdm import tqdm\n",
    "from scipy.optimize import linear_sum_assignment\n",
    "from collections import OrderedDict\n",
    "from tqdm.auto import tqdm\n",
    "\n",
    "import torch.nn.functional as F\n",
    "import torch.optim as optim\n",
    "\n",
    "device = \"cuda\" if torch.cuda.is_available() else \"cpu\""
   ]
  },
  {
   "cell_type": "code",
   "execution_count": 6,
   "metadata": {
    "colab": {
     "base_uri": "https://localhost:8080/"
    },
    "execution": {
     "iopub.execute_input": "2021-04-28T14:57:58.671778Z",
     "iopub.status.busy": "2021-04-28T14:57:58.671005Z",
     "iopub.status.idle": "2021-04-28T14:57:58.805597Z",
     "shell.execute_reply": "2021-04-28T14:57:58.803895Z"
    },
    "id": "7zg26M8053gq",
    "outputId": "bddac09f-4172-4b31-b7b2-6d0086f8fc2f",
    "papermill": {
     "duration": 0.228634,
     "end_time": "2021-04-28T14:57:58.805752",
     "exception": false,
     "start_time": "2021-04-28T14:57:58.577118",
     "status": "completed"
    },
    "tags": []
   },
   "outputs": [
    {
     "data": {
      "text/plain": [
       "ResidualAutoEncoder(\n",
       "  (en1): Linear(in_features=192, out_features=500, bias=True)\n",
       "  (en2): Linear(in_features=500, out_features=500, bias=True)\n",
       "  (en3): Linear(in_features=500, out_features=2000, bias=True)\n",
       "  (en4): Linear(in_features=2000, out_features=30, bias=True)\n",
       "  (dc1): Linear(in_features=30, out_features=2000, bias=True)\n",
       "  (dc2): Linear(in_features=2000, out_features=500, bias=True)\n",
       "  (dc3): Linear(in_features=500, out_features=500, bias=True)\n",
       "  (dc4): Linear(in_features=500, out_features=192, bias=True)\n",
       ")"
      ]
     },
     "execution_count": 6,
     "metadata": {
      "tags": []
     },
     "output_type": "execute_result"
    }
   ],
   "source": [
    "# Test AutoEncoder\n",
    "ae = ResidualAutoEncoder(192)\n",
    "z, xo, xr = ae(torch.Tensor(np.zeros((10, 192))))\n",
    "ae"
   ]
  },
  {
   "cell_type": "code",
   "execution_count": 7,
   "metadata": {
    "colab": {
     "base_uri": "https://localhost:8080/"
    },
    "execution": {
     "iopub.execute_input": "2021-04-28T14:57:58.981730Z",
     "iopub.status.busy": "2021-04-28T14:57:58.980936Z",
     "iopub.status.idle": "2021-04-28T14:58:10.914795Z",
     "shell.execute_reply": "2021-04-28T14:58:10.915540Z"
    },
    "id": "BsCQD71L53gr",
    "outputId": "227432d3-4e6a-468f-bdbb-b1776fb62e70",
    "papermill": {
     "duration": 12.024238,
     "end_time": "2021-04-28T14:58:10.915780",
     "exception": false,
     "start_time": "2021-04-28T14:57:58.891542",
     "status": "completed"
    },
    "tags": []
   },
   "outputs": [
    {
     "name": "stdout",
     "output_type": "stream",
     "text": [
      "Downloading audio dataset...\n"
     ]
    },
    {
     "name": "stderr",
     "output_type": "stream",
     "text": [
      "Downloading...\n",
      "From: https://drive.google.com/uc?id=1-Ft9RKdEv6xcR3XHlVAgMNuf0jfy08aY\n",
      "To: /content/tmp.zip\n",
      "1.99GB [00:12, 163MB/s] \n"
     ]
    },
    {
     "name": "stdout",
     "output_type": "stream",
     "text": [
      "Download and Extraction Complete\n",
      "Downloading precomputed VADs...\n"
     ]
    },
    {
     "name": "stderr",
     "output_type": "stream",
     "text": [
      "Downloading...\n",
      "From: https://drive.google.com/uc?id=18oXqn9Zyt5tJpoEwKKztpTag-AJMQ2Sz\n",
      "To: /content/tmp.zip\n",
      "100%|██████████| 128k/128k [00:00<00:00, 50.5MB/s]\n"
     ]
    },
    {
     "name": "stdout",
     "output_type": "stream",
     "text": [
      "Download and Extraction Complete\n",
      "Precomputed X-vectors exists!\n",
      "Will use precomputed features...\n",
      "\n",
      "Downloading precomputed features...\n"
     ]
    },
    {
     "name": "stderr",
     "output_type": "stream",
     "text": [
      "Downloading...\n",
      "From: https://drive.google.com/uc?id=1-21RPeA2KoAymyoa99qD7jvFk6A8bgu8\n",
      "To: /content/tmp.zip\n",
      "208MB [00:01, 199MB/s]\n"
     ]
    },
    {
     "name": "stdout",
     "output_type": "stream",
     "text": [
      "Download and Extraction Complete\n",
      "\n",
      "Data size: 166\n"
     ]
    }
   ],
   "source": [
    "audio_dataset = DiarizationDataSet(dataset_name='voxconverse',\n",
    "                                   window_len=1500, \n",
    "                                   window_step=250,\n",
    "                                   split='train',\n",
    "                                   use_oracle_vad=False,\n",
    "                                   skip_overlap=False)\n",
    "\n",
    "print(\"\\nData size:\", len(audio_dataset))"
   ]
  },
  {
   "cell_type": "code",
   "execution_count": 12,
   "metadata": {
    "colab": {
     "base_uri": "https://localhost:8080/"
    },
    "execution": {
     "iopub.execute_input": "2021-04-28T14:58:50.583081Z",
     "iopub.status.busy": "2021-04-28T14:58:50.582155Z",
     "iopub.status.idle": "2021-04-28T14:58:53.683190Z",
     "shell.execute_reply": "2021-04-28T14:58:53.683975Z"
    },
    "id": "LKzKVQPx53gw",
    "outputId": "a665df10-b930-472b-c174-e3fc2b1d7d2f",
    "papermill": {
     "duration": 3.214633,
     "end_time": "2021-04-28T14:58:53.684183",
     "exception": false,
     "start_time": "2021-04-28T14:58:50.469550",
     "status": "completed"
    },
    "tags": []
   },
   "outputs": [
    {
     "data": {
      "text/plain": [
       "torch.Size([220389, 192])"
      ]
     },
     "execution_count": 12,
     "metadata": {
      "tags": []
     },
     "output_type": "execute_result"
    }
   ],
   "source": [
    "aeDataset = []\n",
    "for i in range(len(audio_dataset)):\n",
    "    data, diarization_segments, speech_segments, rttm_path = audio_dataset[i]\n",
    "    data = data[speech_segments==1]\n",
    "    aeDataset.append(data.detach().clone())\n",
    "\n",
    "aeDataset =  torch.vstack(aeDataset)\n",
    "aeDataset.shape"
   ]
  },
  {
   "cell_type": "code",
   "execution_count": null,
   "metadata": {
    "execution": {
     "iopub.execute_input": "2021-04-28T14:58:53.920794Z",
     "iopub.status.busy": "2021-04-28T14:58:53.919865Z",
     "iopub.status.idle": "2021-04-28T14:58:53.924216Z",
     "shell.execute_reply": "2021-04-28T14:58:53.923681Z"
    },
    "id": "timE3pwV53gx",
    "papermill": {
     "duration": 0.124074,
     "end_time": "2021-04-28T14:58:53.924355",
     "exception": false,
     "start_time": "2021-04-28T14:58:53.800281",
     "status": "completed"
    },
    "tags": []
   },
   "outputs": [],
   "source": [
    "class StackAETrainer:\n",
    "    def __init__(self, model, lr=0.0001):\n",
    "        self.model = model\n",
    "        self.criterion = nn.MSELoss()\n",
    "        self.optimizer = optim.Adam(self.model.parameters(), lr=lr)\n",
    "\n",
    "    def train(self, epochs, dataset, lossType='local', batch_size=256):\n",
    "        print('Training StackAE...')\n",
    "        \n",
    "        train_losses = []\n",
    "        for epoch in range(epochs):\n",
    "            dataset = dataset[np.random.choice(len(dataset), len(dataset), replace=False)]\n",
    "            epochProgress = tqdm(range(len(dataset)//batch_size), leave=True, ncols=750)\n",
    "            running_loss = 0.0\n",
    "            num_examples = 0\n",
    "\n",
    "            for data_idx in epochProgress:\n",
    "                x_data = dataset[data_idx*batch_size:(data_idx+1)*batch_size]\n",
    "                x_data = x_data.to(device)\n",
    "                \n",
    "                self.optimizer.zero_grad()\n",
    "                \n",
    "                z, xo, xr = self.model(x_data)\n",
    "                \n",
    "                if lossType=='local':\n",
    "                    loss = (len(xo)-0)*self.criterion(xo[0], xr[0])\n",
    "                    for i in range(1, len(xo)):\n",
    "                        loss += (len(xo)-i)*self.criterion(xo[i], xr[i])\n",
    "\n",
    "                    loss = loss/(len(xo)*(len(xo)+1)/2)\n",
    "                    \n",
    "                else:\n",
    "                    loss = self.criterion(xo[0], xr[0])\n",
    "                    \n",
    "                loss.backward()\n",
    "                self.optimizer.step()\n",
    "\n",
    "                running_loss += loss.item()\n",
    "                num_examples += 1\n",
    "\n",
    "                epochProgress.set_description(\"Epoch \" + str(epoch+1) + \"/\" + str(epochs) + \\\n",
    "                                              \" - train_loss: \" + \\\n",
    "                                              str(round(running_loss/num_examples, 3)), \\\n",
    "                                              refresh=True)\n",
    "                \n",
    "            currloss = round(running_loss/num_examples, 3)\n",
    "            train_losses.append(currloss)\n",
    "            \n",
    "        return train_losses"
   ]
  },
  {
   "cell_type": "code",
   "execution_count": null,
   "metadata": {
    "colab": {
     "referenced_widgets": [
      "bd84ee2cb93c43cf8e4c559aec506875",
      "2c3af35b0520478baf4fcd70d08f8517",
      "776c6f1ecd7348ebb353e30506e1581b",
      "29ae38d2ab824faab2fdf4564b46463f",
      "1c888456334048eb9597f6042db2acf8",
      "edd3a050501b4831a5e5d37b90819d88",
      "a4cfd75500604ee8b1019b19ea9ed594",
      "5088e620bf5743dda1bc1c1df7750a09",
      "0f1b9df7bc6040e29a3ced4cfc7b048a",
      "8d408dbeafb54193b9cf919640e97041",
      "b2ce9d0cf1c24fa199d2f07f5c9fd94b",
      "178c0efb0b594fe0b413a78a38ee9f3d",
      "b66cde95aaff4e19a75535b97c4b1fb1",
      "21fda515507b45b8869509f5cd2fc833",
      "85de60604be843c28c3af3f47396d0db",
      "6f3fe6234dd443339cc211f7689148da",
      "f19daa98fc6544eeb2b2fd52a7a81e23",
      "ac07dd5bcf1f4b7fa03d871f9be5aa2f",
      "4693d94268c74469bb8150bfadcc6f9d",
      "7cbf702e47514d71be4405f7cb3a83d2",
      "9dab50d703ac4741be7586c27c05e698",
      "51aa5bb91966465eaa7738e35de63cbe",
      "ecbf01e370b349a480cdda8f8d5bf191",
      "1a8f62353c1246f49d9ffdfa65804025",
      "b4691897e00b4f1ab245c05fd7dd8ed3",
      "9b0af08642264b1593a66a32fb1a88dc",
      "2901c22b639d46458376a1e50ba0fb83",
      "ee0e13c09dc54757a1f37f19feeaf691",
      "278782a452e04a23a873dab2b06815c3",
      "a533853335144c5eb9c1bb1e0e8bf0de",
      "2e762061e0f845aea51791d30600892c",
      "693b2a62a17141b19ef32a39ea565ba7",
      "3fda95c7bbd44e43b5d15e2754f27095",
      "c53bafb2d3d740ffb714fa09ba63fd14",
      "20d4119166e14555830a6d2368e3149d",
      "88f1c847f1c242259acaf81f5573717e",
      "39698493eae74099a9321e18346503f3",
      "4bca76970a5a4ed1803f246de9f7f02e",
      "62969da95e3049b782a085bcd7e2bd57",
      "429854d12c4a41a6bee54d1da355c237",
      "6d181938f9bf4d068ea3f320210dc4c1",
      "6c69600fb139410c8ff78c06cf2e07e0",
      "ccb9611bcc6b4ee087d20e36850bf191",
      "0fb1f2e97d174fae80d96d61dfb4f6b8",
      "b0c01e93e3f948f69f2f0ab970976e8f",
      "8a8d1e76bfd845bb9f5d3c35a4f040c9",
      "a91d3e765d094182ac61b56ff1e7a5e6",
      "cc93d6461b1c45d28e28b8a90fc67f73",
      "31b64fb45959418a829c5e410ca36c2f",
      "bfd16377b0b84403a41f9fddc6e2ca53",
      "9c564329a3d148feb88828704eabdba5",
      "9774be5201ef40e089397fa710deb856",
      "507a3c070dda4d2bb511bee819156877",
      "b62769aae2f64230828d9326d46e8862",
      "761de26591114340afd511597a255460",
      "9dc9812e128c4a2baff2a703a9a5a56b",
      "8f44d424c13242b8a9aa9cb6923e5a20",
      "11d2019de1ce49e192a9cdbe0928b321",
      "1a6796b864104bc3beef9a056aaa194b",
      "0a16ce2e920e45459b6d0cfc6e43e963"
     ]
    },
    "execution": {
     "iopub.execute_input": "2021-04-28T14:58:54.142287Z",
     "iopub.status.busy": "2021-04-28T14:58:54.141462Z",
     "iopub.status.idle": "2021-04-28T15:08:25.417043Z",
     "shell.execute_reply": "2021-04-28T15:08:25.415919Z"
    },
    "id": "XWCgPjVh53gz",
    "outputId": "dd507ec9-ef8d-4846-c265-f20372c9c58e",
    "papermill": {
     "duration": 571.386223,
     "end_time": "2021-04-28T15:08:25.417244",
     "exception": false,
     "start_time": "2021-04-28T14:58:54.031021",
     "status": "completed"
    },
    "scrolled": true,
    "tags": []
   },
   "outputs": [
    {
     "name": "stdout",
     "output_type": "stream",
     "text": [
      "Training StackAE...\n"
     ]
    },
    {
     "data": {
      "application/vnd.jupyter.widget-view+json": {
       "model_id": "bd84ee2cb93c43cf8e4c559aec506875",
       "version_major": 2,
       "version_minor": 0
      },
      "text/plain": [
       "  0%|                                                                                                         …"
      ]
     },
     "metadata": {
      "tags": []
     },
     "output_type": "display_data"
    },
    {
     "data": {
      "application/vnd.jupyter.widget-view+json": {
       "model_id": "2c3af35b0520478baf4fcd70d08f8517",
       "version_major": 2,
       "version_minor": 0
      },
      "text/plain": [
       "  0%|                                                                                                         …"
      ]
     },
     "metadata": {
      "tags": []
     },
     "output_type": "display_data"
    },
    {
     "data": {
      "application/vnd.jupyter.widget-view+json": {
       "model_id": "776c6f1ecd7348ebb353e30506e1581b",
       "version_major": 2,
       "version_minor": 0
      },
      "text/plain": [
       "  0%|                                                                                                         …"
      ]
     },
     "metadata": {
      "tags": []
     },
     "output_type": "display_data"
    },
    {
     "data": {
      "application/vnd.jupyter.widget-view+json": {
       "model_id": "29ae38d2ab824faab2fdf4564b46463f",
       "version_major": 2,
       "version_minor": 0
      },
      "text/plain": [
       "  0%|                                                                                                         …"
      ]
     },
     "metadata": {
      "tags": []
     },
     "output_type": "display_data"
    },
    {
     "data": {
      "application/vnd.jupyter.widget-view+json": {
       "model_id": "1c888456334048eb9597f6042db2acf8",
       "version_major": 2,
       "version_minor": 0
      },
      "text/plain": [
       "  0%|                                                                                                         …"
      ]
     },
     "metadata": {
      "tags": []
     },
     "output_type": "display_data"
    },
    {
     "data": {
      "application/vnd.jupyter.widget-view+json": {
       "model_id": "edd3a050501b4831a5e5d37b90819d88",
       "version_major": 2,
       "version_minor": 0
      },
      "text/plain": [
       "  0%|                                                                                                         …"
      ]
     },
     "metadata": {
      "tags": []
     },
     "output_type": "display_data"
    },
    {
     "data": {
      "application/vnd.jupyter.widget-view+json": {
       "model_id": "a4cfd75500604ee8b1019b19ea9ed594",
       "version_major": 2,
       "version_minor": 0
      },
      "text/plain": [
       "  0%|                                                                                                         …"
      ]
     },
     "metadata": {
      "tags": []
     },
     "output_type": "display_data"
    },
    {
     "data": {
      "application/vnd.jupyter.widget-view+json": {
       "model_id": "5088e620bf5743dda1bc1c1df7750a09",
       "version_major": 2,
       "version_minor": 0
      },
      "text/plain": [
       "  0%|                                                                                                         …"
      ]
     },
     "metadata": {
      "tags": []
     },
     "output_type": "display_data"
    },
    {
     "data": {
      "application/vnd.jupyter.widget-view+json": {
       "model_id": "0f1b9df7bc6040e29a3ced4cfc7b048a",
       "version_major": 2,
       "version_minor": 0
      },
      "text/plain": [
       "  0%|                                                                                                         …"
      ]
     },
     "metadata": {
      "tags": []
     },
     "output_type": "display_data"
    },
    {
     "data": {
      "application/vnd.jupyter.widget-view+json": {
       "model_id": "8d408dbeafb54193b9cf919640e97041",
       "version_major": 2,
       "version_minor": 0
      },
      "text/plain": [
       "  0%|                                                                                                         …"
      ]
     },
     "metadata": {
      "tags": []
     },
     "output_type": "display_data"
    },
    {
     "data": {
      "application/vnd.jupyter.widget-view+json": {
       "model_id": "b2ce9d0cf1c24fa199d2f07f5c9fd94b",
       "version_major": 2,
       "version_minor": 0
      },
      "text/plain": [
       "  0%|                                                                                                         …"
      ]
     },
     "metadata": {
      "tags": []
     },
     "output_type": "display_data"
    },
    {
     "data": {
      "application/vnd.jupyter.widget-view+json": {
       "model_id": "178c0efb0b594fe0b413a78a38ee9f3d",
       "version_major": 2,
       "version_minor": 0
      },
      "text/plain": [
       "  0%|                                                                                                         …"
      ]
     },
     "metadata": {
      "tags": []
     },
     "output_type": "display_data"
    },
    {
     "data": {
      "application/vnd.jupyter.widget-view+json": {
       "model_id": "b66cde95aaff4e19a75535b97c4b1fb1",
       "version_major": 2,
       "version_minor": 0
      },
      "text/plain": [
       "  0%|                                                                                                         …"
      ]
     },
     "metadata": {
      "tags": []
     },
     "output_type": "display_data"
    },
    {
     "data": {
      "application/vnd.jupyter.widget-view+json": {
       "model_id": "21fda515507b45b8869509f5cd2fc833",
       "version_major": 2,
       "version_minor": 0
      },
      "text/plain": [
       "  0%|                                                                                                         …"
      ]
     },
     "metadata": {
      "tags": []
     },
     "output_type": "display_data"
    },
    {
     "data": {
      "application/vnd.jupyter.widget-view+json": {
       "model_id": "85de60604be843c28c3af3f47396d0db",
       "version_major": 2,
       "version_minor": 0
      },
      "text/plain": [
       "  0%|                                                                                                         …"
      ]
     },
     "metadata": {
      "tags": []
     },
     "output_type": "display_data"
    },
    {
     "data": {
      "application/vnd.jupyter.widget-view+json": {
       "model_id": "6f3fe6234dd443339cc211f7689148da",
       "version_major": 2,
       "version_minor": 0
      },
      "text/plain": [
       "  0%|                                                                                                         …"
      ]
     },
     "metadata": {
      "tags": []
     },
     "output_type": "display_data"
    },
    {
     "data": {
      "application/vnd.jupyter.widget-view+json": {
       "model_id": "f19daa98fc6544eeb2b2fd52a7a81e23",
       "version_major": 2,
       "version_minor": 0
      },
      "text/plain": [
       "  0%|                                                                                                         …"
      ]
     },
     "metadata": {
      "tags": []
     },
     "output_type": "display_data"
    },
    {
     "data": {
      "application/vnd.jupyter.widget-view+json": {
       "model_id": "ac07dd5bcf1f4b7fa03d871f9be5aa2f",
       "version_major": 2,
       "version_minor": 0
      },
      "text/plain": [
       "  0%|                                                                                                         …"
      ]
     },
     "metadata": {
      "tags": []
     },
     "output_type": "display_data"
    },
    {
     "data": {
      "application/vnd.jupyter.widget-view+json": {
       "model_id": "4693d94268c74469bb8150bfadcc6f9d",
       "version_major": 2,
       "version_minor": 0
      },
      "text/plain": [
       "  0%|                                                                                                         …"
      ]
     },
     "metadata": {
      "tags": []
     },
     "output_type": "display_data"
    },
    {
     "data": {
      "application/vnd.jupyter.widget-view+json": {
       "model_id": "7cbf702e47514d71be4405f7cb3a83d2",
       "version_major": 2,
       "version_minor": 0
      },
      "text/plain": [
       "  0%|                                                                                                         …"
      ]
     },
     "metadata": {
      "tags": []
     },
     "output_type": "display_data"
    },
    {
     "data": {
      "application/vnd.jupyter.widget-view+json": {
       "model_id": "9dab50d703ac4741be7586c27c05e698",
       "version_major": 2,
       "version_minor": 0
      },
      "text/plain": [
       "  0%|                                                                                                         …"
      ]
     },
     "metadata": {
      "tags": []
     },
     "output_type": "display_data"
    },
    {
     "data": {
      "application/vnd.jupyter.widget-view+json": {
       "model_id": "51aa5bb91966465eaa7738e35de63cbe",
       "version_major": 2,
       "version_minor": 0
      },
      "text/plain": [
       "  0%|                                                                                                         …"
      ]
     },
     "metadata": {
      "tags": []
     },
     "output_type": "display_data"
    },
    {
     "data": {
      "application/vnd.jupyter.widget-view+json": {
       "model_id": "ecbf01e370b349a480cdda8f8d5bf191",
       "version_major": 2,
       "version_minor": 0
      },
      "text/plain": [
       "  0%|                                                                                                         …"
      ]
     },
     "metadata": {
      "tags": []
     },
     "output_type": "display_data"
    },
    {
     "data": {
      "application/vnd.jupyter.widget-view+json": {
       "model_id": "1a8f62353c1246f49d9ffdfa65804025",
       "version_major": 2,
       "version_minor": 0
      },
      "text/plain": [
       "  0%|                                                                                                         …"
      ]
     },
     "metadata": {
      "tags": []
     },
     "output_type": "display_data"
    },
    {
     "data": {
      "application/vnd.jupyter.widget-view+json": {
       "model_id": "b4691897e00b4f1ab245c05fd7dd8ed3",
       "version_major": 2,
       "version_minor": 0
      },
      "text/plain": [
       "  0%|                                                                                                         …"
      ]
     },
     "metadata": {
      "tags": []
     },
     "output_type": "display_data"
    },
    {
     "data": {
      "application/vnd.jupyter.widget-view+json": {
       "model_id": "9b0af08642264b1593a66a32fb1a88dc",
       "version_major": 2,
       "version_minor": 0
      },
      "text/plain": [
       "  0%|                                                                                                         …"
      ]
     },
     "metadata": {
      "tags": []
     },
     "output_type": "display_data"
    },
    {
     "data": {
      "application/vnd.jupyter.widget-view+json": {
       "model_id": "2901c22b639d46458376a1e50ba0fb83",
       "version_major": 2,
       "version_minor": 0
      },
      "text/plain": [
       "  0%|                                                                                                         …"
      ]
     },
     "metadata": {
      "tags": []
     },
     "output_type": "display_data"
    },
    {
     "data": {
      "application/vnd.jupyter.widget-view+json": {
       "model_id": "ee0e13c09dc54757a1f37f19feeaf691",
       "version_major": 2,
       "version_minor": 0
      },
      "text/plain": [
       "  0%|                                                                                                         …"
      ]
     },
     "metadata": {
      "tags": []
     },
     "output_type": "display_data"
    },
    {
     "data": {
      "application/vnd.jupyter.widget-view+json": {
       "model_id": "278782a452e04a23a873dab2b06815c3",
       "version_major": 2,
       "version_minor": 0
      },
      "text/plain": [
       "  0%|                                                                                                         …"
      ]
     },
     "metadata": {
      "tags": []
     },
     "output_type": "display_data"
    },
    {
     "data": {
      "application/vnd.jupyter.widget-view+json": {
       "model_id": "a533853335144c5eb9c1bb1e0e8bf0de",
       "version_major": 2,
       "version_minor": 0
      },
      "text/plain": [
       "  0%|                                                                                                         …"
      ]
     },
     "metadata": {
      "tags": []
     },
     "output_type": "display_data"
    },
    {
     "data": {
      "application/vnd.jupyter.widget-view+json": {
       "model_id": "2e762061e0f845aea51791d30600892c",
       "version_major": 2,
       "version_minor": 0
      },
      "text/plain": [
       "  0%|                                                                                                         …"
      ]
     },
     "metadata": {
      "tags": []
     },
     "output_type": "display_data"
    },
    {
     "data": {
      "application/vnd.jupyter.widget-view+json": {
       "model_id": "693b2a62a17141b19ef32a39ea565ba7",
       "version_major": 2,
       "version_minor": 0
      },
      "text/plain": [
       "  0%|                                                                                                         …"
      ]
     },
     "metadata": {
      "tags": []
     },
     "output_type": "display_data"
    },
    {
     "data": {
      "application/vnd.jupyter.widget-view+json": {
       "model_id": "3fda95c7bbd44e43b5d15e2754f27095",
       "version_major": 2,
       "version_minor": 0
      },
      "text/plain": [
       "  0%|                                                                                                         …"
      ]
     },
     "metadata": {
      "tags": []
     },
     "output_type": "display_data"
    },
    {
     "data": {
      "application/vnd.jupyter.widget-view+json": {
       "model_id": "c53bafb2d3d740ffb714fa09ba63fd14",
       "version_major": 2,
       "version_minor": 0
      },
      "text/plain": [
       "  0%|                                                                                                         …"
      ]
     },
     "metadata": {
      "tags": []
     },
     "output_type": "display_data"
    },
    {
     "data": {
      "application/vnd.jupyter.widget-view+json": {
       "model_id": "20d4119166e14555830a6d2368e3149d",
       "version_major": 2,
       "version_minor": 0
      },
      "text/plain": [
       "  0%|                                                                                                         …"
      ]
     },
     "metadata": {
      "tags": []
     },
     "output_type": "display_data"
    },
    {
     "data": {
      "application/vnd.jupyter.widget-view+json": {
       "model_id": "88f1c847f1c242259acaf81f5573717e",
       "version_major": 2,
       "version_minor": 0
      },
      "text/plain": [
       "  0%|                                                                                                         …"
      ]
     },
     "metadata": {
      "tags": []
     },
     "output_type": "display_data"
    },
    {
     "data": {
      "application/vnd.jupyter.widget-view+json": {
       "model_id": "39698493eae74099a9321e18346503f3",
       "version_major": 2,
       "version_minor": 0
      },
      "text/plain": [
       "  0%|                                                                                                         …"
      ]
     },
     "metadata": {
      "tags": []
     },
     "output_type": "display_data"
    },
    {
     "data": {
      "application/vnd.jupyter.widget-view+json": {
       "model_id": "4bca76970a5a4ed1803f246de9f7f02e",
       "version_major": 2,
       "version_minor": 0
      },
      "text/plain": [
       "  0%|                                                                                                         …"
      ]
     },
     "metadata": {
      "tags": []
     },
     "output_type": "display_data"
    },
    {
     "data": {
      "application/vnd.jupyter.widget-view+json": {
       "model_id": "62969da95e3049b782a085bcd7e2bd57",
       "version_major": 2,
       "version_minor": 0
      },
      "text/plain": [
       "  0%|                                                                                                         …"
      ]
     },
     "metadata": {
      "tags": []
     },
     "output_type": "display_data"
    },
    {
     "data": {
      "application/vnd.jupyter.widget-view+json": {
       "model_id": "429854d12c4a41a6bee54d1da355c237",
       "version_major": 2,
       "version_minor": 0
      },
      "text/plain": [
       "  0%|                                                                                                         …"
      ]
     },
     "metadata": {
      "tags": []
     },
     "output_type": "display_data"
    },
    {
     "data": {
      "application/vnd.jupyter.widget-view+json": {
       "model_id": "6d181938f9bf4d068ea3f320210dc4c1",
       "version_major": 2,
       "version_minor": 0
      },
      "text/plain": [
       "  0%|                                                                                                         …"
      ]
     },
     "metadata": {
      "tags": []
     },
     "output_type": "display_data"
    },
    {
     "data": {
      "application/vnd.jupyter.widget-view+json": {
       "model_id": "6c69600fb139410c8ff78c06cf2e07e0",
       "version_major": 2,
       "version_minor": 0
      },
      "text/plain": [
       "  0%|                                                                                                         …"
      ]
     },
     "metadata": {
      "tags": []
     },
     "output_type": "display_data"
    },
    {
     "data": {
      "application/vnd.jupyter.widget-view+json": {
       "model_id": "ccb9611bcc6b4ee087d20e36850bf191",
       "version_major": 2,
       "version_minor": 0
      },
      "text/plain": [
       "  0%|                                                                                                         …"
      ]
     },
     "metadata": {
      "tags": []
     },
     "output_type": "display_data"
    },
    {
     "data": {
      "application/vnd.jupyter.widget-view+json": {
       "model_id": "0fb1f2e97d174fae80d96d61dfb4f6b8",
       "version_major": 2,
       "version_minor": 0
      },
      "text/plain": [
       "  0%|                                                                                                         …"
      ]
     },
     "metadata": {
      "tags": []
     },
     "output_type": "display_data"
    },
    {
     "data": {
      "application/vnd.jupyter.widget-view+json": {
       "model_id": "b0c01e93e3f948f69f2f0ab970976e8f",
       "version_major": 2,
       "version_minor": 0
      },
      "text/plain": [
       "  0%|                                                                                                         …"
      ]
     },
     "metadata": {
      "tags": []
     },
     "output_type": "display_data"
    },
    {
     "data": {
      "application/vnd.jupyter.widget-view+json": {
       "model_id": "8a8d1e76bfd845bb9f5d3c35a4f040c9",
       "version_major": 2,
       "version_minor": 0
      },
      "text/plain": [
       "  0%|                                                                                                         …"
      ]
     },
     "metadata": {
      "tags": []
     },
     "output_type": "display_data"
    },
    {
     "data": {
      "application/vnd.jupyter.widget-view+json": {
       "model_id": "a91d3e765d094182ac61b56ff1e7a5e6",
       "version_major": 2,
       "version_minor": 0
      },
      "text/plain": [
       "  0%|                                                                                                         …"
      ]
     },
     "metadata": {
      "tags": []
     },
     "output_type": "display_data"
    },
    {
     "data": {
      "application/vnd.jupyter.widget-view+json": {
       "model_id": "cc93d6461b1c45d28e28b8a90fc67f73",
       "version_major": 2,
       "version_minor": 0
      },
      "text/plain": [
       "  0%|                                                                                                         …"
      ]
     },
     "metadata": {
      "tags": []
     },
     "output_type": "display_data"
    },
    {
     "data": {
      "application/vnd.jupyter.widget-view+json": {
       "model_id": "31b64fb45959418a829c5e410ca36c2f",
       "version_major": 2,
       "version_minor": 0
      },
      "text/plain": [
       "  0%|                                                                                                         …"
      ]
     },
     "metadata": {
      "tags": []
     },
     "output_type": "display_data"
    },
    {
     "data": {
      "application/vnd.jupyter.widget-view+json": {
       "model_id": "bfd16377b0b84403a41f9fddc6e2ca53",
       "version_major": 2,
       "version_minor": 0
      },
      "text/plain": [
       "  0%|                                                                                                         …"
      ]
     },
     "metadata": {
      "tags": []
     },
     "output_type": "display_data"
    },
    {
     "data": {
      "application/vnd.jupyter.widget-view+json": {
       "model_id": "9c564329a3d148feb88828704eabdba5",
       "version_major": 2,
       "version_minor": 0
      },
      "text/plain": [
       "  0%|                                                                                                         …"
      ]
     },
     "metadata": {
      "tags": []
     },
     "output_type": "display_data"
    },
    {
     "data": {
      "application/vnd.jupyter.widget-view+json": {
       "model_id": "9774be5201ef40e089397fa710deb856",
       "version_major": 2,
       "version_minor": 0
      },
      "text/plain": [
       "  0%|                                                                                                         …"
      ]
     },
     "metadata": {
      "tags": []
     },
     "output_type": "display_data"
    },
    {
     "data": {
      "application/vnd.jupyter.widget-view+json": {
       "model_id": "507a3c070dda4d2bb511bee819156877",
       "version_major": 2,
       "version_minor": 0
      },
      "text/plain": [
       "  0%|                                                                                                         …"
      ]
     },
     "metadata": {
      "tags": []
     },
     "output_type": "display_data"
    },
    {
     "data": {
      "application/vnd.jupyter.widget-view+json": {
       "model_id": "b62769aae2f64230828d9326d46e8862",
       "version_major": 2,
       "version_minor": 0
      },
      "text/plain": [
       "  0%|                                                                                                         …"
      ]
     },
     "metadata": {
      "tags": []
     },
     "output_type": "display_data"
    },
    {
     "data": {
      "application/vnd.jupyter.widget-view+json": {
       "model_id": "761de26591114340afd511597a255460",
       "version_major": 2,
       "version_minor": 0
      },
      "text/plain": [
       "  0%|                                                                                                         …"
      ]
     },
     "metadata": {
      "tags": []
     },
     "output_type": "display_data"
    },
    {
     "data": {
      "application/vnd.jupyter.widget-view+json": {
       "model_id": "9dc9812e128c4a2baff2a703a9a5a56b",
       "version_major": 2,
       "version_minor": 0
      },
      "text/plain": [
       "  0%|                                                                                                         …"
      ]
     },
     "metadata": {
      "tags": []
     },
     "output_type": "display_data"
    },
    {
     "data": {
      "application/vnd.jupyter.widget-view+json": {
       "model_id": "8f44d424c13242b8a9aa9cb6923e5a20",
       "version_major": 2,
       "version_minor": 0
      },
      "text/plain": [
       "  0%|                                                                                                         …"
      ]
     },
     "metadata": {
      "tags": []
     },
     "output_type": "display_data"
    },
    {
     "data": {
      "application/vnd.jupyter.widget-view+json": {
       "model_id": "11d2019de1ce49e192a9cdbe0928b321",
       "version_major": 2,
       "version_minor": 0
      },
      "text/plain": [
       "  0%|                                                                                                         …"
      ]
     },
     "metadata": {
      "tags": []
     },
     "output_type": "display_data"
    },
    {
     "data": {
      "application/vnd.jupyter.widget-view+json": {
       "model_id": "1a6796b864104bc3beef9a056aaa194b",
       "version_major": 2,
       "version_minor": 0
      },
      "text/plain": [
       "  0%|                                                                                                         …"
      ]
     },
     "metadata": {
      "tags": []
     },
     "output_type": "display_data"
    },
    {
     "data": {
      "application/vnd.jupyter.widget-view+json": {
       "model_id": "0a16ce2e920e45459b6d0cfc6e43e963",
       "version_major": 2,
       "version_minor": 0
      },
      "text/plain": [
       "  0%|                                                                                                         …"
      ]
     },
     "metadata": {
      "tags": []
     },
     "output_type": "display_data"
    }
   ],
   "source": [
    "ae = ResidualAutoEncoder(192)\n",
    "ae = ae.to(device)\n",
    "\n",
    "model = StackAETrainer(ae, lr=1e-3)\n",
    "history = model.train(60, aeDataset)"
   ]
  },
  {
   "cell_type": "code",
   "execution_count": null,
   "metadata": {
    "colab": {
     "referenced_widgets": [
      "d295785d21a64298b0f07e0d90e150d3",
      "59dd284e28004ee091b0afcf6b96f550",
      "b782f7457bf3417b8a658fe4a926fa26",
      "6ef13e3c2a70498ba8107ce0f53b2825",
      "be9b046b027346598a24d68f7b14b5d0",
      "8dd90cce172d4a5e90c06ee3dbc3d3ee",
      "f5432f802c6249919bdb31cd843e7a0d",
      "9da3f7c8221549eba74c8debe33126b6",
      "dad9318c2dc84e0b883b7f188decba1a",
      "932b5eeb99394e3c954396856412df2a",
      "5dd6dc12afc54f78a2fbd0bd9781a6e6",
      "80df01dc0efd41b0a7205d6ef4bab51b",
      "eb3894e9a8e143b2b5a3203e302ff4bc",
      "dd1c5d6460a04c00a9db63f760fecd03",
      "74042f069b5c4c739ffc94871b196e89",
      "8341d678bc5f47f2af89b033a1b2de97",
      "1a384747a28b474fb6e585c75acafc73",
      "63fdf848b9ee4a00b61abdbf01626be7",
      "6b427ba32a60436b9f5454b1280a2341",
      "c53d4276a4a84a1e9f021b9d7b0d4fd3",
      "73e57cf91fd8413aac16238c7a2df8f6",
      "6a0ae858f8e74fcf877aaf6023f4439c",
      "df89c54abb5e48b7b767cde59237a0c2",
      "42429cd43b8b47778a77fd3d16d6e60a",
      "9cae5f2ee3994027a2101324fb35815d",
      "edad1eafef0549c887bb22571754c7c3",
      "e36ece3e9eda437d931053fdedb48ec4",
      "2201f40c2f674f48b07e034f5adad5f8",
      "17b99299913b4a169a40764e9d88469c",
      "13598d908fdb4ed08f79a14c56fd999b",
      "ab3724ddabeb427ca972ae64302e864f",
      "693bc43d986f4d3faa9c90f998b09862",
      "e8bbb20c17c746ad9b2ff763ea5dc684",
      "88f56e742bbe4fe09bd9ac1516ac56a0",
      "197a44f6b7bf4a1088a74770b34f87f6",
      "22f3994f5c264cf3aada50c1a340040e",
      "69dfbc93cc06491294de4ee47ae7e207",
      "648e45ee222a4d48a65db115412a65bd",
      "ffc62ff4b46e4eaab29b185ca0c86468",
      "906db0955dd84d9eaa4148786914f2c6",
      "2f3206efd7bc4751aa420a3839f3db42",
      "974f4fda14c34b3db976eacebd608416",
      "2acf91b713e740cfb05e891bc3070e8f",
      "4047230da3dc4ee582faf9dea006864b",
      "0a68eac0e2ac4b339568de6ad1a34622",
      "d8153df2c9ba4549ab23cfb9e5d43661",
      "bdfcebb8317b4faf895e09478a54253b",
      "5356432dff314133a25ed5886f9c27be",
      "cf362aa8e69242058fa3c52b81ee708a",
      "04aadfb1f2d74d8eae55ab1635696a7c",
      "27af866611df4fa4886a00c2bff3cf06",
      "374e153dff204106ab5100986a31016b",
      "bfb057b5bf5c42c3a40b736abf7d99e7",
      "44e0af814f454181935673558c31934b",
      "bf74641cc70247e3b2e7550a769b3c03",
      "88eb8e3638af4169a74459cbfb6d2f72",
      "c0f8802df28f4b11a12e2f6c4231ce2f",
      "2766f83c74bf49a2b38e21cda54431cd",
      "665d06667faa4170a6576a504f4d8731",
      "7e72baeb1a2a4bb8a743580080b3bcc3"
     ]
    },
    "execution": {
     "iopub.execute_input": "2021-04-28T15:08:25.730417Z",
     "iopub.status.busy": "2021-04-28T15:08:25.723753Z",
     "iopub.status.idle": "2021-04-28T15:18:20.267849Z",
     "shell.execute_reply": "2021-04-28T15:18:20.268387Z"
    },
    "id": "ggiEj_lm53g1",
    "outputId": "16739ed0-3f86-484d-e288-f35722a0a883",
    "papermill": {
     "duration": 594.71395,
     "end_time": "2021-04-28T15:18:20.268618",
     "exception": false,
     "start_time": "2021-04-28T15:08:25.554668",
     "status": "completed"
    },
    "scrolled": true,
    "tags": []
   },
   "outputs": [
    {
     "name": "stdout",
     "output_type": "stream",
     "text": [
      "Training StackAE...\n"
     ]
    },
    {
     "data": {
      "application/vnd.jupyter.widget-view+json": {
       "model_id": "d295785d21a64298b0f07e0d90e150d3",
       "version_major": 2,
       "version_minor": 0
      },
      "text/plain": [
       "  0%|                                                                                                         …"
      ]
     },
     "metadata": {
      "tags": []
     },
     "output_type": "display_data"
    },
    {
     "data": {
      "application/vnd.jupyter.widget-view+json": {
       "model_id": "59dd284e28004ee091b0afcf6b96f550",
       "version_major": 2,
       "version_minor": 0
      },
      "text/plain": [
       "  0%|                                                                                                         …"
      ]
     },
     "metadata": {
      "tags": []
     },
     "output_type": "display_data"
    },
    {
     "data": {
      "application/vnd.jupyter.widget-view+json": {
       "model_id": "b782f7457bf3417b8a658fe4a926fa26",
       "version_major": 2,
       "version_minor": 0
      },
      "text/plain": [
       "  0%|                                                                                                         …"
      ]
     },
     "metadata": {
      "tags": []
     },
     "output_type": "display_data"
    },
    {
     "data": {
      "application/vnd.jupyter.widget-view+json": {
       "model_id": "6ef13e3c2a70498ba8107ce0f53b2825",
       "version_major": 2,
       "version_minor": 0
      },
      "text/plain": [
       "  0%|                                                                                                         …"
      ]
     },
     "metadata": {
      "tags": []
     },
     "output_type": "display_data"
    },
    {
     "data": {
      "application/vnd.jupyter.widget-view+json": {
       "model_id": "be9b046b027346598a24d68f7b14b5d0",
       "version_major": 2,
       "version_minor": 0
      },
      "text/plain": [
       "  0%|                                                                                                         …"
      ]
     },
     "metadata": {
      "tags": []
     },
     "output_type": "display_data"
    },
    {
     "data": {
      "application/vnd.jupyter.widget-view+json": {
       "model_id": "8dd90cce172d4a5e90c06ee3dbc3d3ee",
       "version_major": 2,
       "version_minor": 0
      },
      "text/plain": [
       "  0%|                                                                                                         …"
      ]
     },
     "metadata": {
      "tags": []
     },
     "output_type": "display_data"
    },
    {
     "data": {
      "application/vnd.jupyter.widget-view+json": {
       "model_id": "f5432f802c6249919bdb31cd843e7a0d",
       "version_major": 2,
       "version_minor": 0
      },
      "text/plain": [
       "  0%|                                                                                                         …"
      ]
     },
     "metadata": {
      "tags": []
     },
     "output_type": "display_data"
    },
    {
     "data": {
      "application/vnd.jupyter.widget-view+json": {
       "model_id": "9da3f7c8221549eba74c8debe33126b6",
       "version_major": 2,
       "version_minor": 0
      },
      "text/plain": [
       "  0%|                                                                                                         …"
      ]
     },
     "metadata": {
      "tags": []
     },
     "output_type": "display_data"
    },
    {
     "data": {
      "application/vnd.jupyter.widget-view+json": {
       "model_id": "dad9318c2dc84e0b883b7f188decba1a",
       "version_major": 2,
       "version_minor": 0
      },
      "text/plain": [
       "  0%|                                                                                                         …"
      ]
     },
     "metadata": {
      "tags": []
     },
     "output_type": "display_data"
    },
    {
     "data": {
      "application/vnd.jupyter.widget-view+json": {
       "model_id": "932b5eeb99394e3c954396856412df2a",
       "version_major": 2,
       "version_minor": 0
      },
      "text/plain": [
       "  0%|                                                                                                         …"
      ]
     },
     "metadata": {
      "tags": []
     },
     "output_type": "display_data"
    },
    {
     "data": {
      "application/vnd.jupyter.widget-view+json": {
       "model_id": "5dd6dc12afc54f78a2fbd0bd9781a6e6",
       "version_major": 2,
       "version_minor": 0
      },
      "text/plain": [
       "  0%|                                                                                                         …"
      ]
     },
     "metadata": {
      "tags": []
     },
     "output_type": "display_data"
    },
    {
     "data": {
      "application/vnd.jupyter.widget-view+json": {
       "model_id": "80df01dc0efd41b0a7205d6ef4bab51b",
       "version_major": 2,
       "version_minor": 0
      },
      "text/plain": [
       "  0%|                                                                                                         …"
      ]
     },
     "metadata": {
      "tags": []
     },
     "output_type": "display_data"
    },
    {
     "data": {
      "application/vnd.jupyter.widget-view+json": {
       "model_id": "eb3894e9a8e143b2b5a3203e302ff4bc",
       "version_major": 2,
       "version_minor": 0
      },
      "text/plain": [
       "  0%|                                                                                                         …"
      ]
     },
     "metadata": {
      "tags": []
     },
     "output_type": "display_data"
    },
    {
     "data": {
      "application/vnd.jupyter.widget-view+json": {
       "model_id": "dd1c5d6460a04c00a9db63f760fecd03",
       "version_major": 2,
       "version_minor": 0
      },
      "text/plain": [
       "  0%|                                                                                                         …"
      ]
     },
     "metadata": {
      "tags": []
     },
     "output_type": "display_data"
    },
    {
     "data": {
      "application/vnd.jupyter.widget-view+json": {
       "model_id": "74042f069b5c4c739ffc94871b196e89",
       "version_major": 2,
       "version_minor": 0
      },
      "text/plain": [
       "  0%|                                                                                                         …"
      ]
     },
     "metadata": {
      "tags": []
     },
     "output_type": "display_data"
    },
    {
     "data": {
      "application/vnd.jupyter.widget-view+json": {
       "model_id": "8341d678bc5f47f2af89b033a1b2de97",
       "version_major": 2,
       "version_minor": 0
      },
      "text/plain": [
       "  0%|                                                                                                         …"
      ]
     },
     "metadata": {
      "tags": []
     },
     "output_type": "display_data"
    },
    {
     "data": {
      "application/vnd.jupyter.widget-view+json": {
       "model_id": "1a384747a28b474fb6e585c75acafc73",
       "version_major": 2,
       "version_minor": 0
      },
      "text/plain": [
       "  0%|                                                                                                         …"
      ]
     },
     "metadata": {
      "tags": []
     },
     "output_type": "display_data"
    },
    {
     "data": {
      "application/vnd.jupyter.widget-view+json": {
       "model_id": "63fdf848b9ee4a00b61abdbf01626be7",
       "version_major": 2,
       "version_minor": 0
      },
      "text/plain": [
       "  0%|                                                                                                         …"
      ]
     },
     "metadata": {
      "tags": []
     },
     "output_type": "display_data"
    },
    {
     "data": {
      "application/vnd.jupyter.widget-view+json": {
       "model_id": "6b427ba32a60436b9f5454b1280a2341",
       "version_major": 2,
       "version_minor": 0
      },
      "text/plain": [
       "  0%|                                                                                                         …"
      ]
     },
     "metadata": {
      "tags": []
     },
     "output_type": "display_data"
    },
    {
     "data": {
      "application/vnd.jupyter.widget-view+json": {
       "model_id": "c53d4276a4a84a1e9f021b9d7b0d4fd3",
       "version_major": 2,
       "version_minor": 0
      },
      "text/plain": [
       "  0%|                                                                                                         …"
      ]
     },
     "metadata": {
      "tags": []
     },
     "output_type": "display_data"
    },
    {
     "data": {
      "application/vnd.jupyter.widget-view+json": {
       "model_id": "73e57cf91fd8413aac16238c7a2df8f6",
       "version_major": 2,
       "version_minor": 0
      },
      "text/plain": [
       "  0%|                                                                                                         …"
      ]
     },
     "metadata": {
      "tags": []
     },
     "output_type": "display_data"
    },
    {
     "data": {
      "application/vnd.jupyter.widget-view+json": {
       "model_id": "6a0ae858f8e74fcf877aaf6023f4439c",
       "version_major": 2,
       "version_minor": 0
      },
      "text/plain": [
       "  0%|                                                                                                         …"
      ]
     },
     "metadata": {
      "tags": []
     },
     "output_type": "display_data"
    },
    {
     "data": {
      "application/vnd.jupyter.widget-view+json": {
       "model_id": "df89c54abb5e48b7b767cde59237a0c2",
       "version_major": 2,
       "version_minor": 0
      },
      "text/plain": [
       "  0%|                                                                                                         …"
      ]
     },
     "metadata": {
      "tags": []
     },
     "output_type": "display_data"
    },
    {
     "data": {
      "application/vnd.jupyter.widget-view+json": {
       "model_id": "42429cd43b8b47778a77fd3d16d6e60a",
       "version_major": 2,
       "version_minor": 0
      },
      "text/plain": [
       "  0%|                                                                                                         …"
      ]
     },
     "metadata": {
      "tags": []
     },
     "output_type": "display_data"
    },
    {
     "data": {
      "application/vnd.jupyter.widget-view+json": {
       "model_id": "9cae5f2ee3994027a2101324fb35815d",
       "version_major": 2,
       "version_minor": 0
      },
      "text/plain": [
       "  0%|                                                                                                         …"
      ]
     },
     "metadata": {
      "tags": []
     },
     "output_type": "display_data"
    },
    {
     "data": {
      "application/vnd.jupyter.widget-view+json": {
       "model_id": "edad1eafef0549c887bb22571754c7c3",
       "version_major": 2,
       "version_minor": 0
      },
      "text/plain": [
       "  0%|                                                                                                         …"
      ]
     },
     "metadata": {
      "tags": []
     },
     "output_type": "display_data"
    },
    {
     "data": {
      "application/vnd.jupyter.widget-view+json": {
       "model_id": "e36ece3e9eda437d931053fdedb48ec4",
       "version_major": 2,
       "version_minor": 0
      },
      "text/plain": [
       "  0%|                                                                                                         …"
      ]
     },
     "metadata": {
      "tags": []
     },
     "output_type": "display_data"
    },
    {
     "data": {
      "application/vnd.jupyter.widget-view+json": {
       "model_id": "2201f40c2f674f48b07e034f5adad5f8",
       "version_major": 2,
       "version_minor": 0
      },
      "text/plain": [
       "  0%|                                                                                                         …"
      ]
     },
     "metadata": {
      "tags": []
     },
     "output_type": "display_data"
    },
    {
     "data": {
      "application/vnd.jupyter.widget-view+json": {
       "model_id": "17b99299913b4a169a40764e9d88469c",
       "version_major": 2,
       "version_minor": 0
      },
      "text/plain": [
       "  0%|                                                                                                         …"
      ]
     },
     "metadata": {
      "tags": []
     },
     "output_type": "display_data"
    },
    {
     "data": {
      "application/vnd.jupyter.widget-view+json": {
       "model_id": "13598d908fdb4ed08f79a14c56fd999b",
       "version_major": 2,
       "version_minor": 0
      },
      "text/plain": [
       "  0%|                                                                                                         …"
      ]
     },
     "metadata": {
      "tags": []
     },
     "output_type": "display_data"
    },
    {
     "data": {
      "application/vnd.jupyter.widget-view+json": {
       "model_id": "ab3724ddabeb427ca972ae64302e864f",
       "version_major": 2,
       "version_minor": 0
      },
      "text/plain": [
       "  0%|                                                                                                         …"
      ]
     },
     "metadata": {
      "tags": []
     },
     "output_type": "display_data"
    },
    {
     "data": {
      "application/vnd.jupyter.widget-view+json": {
       "model_id": "693bc43d986f4d3faa9c90f998b09862",
       "version_major": 2,
       "version_minor": 0
      },
      "text/plain": [
       "  0%|                                                                                                         …"
      ]
     },
     "metadata": {
      "tags": []
     },
     "output_type": "display_data"
    },
    {
     "data": {
      "application/vnd.jupyter.widget-view+json": {
       "model_id": "e8bbb20c17c746ad9b2ff763ea5dc684",
       "version_major": 2,
       "version_minor": 0
      },
      "text/plain": [
       "  0%|                                                                                                         …"
      ]
     },
     "metadata": {
      "tags": []
     },
     "output_type": "display_data"
    },
    {
     "data": {
      "application/vnd.jupyter.widget-view+json": {
       "model_id": "88f56e742bbe4fe09bd9ac1516ac56a0",
       "version_major": 2,
       "version_minor": 0
      },
      "text/plain": [
       "  0%|                                                                                                         …"
      ]
     },
     "metadata": {
      "tags": []
     },
     "output_type": "display_data"
    },
    {
     "data": {
      "application/vnd.jupyter.widget-view+json": {
       "model_id": "197a44f6b7bf4a1088a74770b34f87f6",
       "version_major": 2,
       "version_minor": 0
      },
      "text/plain": [
       "  0%|                                                                                                         …"
      ]
     },
     "metadata": {
      "tags": []
     },
     "output_type": "display_data"
    },
    {
     "data": {
      "application/vnd.jupyter.widget-view+json": {
       "model_id": "22f3994f5c264cf3aada50c1a340040e",
       "version_major": 2,
       "version_minor": 0
      },
      "text/plain": [
       "  0%|                                                                                                         …"
      ]
     },
     "metadata": {
      "tags": []
     },
     "output_type": "display_data"
    },
    {
     "data": {
      "application/vnd.jupyter.widget-view+json": {
       "model_id": "69dfbc93cc06491294de4ee47ae7e207",
       "version_major": 2,
       "version_minor": 0
      },
      "text/plain": [
       "  0%|                                                                                                         …"
      ]
     },
     "metadata": {
      "tags": []
     },
     "output_type": "display_data"
    },
    {
     "data": {
      "application/vnd.jupyter.widget-view+json": {
       "model_id": "648e45ee222a4d48a65db115412a65bd",
       "version_major": 2,
       "version_minor": 0
      },
      "text/plain": [
       "  0%|                                                                                                         …"
      ]
     },
     "metadata": {
      "tags": []
     },
     "output_type": "display_data"
    },
    {
     "data": {
      "application/vnd.jupyter.widget-view+json": {
       "model_id": "ffc62ff4b46e4eaab29b185ca0c86468",
       "version_major": 2,
       "version_minor": 0
      },
      "text/plain": [
       "  0%|                                                                                                         …"
      ]
     },
     "metadata": {
      "tags": []
     },
     "output_type": "display_data"
    },
    {
     "data": {
      "application/vnd.jupyter.widget-view+json": {
       "model_id": "906db0955dd84d9eaa4148786914f2c6",
       "version_major": 2,
       "version_minor": 0
      },
      "text/plain": [
       "  0%|                                                                                                         …"
      ]
     },
     "metadata": {
      "tags": []
     },
     "output_type": "display_data"
    },
    {
     "data": {
      "application/vnd.jupyter.widget-view+json": {
       "model_id": "2f3206efd7bc4751aa420a3839f3db42",
       "version_major": 2,
       "version_minor": 0
      },
      "text/plain": [
       "  0%|                                                                                                         …"
      ]
     },
     "metadata": {
      "tags": []
     },
     "output_type": "display_data"
    },
    {
     "data": {
      "application/vnd.jupyter.widget-view+json": {
       "model_id": "974f4fda14c34b3db976eacebd608416",
       "version_major": 2,
       "version_minor": 0
      },
      "text/plain": [
       "  0%|                                                                                                         …"
      ]
     },
     "metadata": {
      "tags": []
     },
     "output_type": "display_data"
    },
    {
     "data": {
      "application/vnd.jupyter.widget-view+json": {
       "model_id": "2acf91b713e740cfb05e891bc3070e8f",
       "version_major": 2,
       "version_minor": 0
      },
      "text/plain": [
       "  0%|                                                                                                         …"
      ]
     },
     "metadata": {
      "tags": []
     },
     "output_type": "display_data"
    },
    {
     "data": {
      "application/vnd.jupyter.widget-view+json": {
       "model_id": "4047230da3dc4ee582faf9dea006864b",
       "version_major": 2,
       "version_minor": 0
      },
      "text/plain": [
       "  0%|                                                                                                         …"
      ]
     },
     "metadata": {
      "tags": []
     },
     "output_type": "display_data"
    },
    {
     "data": {
      "application/vnd.jupyter.widget-view+json": {
       "model_id": "0a68eac0e2ac4b339568de6ad1a34622",
       "version_major": 2,
       "version_minor": 0
      },
      "text/plain": [
       "  0%|                                                                                                         …"
      ]
     },
     "metadata": {
      "tags": []
     },
     "output_type": "display_data"
    },
    {
     "data": {
      "application/vnd.jupyter.widget-view+json": {
       "model_id": "d8153df2c9ba4549ab23cfb9e5d43661",
       "version_major": 2,
       "version_minor": 0
      },
      "text/plain": [
       "  0%|                                                                                                         …"
      ]
     },
     "metadata": {
      "tags": []
     },
     "output_type": "display_data"
    },
    {
     "data": {
      "application/vnd.jupyter.widget-view+json": {
       "model_id": "bdfcebb8317b4faf895e09478a54253b",
       "version_major": 2,
       "version_minor": 0
      },
      "text/plain": [
       "  0%|                                                                                                         …"
      ]
     },
     "metadata": {
      "tags": []
     },
     "output_type": "display_data"
    },
    {
     "data": {
      "application/vnd.jupyter.widget-view+json": {
       "model_id": "5356432dff314133a25ed5886f9c27be",
       "version_major": 2,
       "version_minor": 0
      },
      "text/plain": [
       "  0%|                                                                                                         …"
      ]
     },
     "metadata": {
      "tags": []
     },
     "output_type": "display_data"
    },
    {
     "data": {
      "application/vnd.jupyter.widget-view+json": {
       "model_id": "cf362aa8e69242058fa3c52b81ee708a",
       "version_major": 2,
       "version_minor": 0
      },
      "text/plain": [
       "  0%|                                                                                                         …"
      ]
     },
     "metadata": {
      "tags": []
     },
     "output_type": "display_data"
    },
    {
     "data": {
      "application/vnd.jupyter.widget-view+json": {
       "model_id": "04aadfb1f2d74d8eae55ab1635696a7c",
       "version_major": 2,
       "version_minor": 0
      },
      "text/plain": [
       "  0%|                                                                                                         …"
      ]
     },
     "metadata": {
      "tags": []
     },
     "output_type": "display_data"
    },
    {
     "data": {
      "application/vnd.jupyter.widget-view+json": {
       "model_id": "27af866611df4fa4886a00c2bff3cf06",
       "version_major": 2,
       "version_minor": 0
      },
      "text/plain": [
       "  0%|                                                                                                         …"
      ]
     },
     "metadata": {
      "tags": []
     },
     "output_type": "display_data"
    },
    {
     "data": {
      "application/vnd.jupyter.widget-view+json": {
       "model_id": "374e153dff204106ab5100986a31016b",
       "version_major": 2,
       "version_minor": 0
      },
      "text/plain": [
       "  0%|                                                                                                         …"
      ]
     },
     "metadata": {
      "tags": []
     },
     "output_type": "display_data"
    },
    {
     "data": {
      "application/vnd.jupyter.widget-view+json": {
       "model_id": "bfb057b5bf5c42c3a40b736abf7d99e7",
       "version_major": 2,
       "version_minor": 0
      },
      "text/plain": [
       "  0%|                                                                                                         …"
      ]
     },
     "metadata": {
      "tags": []
     },
     "output_type": "display_data"
    },
    {
     "data": {
      "application/vnd.jupyter.widget-view+json": {
       "model_id": "44e0af814f454181935673558c31934b",
       "version_major": 2,
       "version_minor": 0
      },
      "text/plain": [
       "  0%|                                                                                                         …"
      ]
     },
     "metadata": {
      "tags": []
     },
     "output_type": "display_data"
    },
    {
     "data": {
      "application/vnd.jupyter.widget-view+json": {
       "model_id": "bf74641cc70247e3b2e7550a769b3c03",
       "version_major": 2,
       "version_minor": 0
      },
      "text/plain": [
       "  0%|                                                                                                         …"
      ]
     },
     "metadata": {
      "tags": []
     },
     "output_type": "display_data"
    },
    {
     "data": {
      "application/vnd.jupyter.widget-view+json": {
       "model_id": "88eb8e3638af4169a74459cbfb6d2f72",
       "version_major": 2,
       "version_minor": 0
      },
      "text/plain": [
       "  0%|                                                                                                         …"
      ]
     },
     "metadata": {
      "tags": []
     },
     "output_type": "display_data"
    },
    {
     "data": {
      "application/vnd.jupyter.widget-view+json": {
       "model_id": "c0f8802df28f4b11a12e2f6c4231ce2f",
       "version_major": 2,
       "version_minor": 0
      },
      "text/plain": [
       "  0%|                                                                                                         …"
      ]
     },
     "metadata": {
      "tags": []
     },
     "output_type": "display_data"
    },
    {
     "data": {
      "application/vnd.jupyter.widget-view+json": {
       "model_id": "2766f83c74bf49a2b38e21cda54431cd",
       "version_major": 2,
       "version_minor": 0
      },
      "text/plain": [
       "  0%|                                                                                                         …"
      ]
     },
     "metadata": {
      "tags": []
     },
     "output_type": "display_data"
    },
    {
     "data": {
      "application/vnd.jupyter.widget-view+json": {
       "model_id": "665d06667faa4170a6576a504f4d8731",
       "version_major": 2,
       "version_minor": 0
      },
      "text/plain": [
       "  0%|                                                                                                         …"
      ]
     },
     "metadata": {
      "tags": []
     },
     "output_type": "display_data"
    },
    {
     "data": {
      "application/vnd.jupyter.widget-view+json": {
       "model_id": "7e72baeb1a2a4bb8a743580080b3bcc3",
       "version_major": 2,
       "version_minor": 0
      },
      "text/plain": [
       "  0%|                                                                                                         …"
      ]
     },
     "metadata": {
      "tags": []
     },
     "output_type": "display_data"
    }
   ],
   "source": [
    "model = StackAETrainer(ae, lr=1e-4)\n",
    "history += model.train(60, aeDataset)"
   ]
  },
  {
   "cell_type": "code",
   "execution_count": null,
   "metadata": {
    "execution": {
     "iopub.execute_input": "2021-04-28T15:18:20.636471Z",
     "iopub.status.busy": "2021-04-28T15:18:20.635307Z",
     "iopub.status.idle": "2021-04-28T15:18:20.816714Z",
     "shell.execute_reply": "2021-04-28T15:18:20.817246Z"
    },
    "id": "0SLMARdS53g2",
    "outputId": "7db44b87-8543-4e81-f18e-513341deb0b5",
    "papermill": {
     "duration": 0.374901,
     "end_time": "2021-04-28T15:18:20.817460",
     "exception": false,
     "start_time": "2021-04-28T15:18:20.442559",
     "status": "completed"
    },
    "tags": []
   },
   "outputs": [
    {
     "data": {
      "text/plain": [
       "[<matplotlib.lines.Line2D at 0x7f940029f7d0>]"
      ]
     },
     "execution_count": 15,
     "metadata": {
      "tags": []
     },
     "output_type": "execute_result"
    },
    {
     "data": {
      "image/png": "[encoded data removed]",
      "text/plain": [
       "<Figure size 432x288 with 1 Axes>"
      ]
     },
     "metadata": {
      "needs_background": "light",
      "tags": []
     },
     "output_type": "display_data"
    }
   ],
   "source": [
    "plt.plot(history)"
   ]
  },
  {
   "cell_type": "code",
   "execution_count": null,
   "metadata": {
    "execution": {
     "iopub.execute_input": "2021-04-28T15:18:21.183971Z",
     "iopub.status.busy": "2021-04-28T15:18:21.183236Z",
     "iopub.status.idle": "2021-04-28T15:18:21.216396Z",
     "shell.execute_reply": "2021-04-28T15:18:21.215718Z"
    },
    "id": "oqeb0cnv53g2",
    "papermill": {
     "duration": 0.22841,
     "end_time": "2021-04-28T15:18:21.216573",
     "exception": false,
     "start_time": "2021-04-28T15:18:20.988163",
     "status": "completed"
    },
    "tags": []
   },
   "outputs": [],
   "source": [
    "# Save model\n",
    "checkpoint = {'state_dict': model.model.state_dict()}\n",
    "torch.save(checkpoint, './ResAE_Model_III.pth')"
   ]
  },
  {
   "cell_type": "code",
   "execution_count": null,
   "metadata": {
    "colab": {
     "referenced_widgets": [
      "2ad9c90b679b41d8b50cfc2a82c10ded",
      "5c5e1a42b2084429932ebed607b7acb3",
      "d3033753a63f4e8aa93dc87955442df7",
      "df3bf0fc83154f849e8c0272e8a6d83a",
      "07b51c2479bd430ebef85827aff08589",
      "4a1efb0bc83d44fc8d85869754c4da69",
      "01a259e331ac45bc843830b0668d0b43",
      "fad60fa9f3f94270b112dc4b84135235",
      "e0e1abb23eb9433590156547393e04bc",
      "603a546dfe7d47f5893b749161e95ad9",
      "f73c789c999c4ffb899bab79f6c7922d",
      "443139e9dcb344e6a6faaee07d444a6a",
      "82841af6065648a7b1dfdee873d1fe84",
      "84c7d56eec6e4894b70d8dcaae75a28f",
      "0cce633877524bf2b48c9caaa84abdcc",
      "bc4789edb75e46e3b70b1a25d43c77b6",
      "9a32a69d661c42f2a478f700ab636e7a",
      "d0eb474860584bd2b7f2fe4c5d252b09",
      "85ebd8f3cfc94758b568dee9a7164c78",
      "edb10ada1446430e943eb28a92282000",
      "481a87cec8b24fe7bf2a3fcd8a8beb17",
      "b80ddcacf4384ad89d32a2834b03443a",
      "6a89934a831042c6bec61c4e9855ff98",
      "fa38f41d8127420daf31715317d568b0",
      "3a23f201b080429985fa2bdd9a2d9d36",
      "dbef0bba61bf4f66addeeff6ec42ad85",
      "0500d6eda606470092b258934cda6c92",
      "06f41879aca5479782815e7efbd7ea18",
      "bf2a7f218be04403aaffc23701a0e574",
      "5a1fd346bf3a4a61b5d73a75e8dbc02a",
      "024b5e27b63c4792a5f5beb48a1acf15",
      "4273601742e44c47a35420da89e33934",
      "10572a473235404d8e2eb1d3ab556af2",
      "c0d5e3968eff4e91b240e9346238c976",
      "7c30b20cdb044139ade625907a3d3a01",
      "7ebebdb4c8614730bea20631a04fb17a",
      "5e4b897f3799461ebd3040d687296d05",
      "e0022b20522b40d0b03e6067d73c5e94",
      "341db61e11494eeb8d7395920625092d",
      "bf2667d1ad7b4fa8b6c5ec29fe4928c2",
      "f57cfc08ea1b44b7b68f099e02a45843",
      "e9dcf0670fdc4b4fbe7a85178d8b534b",
      "d74436f4da874e358265d74b9a6630c0",
      "886221cedf874d73968bbce502373397",
      "a6f547b3c94a4c3fb6b31e9a87b120a9",
      "13e55ccc042547738bbd550d613a97ac",
      "d85e7f69c48a46ad8a833619532297f7",
      "fe675864361a463690ce86d4a1b20ce4",
      "2889eec46e2e4260a3e15cc6a7c3a4ba",
      "b8a676f183e240a69a4dbb61b3506828",
      "83f46a4edb4f4ec682a5f0d88cece2f1",
      "a167b27f30d0448f886410732a600f6f",
      "2188deab1b1640ee8735059a15e8990e",
      "a15325439558462cbad6963c3b8a6f49",
      "5082438c46a44830a92ccb252ee4b555",
      "c82ee23144154fb582f848aa42108c02",
      "411a72817a364a328d28e43566781a41",
      "e0f267d692f54ff1aed7a331a0be5cc8",
      "624deffc7ee34895a0681e5a57fbe3ef",
      "6ca9931915234f5fb57d7da54d8b7ae7",
      "c54ff41085db4e14970706624f7671ca",
      "8a2bd205f86843a49dd8e864353b6c7d",
      "f43c7626b08d4557b44209d80fe0b1f1",
      "e9b5246cf7664a57b334d7d55adc3b32",
      "3d07bdd2ab2441b7bc63a4c1f8933c3e",
      "6572a885eafb4428a410958f16bbe5c7",
      "032c87e220bf472ca96cd37007cb07ad",
      "217a391ee336448c9693f0fa4b12afc1",
      "cf8009ea1b9f4ad6b18a0fa8e5afde19",
      "0d2f94fd923a4d4c8960b76b155281f4",
      "5dd54c23f3184862998d6654803ceefe",
      "d58d8709a20e4002b2dc3d19217b215e",
      "80e850b27e274ed798ae12e9051c8d67",
      "0d85c66b592c4ab59ccbbf20c297160a",
      "1ddcc3e9a3dd47f4a253eadd65c46eff",
      "a00a2ccfb97246ad875adba8c82b7cd7",
      "bf819d65b8f546c4a5f2887d98a150f9",
      "2c000a32e329431b827f2a482cfae8a8",
      "0d40757ab94e4e34bb1e343bb5bee155",
      "dad4442907ee4de09d3e445137991c0f",
      "82667bceac8047aebd5105ded91d0a92",
      "f6c53433c78c4c6ca4f618b7e64937db",
      "4efb5fb9a27547f0b5714a5a0cff8770",
      "fb8f359825ca4a18a6ef906a47748f08",
      "ad634dd434c7428bbb8540d5d028f23b",
      "0ae794c9618a4880bba52a92dfddd240",
      "bb5e4a27473f4800929200d032dfe7f9",
      "444debc11a51471abcf7b5859c775458",
      "91e55cef6a2747af932246b25c8aabcd",
      "a12385d098bd409bad75a445bf655956",
      "e0995c7ec2ae4da2a1d65ac6398d9a3b",
      "f87f1bac32b24a779bb9d60ffbf0ffaf",
      "1e51b7174d554b088fd4a403f4217f62",
      "3d132d18a5d74773855f488d4e708d7b",
      "1f72b340c55a4a5d90ae19b1cc0cd44c",
      "73aca7af998947b2a9d9b287040244f8",
      "2d8b0ffacd2647bb80dc2139216bc624",
      "f1d233a892b34cbc8348bf93320f2fd6",
      "ea0d5603791d4d0abf13179a9d8018a8",
      "ab20947a163844da8ce8e7220ed6bb44",
      "ad503771d8e24ca884f6400fdd06a059",
      "45d311663eaf4074a34655566c6d8069",
      "9afcab5cf7594a63a750b132ff1e7e1a",
      "e54c6199343e4e76809572919fe39417",
      "35713a22996f486b928d8ede5384155c",
      "d5f764273919444e9a4b3b9178d96a88",
      "080b5367abe14218ab82900b6de28ac2",
      "4ee4a71442114619ab5a8e0c6f9d2c41",
      "b54e34a453a3484bb1e383371cfd8cb5",
      "6948c234060c436887e30fca24afc7b0",
      "da5ce72f39fb4543a853e38b39d0dff3",
      "a8c13ae67f6e4a2eaaf46bb01458fc93",
      "8abe397aceb8422eb7cd394e05aa9c05",
      "e70ee79943cc41fc9ee3f41ac0d6c991",
      "53822b9145b0464187502c125d9dc8c0",
      "e13052cb9d8947b596c34f7aaed5cffe",
      "8dc6953fe2dc47b998c4fb2cd7030ef9",
      "c799dd8fc0a74cbaafe1e7f826d7bd53",
      "c1d01239d626483eae56276ec77ee616",
      "822a638250054bcfb54d6d0733048bab"
     ]
    },
    "execution": {
     "iopub.execute_input": "2021-04-28T15:18:21.571806Z",
     "iopub.status.busy": "2021-04-28T15:18:21.570970Z",
     "iopub.status.idle": "2021-04-28T15:35:45.391920Z",
     "shell.execute_reply": "2021-04-28T15:35:45.389997Z"
    },
    "id": "2t1i1pci53g3",
    "outputId": "48c73e04-c442-4a4e-d550-74f96d5349af",
    "papermill": {
     "duration": 1044.000537,
     "end_time": "2021-04-28T15:35:45.392092",
     "exception": false,
     "start_time": "2021-04-28T15:18:21.391555",
     "status": "completed"
    },
    "scrolled": true,
    "tags": []
   },
   "outputs": [
    {
     "name": "stdout",
     "output_type": "stream",
     "text": [
      "Training StackAE...\n"
     ]
    },
    {
     "data": {
      "application/vnd.jupyter.widget-view+json": {
       "model_id": "2ad9c90b679b41d8b50cfc2a82c10ded",
       "version_major": 2,
       "version_minor": 0
      },
      "text/plain": [
       "  0%|                                                                                                         …"
      ]
     },
     "metadata": {
      "tags": []
     },
     "output_type": "display_data"
    },
    {
     "data": {
      "application/vnd.jupyter.widget-view+json": {
       "model_id": "5c5e1a42b2084429932ebed607b7acb3",
       "version_major": 2,
       "version_minor": 0
      },
      "text/plain": [
       "  0%|                                                                                                         …"
      ]
     },
     "metadata": {
      "tags": []
     },
     "output_type": "display_data"
    },
    {
     "data": {
      "application/vnd.jupyter.widget-view+json": {
       "model_id": "d3033753a63f4e8aa93dc87955442df7",
       "version_major": 2,
       "version_minor": 0
      },
      "text/plain": [
       "  0%|                                                                                                         …"
      ]
     },
     "metadata": {
      "tags": []
     },
     "output_type": "display_data"
    },
    {
     "data": {
      "application/vnd.jupyter.widget-view+json": {
       "model_id": "df3bf0fc83154f849e8c0272e8a6d83a",
       "version_major": 2,
       "version_minor": 0
      },
      "text/plain": [
       "  0%|                                                                                                         …"
      ]
     },
     "metadata": {
      "tags": []
     },
     "output_type": "display_data"
    },
    {
     "data": {
      "application/vnd.jupyter.widget-view+json": {
       "model_id": "07b51c2479bd430ebef85827aff08589",
       "version_major": 2,
       "version_minor": 0
      },
      "text/plain": [
       "  0%|                                                                                                         …"
      ]
     },
     "metadata": {
      "tags": []
     },
     "output_type": "display_data"
    },
    {
     "data": {
      "application/vnd.jupyter.widget-view+json": {
       "model_id": "4a1efb0bc83d44fc8d85869754c4da69",
       "version_major": 2,
       "version_minor": 0
      },
      "text/plain": [
       "  0%|                                                                                                         …"
      ]
     },
     "metadata": {
      "tags": []
     },
     "output_type": "display_data"
    },
    {
     "data": {
      "application/vnd.jupyter.widget-view+json": {
       "model_id": "01a259e331ac45bc843830b0668d0b43",
       "version_major": 2,
       "version_minor": 0
      },
      "text/plain": [
       "  0%|                                                                                                         …"
      ]
     },
     "metadata": {
      "tags": []
     },
     "output_type": "display_data"
    },
    {
     "data": {
      "application/vnd.jupyter.widget-view+json": {
       "model_id": "fad60fa9f3f94270b112dc4b84135235",
       "version_major": 2,
       "version_minor": 0
      },
      "text/plain": [
       "  0%|                                                                                                         …"
      ]
     },
     "metadata": {
      "tags": []
     },
     "output_type": "display_data"
    },
    {
     "data": {
      "application/vnd.jupyter.widget-view+json": {
       "model_id": "e0e1abb23eb9433590156547393e04bc",
       "version_major": 2,
       "version_minor": 0
      },
      "text/plain": [
       "  0%|                                                                                                         …"
      ]
     },
     "metadata": {
      "tags": []
     },
     "output_type": "display_data"
    },
    {
     "data": {
      "application/vnd.jupyter.widget-view+json": {
       "model_id": "603a546dfe7d47f5893b749161e95ad9",
       "version_major": 2,
       "version_minor": 0
      },
      "text/plain": [
       "  0%|                                                                                                         …"
      ]
     },
     "metadata": {
      "tags": []
     },
     "output_type": "display_data"
    },
    {
     "data": {
      "application/vnd.jupyter.widget-view+json": {
       "model_id": "f73c789c999c4ffb899bab79f6c7922d",
       "version_major": 2,
       "version_minor": 0
      },
      "text/plain": [
       "  0%|                                                                                                         …"
      ]
     },
     "metadata": {
      "tags": []
     },
     "output_type": "display_data"
    },
    {
     "data": {
      "application/vnd.jupyter.widget-view+json": {
       "model_id": "443139e9dcb344e6a6faaee07d444a6a",
       "version_major": 2,
       "version_minor": 0
      },
      "text/plain": [
       "  0%|                                                                                                         …"
      ]
     },
     "metadata": {
      "tags": []
     },
     "output_type": "display_data"
    },
    {
     "data": {
      "application/vnd.jupyter.widget-view+json": {
       "model_id": "82841af6065648a7b1dfdee873d1fe84",
       "version_major": 2,
       "version_minor": 0
      },
      "text/plain": [
       "  0%|                                                                                                         …"
      ]
     },
     "metadata": {
      "tags": []
     },
     "output_type": "display_data"
    },
    {
     "data": {
      "application/vnd.jupyter.widget-view+json": {
       "model_id": "84c7d56eec6e4894b70d8dcaae75a28f",
       "version_major": 2,
       "version_minor": 0
      },
      "text/plain": [
       "  0%|                                                                                                         …"
      ]
     },
     "metadata": {
      "tags": []
     },
     "output_type": "display_data"
    },
    {
     "data": {
      "application/vnd.jupyter.widget-view+json": {
       "model_id": "0cce633877524bf2b48c9caaa84abdcc",
       "version_major": 2,
       "version_minor": 0
      },
      "text/plain": [
       "  0%|                                                                                                         …"
      ]
     },
     "metadata": {
      "tags": []
     },
     "output_type": "display_data"
    },
    {
     "data": {
      "application/vnd.jupyter.widget-view+json": {
       "model_id": "bc4789edb75e46e3b70b1a25d43c77b6",
       "version_major": 2,
       "version_minor": 0
      },
      "text/plain": [
       "  0%|                                                                                                         …"
      ]
     },
     "metadata": {
      "tags": []
     },
     "output_type": "display_data"
    },
    {
     "data": {
      "application/vnd.jupyter.widget-view+json": {
       "model_id": "9a32a69d661c42f2a478f700ab636e7a",
       "version_major": 2,
       "version_minor": 0
      },
      "text/plain": [
       "  0%|                                                                                                         …"
      ]
     },
     "metadata": {
      "tags": []
     },
     "output_type": "display_data"
    },
    {
     "data": {
      "application/vnd.jupyter.widget-view+json": {
       "model_id": "d0eb474860584bd2b7f2fe4c5d252b09",
       "version_major": 2,
       "version_minor": 0
      },
      "text/plain": [
       "  0%|                                                                                                         …"
      ]
     },
     "metadata": {
      "tags": []
     },
     "output_type": "display_data"
    },
    {
     "data": {
      "application/vnd.jupyter.widget-view+json": {
       "model_id": "85ebd8f3cfc94758b568dee9a7164c78",
       "version_major": 2,
       "version_minor": 0
      },
      "text/plain": [
       "  0%|                                                                                                         …"
      ]
     },
     "metadata": {
      "tags": []
     },
     "output_type": "display_data"
    },
    {
     "data": {
      "application/vnd.jupyter.widget-view+json": {
       "model_id": "edb10ada1446430e943eb28a92282000",
       "version_major": 2,
       "version_minor": 0
      },
      "text/plain": [
       "  0%|                                                                                                         …"
      ]
     },
     "metadata": {
      "tags": []
     },
     "output_type": "display_data"
    },
    {
     "data": {
      "application/vnd.jupyter.widget-view+json": {
       "model_id": "481a87cec8b24fe7bf2a3fcd8a8beb17",
       "version_major": 2,
       "version_minor": 0
      },
      "text/plain": [
       "  0%|                                                                                                         …"
      ]
     },
     "metadata": {
      "tags": []
     },
     "output_type": "display_data"
    },
    {
     "data": {
      "application/vnd.jupyter.widget-view+json": {
       "model_id": "b80ddcacf4384ad89d32a2834b03443a",
       "version_major": 2,
       "version_minor": 0
      },
      "text/plain": [
       "  0%|                                                                                                         …"
      ]
     },
     "metadata": {
      "tags": []
     },
     "output_type": "display_data"
    },
    {
     "data": {
      "application/vnd.jupyter.widget-view+json": {
       "model_id": "6a89934a831042c6bec61c4e9855ff98",
       "version_major": 2,
       "version_minor": 0
      },
      "text/plain": [
       "  0%|                                                                                                         …"
      ]
     },
     "metadata": {
      "tags": []
     },
     "output_type": "display_data"
    },
    {
     "data": {
      "application/vnd.jupyter.widget-view+json": {
       "model_id": "fa38f41d8127420daf31715317d568b0",
       "version_major": 2,
       "version_minor": 0
      },
      "text/plain": [
       "  0%|                                                                                                         …"
      ]
     },
     "metadata": {
      "tags": []
     },
     "output_type": "display_data"
    },
    {
     "data": {
      "application/vnd.jupyter.widget-view+json": {
       "model_id": "3a23f201b080429985fa2bdd9a2d9d36",
       "version_major": 2,
       "version_minor": 0
      },
      "text/plain": [
       "  0%|                                                                                                         …"
      ]
     },
     "metadata": {
      "tags": []
     },
     "output_type": "display_data"
    },
    {
     "data": {
      "application/vnd.jupyter.widget-view+json": {
       "model_id": "dbef0bba61bf4f66addeeff6ec42ad85",
       "version_major": 2,
       "version_minor": 0
      },
      "text/plain": [
       "  0%|                                                                                                         …"
      ]
     },
     "metadata": {
      "tags": []
     },
     "output_type": "display_data"
    },
    {
     "data": {
      "application/vnd.jupyter.widget-view+json": {
       "model_id": "0500d6eda606470092b258934cda6c92",
       "version_major": 2,
       "version_minor": 0
      },
      "text/plain": [
       "  0%|                                                                                                         …"
      ]
     },
     "metadata": {
      "tags": []
     },
     "output_type": "display_data"
    },
    {
     "data": {
      "application/vnd.jupyter.widget-view+json": {
       "model_id": "06f41879aca5479782815e7efbd7ea18",
       "version_major": 2,
       "version_minor": 0
      },
      "text/plain": [
       "  0%|                                                                                                         …"
      ]
     },
     "metadata": {
      "tags": []
     },
     "output_type": "display_data"
    },
    {
     "data": {
      "application/vnd.jupyter.widget-view+json": {
       "model_id": "bf2a7f218be04403aaffc23701a0e574",
       "version_major": 2,
       "version_minor": 0
      },
      "text/plain": [
       "  0%|                                                                                                         …"
      ]
     },
     "metadata": {
      "tags": []
     },
     "output_type": "display_data"
    },
    {
     "data": {
      "application/vnd.jupyter.widget-view+json": {
       "model_id": "5a1fd346bf3a4a61b5d73a75e8dbc02a",
       "version_major": 2,
       "version_minor": 0
      },
      "text/plain": [
       "  0%|                                                                                                         …"
      ]
     },
     "metadata": {
      "tags": []
     },
     "output_type": "display_data"
    },
    {
     "data": {
      "application/vnd.jupyter.widget-view+json": {
       "model_id": "024b5e27b63c4792a5f5beb48a1acf15",
       "version_major": 2,
       "version_minor": 0
      },
      "text/plain": [
       "  0%|                                                                                                         …"
      ]
     },
     "metadata": {
      "tags": []
     },
     "output_type": "display_data"
    },
    {
     "data": {
      "application/vnd.jupyter.widget-view+json": {
       "model_id": "4273601742e44c47a35420da89e33934",
       "version_major": 2,
       "version_minor": 0
      },
      "text/plain": [
       "  0%|                                                                                                         …"
      ]
     },
     "metadata": {
      "tags": []
     },
     "output_type": "display_data"
    },
    {
     "data": {
      "application/vnd.jupyter.widget-view+json": {
       "model_id": "10572a473235404d8e2eb1d3ab556af2",
       "version_major": 2,
       "version_minor": 0
      },
      "text/plain": [
       "  0%|                                                                                                         …"
      ]
     },
     "metadata": {
      "tags": []
     },
     "output_type": "display_data"
    },
    {
     "data": {
      "application/vnd.jupyter.widget-view+json": {
       "model_id": "c0d5e3968eff4e91b240e9346238c976",
       "version_major": 2,
       "version_minor": 0
      },
      "text/plain": [
       "  0%|                                                                                                         …"
      ]
     },
     "metadata": {
      "tags": []
     },
     "output_type": "display_data"
    },
    {
     "data": {
      "application/vnd.jupyter.widget-view+json": {
       "model_id": "7c30b20cdb044139ade625907a3d3a01",
       "version_major": 2,
       "version_minor": 0
      },
      "text/plain": [
       "  0%|                                                                                                         …"
      ]
     },
     "metadata": {
      "tags": []
     },
     "output_type": "display_data"
    },
    {
     "data": {
      "application/vnd.jupyter.widget-view+json": {
       "model_id": "7ebebdb4c8614730bea20631a04fb17a",
       "version_major": 2,
       "version_minor": 0
      },
      "text/plain": [
       "  0%|                                                                                                         …"
      ]
     },
     "metadata": {
      "tags": []
     },
     "output_type": "display_data"
    },
    {
     "data": {
      "application/vnd.jupyter.widget-view+json": {
       "model_id": "5e4b897f3799461ebd3040d687296d05",
       "version_major": 2,
       "version_minor": 0
      },
      "text/plain": [
       "  0%|                                                                                                         …"
      ]
     },
     "metadata": {
      "tags": []
     },
     "output_type": "display_data"
    },
    {
     "data": {
      "application/vnd.jupyter.widget-view+json": {
       "model_id": "e0022b20522b40d0b03e6067d73c5e94",
       "version_major": 2,
       "version_minor": 0
      },
      "text/plain": [
       "  0%|                                                                                                         …"
      ]
     },
     "metadata": {
      "tags": []
     },
     "output_type": "display_data"
    },
    {
     "data": {
      "application/vnd.jupyter.widget-view+json": {
       "model_id": "341db61e11494eeb8d7395920625092d",
       "version_major": 2,
       "version_minor": 0
      },
      "text/plain": [
       "  0%|                                                                                                         …"
      ]
     },
     "metadata": {
      "tags": []
     },
     "output_type": "display_data"
    },
    {
     "data": {
      "application/vnd.jupyter.widget-view+json": {
       "model_id": "bf2667d1ad7b4fa8b6c5ec29fe4928c2",
       "version_major": 2,
       "version_minor": 0
      },
      "text/plain": [
       "  0%|                                                                                                         …"
      ]
     },
     "metadata": {
      "tags": []
     },
     "output_type": "display_data"
    },
    {
     "data": {
      "application/vnd.jupyter.widget-view+json": {
       "model_id": "f57cfc08ea1b44b7b68f099e02a45843",
       "version_major": 2,
       "version_minor": 0
      },
      "text/plain": [
       "  0%|                                                                                                         …"
      ]
     },
     "metadata": {
      "tags": []
     },
     "output_type": "display_data"
    },
    {
     "data": {
      "application/vnd.jupyter.widget-view+json": {
       "model_id": "e9dcf0670fdc4b4fbe7a85178d8b534b",
       "version_major": 2,
       "version_minor": 0
      },
      "text/plain": [
       "  0%|                                                                                                         …"
      ]
     },
     "metadata": {
      "tags": []
     },
     "output_type": "display_data"
    },
    {
     "data": {
      "application/vnd.jupyter.widget-view+json": {
       "model_id": "d74436f4da874e358265d74b9a6630c0",
       "version_major": 2,
       "version_minor": 0
      },
      "text/plain": [
       "  0%|                                                                                                         …"
      ]
     },
     "metadata": {
      "tags": []
     },
     "output_type": "display_data"
    },
    {
     "data": {
      "application/vnd.jupyter.widget-view+json": {
       "model_id": "886221cedf874d73968bbce502373397",
       "version_major": 2,
       "version_minor": 0
      },
      "text/plain": [
       "  0%|                                                                                                         …"
      ]
     },
     "metadata": {
      "tags": []
     },
     "output_type": "display_data"
    },
    {
     "data": {
      "application/vnd.jupyter.widget-view+json": {
       "model_id": "a6f547b3c94a4c3fb6b31e9a87b120a9",
       "version_major": 2,
       "version_minor": 0
      },
      "text/plain": [
       "  0%|                                                                                                         …"
      ]
     },
     "metadata": {
      "tags": []
     },
     "output_type": "display_data"
    },
    {
     "data": {
      "application/vnd.jupyter.widget-view+json": {
       "model_id": "13e55ccc042547738bbd550d613a97ac",
       "version_major": 2,
       "version_minor": 0
      },
      "text/plain": [
       "  0%|                                                                                                         …"
      ]
     },
     "metadata": {
      "tags": []
     },
     "output_type": "display_data"
    },
    {
     "data": {
      "application/vnd.jupyter.widget-view+json": {
       "model_id": "d85e7f69c48a46ad8a833619532297f7",
       "version_major": 2,
       "version_minor": 0
      },
      "text/plain": [
       "  0%|                                                                                                         …"
      ]
     },
     "metadata": {
      "tags": []
     },
     "output_type": "display_data"
    },
    {
     "data": {
      "application/vnd.jupyter.widget-view+json": {
       "model_id": "fe675864361a463690ce86d4a1b20ce4",
       "version_major": 2,
       "version_minor": 0
      },
      "text/plain": [
       "  0%|                                                                                                         …"
      ]
     },
     "metadata": {
      "tags": []
     },
     "output_type": "display_data"
    },
    {
     "data": {
      "application/vnd.jupyter.widget-view+json": {
       "model_id": "2889eec46e2e4260a3e15cc6a7c3a4ba",
       "version_major": 2,
       "version_minor": 0
      },
      "text/plain": [
       "  0%|                                                                                                         …"
      ]
     },
     "metadata": {
      "tags": []
     },
     "output_type": "display_data"
    },
    {
     "data": {
      "application/vnd.jupyter.widget-view+json": {
       "model_id": "b8a676f183e240a69a4dbb61b3506828",
       "version_major": 2,
       "version_minor": 0
      },
      "text/plain": [
       "  0%|                                                                                                         …"
      ]
     },
     "metadata": {
      "tags": []
     },
     "output_type": "display_data"
    },
    {
     "data": {
      "application/vnd.jupyter.widget-view+json": {
       "model_id": "83f46a4edb4f4ec682a5f0d88cece2f1",
       "version_major": 2,
       "version_minor": 0
      },
      "text/plain": [
       "  0%|                                                                                                         …"
      ]
     },
     "metadata": {
      "tags": []
     },
     "output_type": "display_data"
    },
    {
     "data": {
      "application/vnd.jupyter.widget-view+json": {
       "model_id": "a167b27f30d0448f886410732a600f6f",
       "version_major": 2,
       "version_minor": 0
      },
      "text/plain": [
       "  0%|                                                                                                         …"
      ]
     },
     "metadata": {
      "tags": []
     },
     "output_type": "display_data"
    },
    {
     "data": {
      "application/vnd.jupyter.widget-view+json": {
       "model_id": "2188deab1b1640ee8735059a15e8990e",
       "version_major": 2,
       "version_minor": 0
      },
      "text/plain": [
       "  0%|                                                                                                         …"
      ]
     },
     "metadata": {
      "tags": []
     },
     "output_type": "display_data"
    },
    {
     "data": {
      "application/vnd.jupyter.widget-view+json": {
       "model_id": "a15325439558462cbad6963c3b8a6f49",
       "version_major": 2,
       "version_minor": 0
      },
      "text/plain": [
       "  0%|                                                                                                         …"
      ]
     },
     "metadata": {
      "tags": []
     },
     "output_type": "display_data"
    },
    {
     "data": {
      "application/vnd.jupyter.widget-view+json": {
       "model_id": "5082438c46a44830a92ccb252ee4b555",
       "version_major": 2,
       "version_minor": 0
      },
      "text/plain": [
       "  0%|                                                                                                         …"
      ]
     },
     "metadata": {
      "tags": []
     },
     "output_type": "display_data"
    },
    {
     "data": {
      "application/vnd.jupyter.widget-view+json": {
       "model_id": "c82ee23144154fb582f848aa42108c02",
       "version_major": 2,
       "version_minor": 0
      },
      "text/plain": [
       "  0%|                                                                                                         …"
      ]
     },
     "metadata": {
      "tags": []
     },
     "output_type": "display_data"
    },
    {
     "data": {
      "application/vnd.jupyter.widget-view+json": {
       "model_id": "411a72817a364a328d28e43566781a41",
       "version_major": 2,
       "version_minor": 0
      },
      "text/plain": [
       "  0%|                                                                                                         …"
      ]
     },
     "metadata": {
      "tags": []
     },
     "output_type": "display_data"
    },
    {
     "data": {
      "application/vnd.jupyter.widget-view+json": {
       "model_id": "e0f267d692f54ff1aed7a331a0be5cc8",
       "version_major": 2,
       "version_minor": 0
      },
      "text/plain": [
       "  0%|                                                                                                         …"
      ]
     },
     "metadata": {
      "tags": []
     },
     "output_type": "display_data"
    },
    {
     "data": {
      "application/vnd.jupyter.widget-view+json": {
       "model_id": "624deffc7ee34895a0681e5a57fbe3ef",
       "version_major": 2,
       "version_minor": 0
      },
      "text/plain": [
       "  0%|                                                                                                         …"
      ]
     },
     "metadata": {
      "tags": []
     },
     "output_type": "display_data"
    },
    {
     "data": {
      "application/vnd.jupyter.widget-view+json": {
       "model_id": "6ca9931915234f5fb57d7da54d8b7ae7",
       "version_major": 2,
       "version_minor": 0
      },
      "text/plain": [
       "  0%|                                                                                                         …"
      ]
     },
     "metadata": {
      "tags": []
     },
     "output_type": "display_data"
    },
    {
     "data": {
      "application/vnd.jupyter.widget-view+json": {
       "model_id": "c54ff41085db4e14970706624f7671ca",
       "version_major": 2,
       "version_minor": 0
      },
      "text/plain": [
       "  0%|                                                                                                         …"
      ]
     },
     "metadata": {
      "tags": []
     },
     "output_type": "display_data"
    },
    {
     "data": {
      "application/vnd.jupyter.widget-view+json": {
       "model_id": "8a2bd205f86843a49dd8e864353b6c7d",
       "version_major": 2,
       "version_minor": 0
      },
      "text/plain": [
       "  0%|                                                                                                         …"
      ]
     },
     "metadata": {
      "tags": []
     },
     "output_type": "display_data"
    },
    {
     "data": {
      "application/vnd.jupyter.widget-view+json": {
       "model_id": "f43c7626b08d4557b44209d80fe0b1f1",
       "version_major": 2,
       "version_minor": 0
      },
      "text/plain": [
       "  0%|                                                                                                         …"
      ]
     },
     "metadata": {
      "tags": []
     },
     "output_type": "display_data"
    },
    {
     "data": {
      "application/vnd.jupyter.widget-view+json": {
       "model_id": "e9b5246cf7664a57b334d7d55adc3b32",
       "version_major": 2,
       "version_minor": 0
      },
      "text/plain": [
       "  0%|                                                                                                         …"
      ]
     },
     "metadata": {
      "tags": []
     },
     "output_type": "display_data"
    },
    {
     "data": {
      "application/vnd.jupyter.widget-view+json": {
       "model_id": "3d07bdd2ab2441b7bc63a4c1f8933c3e",
       "version_major": 2,
       "version_minor": 0
      },
      "text/plain": [
       "  0%|                                                                                                         …"
      ]
     },
     "metadata": {
      "tags": []
     },
     "output_type": "display_data"
    },
    {
     "data": {
      "application/vnd.jupyter.widget-view+json": {
       "model_id": "6572a885eafb4428a410958f16bbe5c7",
       "version_major": 2,
       "version_minor": 0
      },
      "text/plain": [
       "  0%|                                                                                                         …"
      ]
     },
     "metadata": {
      "tags": []
     },
     "output_type": "display_data"
    },
    {
     "data": {
      "application/vnd.jupyter.widget-view+json": {
       "model_id": "032c87e220bf472ca96cd37007cb07ad",
       "version_major": 2,
       "version_minor": 0
      },
      "text/plain": [
       "  0%|                                                                                                         …"
      ]
     },
     "metadata": {
      "tags": []
     },
     "output_type": "display_data"
    },
    {
     "data": {
      "application/vnd.jupyter.widget-view+json": {
       "model_id": "217a391ee336448c9693f0fa4b12afc1",
       "version_major": 2,
       "version_minor": 0
      },
      "text/plain": [
       "  0%|                                                                                                         …"
      ]
     },
     "metadata": {
      "tags": []
     },
     "output_type": "display_data"
    },
    {
     "data": {
      "application/vnd.jupyter.widget-view+json": {
       "model_id": "cf8009ea1b9f4ad6b18a0fa8e5afde19",
       "version_major": 2,
       "version_minor": 0
      },
      "text/plain": [
       "  0%|                                                                                                         …"
      ]
     },
     "metadata": {
      "tags": []
     },
     "output_type": "display_data"
    },
    {
     "data": {
      "application/vnd.jupyter.widget-view+json": {
       "model_id": "0d2f94fd923a4d4c8960b76b155281f4",
       "version_major": 2,
       "version_minor": 0
      },
      "text/plain": [
       "  0%|                                                                                                         …"
      ]
     },
     "metadata": {
      "tags": []
     },
     "output_type": "display_data"
    },
    {
     "data": {
      "application/vnd.jupyter.widget-view+json": {
       "model_id": "5dd54c23f3184862998d6654803ceefe",
       "version_major": 2,
       "version_minor": 0
      },
      "text/plain": [
       "  0%|                                                                                                         …"
      ]
     },
     "metadata": {
      "tags": []
     },
     "output_type": "display_data"
    },
    {
     "data": {
      "application/vnd.jupyter.widget-view+json": {
       "model_id": "d58d8709a20e4002b2dc3d19217b215e",
       "version_major": 2,
       "version_minor": 0
      },
      "text/plain": [
       "  0%|                                                                                                         …"
      ]
     },
     "metadata": {
      "tags": []
     },
     "output_type": "display_data"
    },
    {
     "data": {
      "application/vnd.jupyter.widget-view+json": {
       "model_id": "80e850b27e274ed798ae12e9051c8d67",
       "version_major": 2,
       "version_minor": 0
      },
      "text/plain": [
       "  0%|                                                                                                         …"
      ]
     },
     "metadata": {
      "tags": []
     },
     "output_type": "display_data"
    },
    {
     "data": {
      "application/vnd.jupyter.widget-view+json": {
       "model_id": "0d85c66b592c4ab59ccbbf20c297160a",
       "version_major": 2,
       "version_minor": 0
      },
      "text/plain": [
       "  0%|                                                                                                         …"
      ]
     },
     "metadata": {
      "tags": []
     },
     "output_type": "display_data"
    },
    {
     "data": {
      "application/vnd.jupyter.widget-view+json": {
       "model_id": "1ddcc3e9a3dd47f4a253eadd65c46eff",
       "version_major": 2,
       "version_minor": 0
      },
      "text/plain": [
       "  0%|                                                                                                         …"
      ]
     },
     "metadata": {
      "tags": []
     },
     "output_type": "display_data"
    },
    {
     "data": {
      "application/vnd.jupyter.widget-view+json": {
       "model_id": "a00a2ccfb97246ad875adba8c82b7cd7",
       "version_major": 2,
       "version_minor": 0
      },
      "text/plain": [
       "  0%|                                                                                                         …"
      ]
     },
     "metadata": {
      "tags": []
     },
     "output_type": "display_data"
    },
    {
     "data": {
      "application/vnd.jupyter.widget-view+json": {
       "model_id": "bf819d65b8f546c4a5f2887d98a150f9",
       "version_major": 2,
       "version_minor": 0
      },
      "text/plain": [
       "  0%|                                                                                                         …"
      ]
     },
     "metadata": {
      "tags": []
     },
     "output_type": "display_data"
    },
    {
     "data": {
      "application/vnd.jupyter.widget-view+json": {
       "model_id": "2c000a32e329431b827f2a482cfae8a8",
       "version_major": 2,
       "version_minor": 0
      },
      "text/plain": [
       "  0%|                                                                                                         …"
      ]
     },
     "metadata": {
      "tags": []
     },
     "output_type": "display_data"
    },
    {
     "data": {
      "application/vnd.jupyter.widget-view+json": {
       "model_id": "0d40757ab94e4e34bb1e343bb5bee155",
       "version_major": 2,
       "version_minor": 0
      },
      "text/plain": [
       "  0%|                                                                                                         …"
      ]
     },
     "metadata": {
      "tags": []
     },
     "output_type": "display_data"
    },
    {
     "data": {
      "application/vnd.jupyter.widget-view+json": {
       "model_id": "dad4442907ee4de09d3e445137991c0f",
       "version_major": 2,
       "version_minor": 0
      },
      "text/plain": [
       "  0%|                                                                                                         …"
      ]
     },
     "metadata": {
      "tags": []
     },
     "output_type": "display_data"
    },
    {
     "data": {
      "application/vnd.jupyter.widget-view+json": {
       "model_id": "82667bceac8047aebd5105ded91d0a92",
       "version_major": 2,
       "version_minor": 0
      },
      "text/plain": [
       "  0%|                                                                                                         …"
      ]
     },
     "metadata": {
      "tags": []
     },
     "output_type": "display_data"
    },
    {
     "data": {
      "application/vnd.jupyter.widget-view+json": {
       "model_id": "f6c53433c78c4c6ca4f618b7e64937db",
       "version_major": 2,
       "version_minor": 0
      },
      "text/plain": [
       "  0%|                                                                                                         …"
      ]
     },
     "metadata": {
      "tags": []
     },
     "output_type": "display_data"
    },
    {
     "data": {
      "application/vnd.jupyter.widget-view+json": {
       "model_id": "4efb5fb9a27547f0b5714a5a0cff8770",
       "version_major": 2,
       "version_minor": 0
      },
      "text/plain": [
       "  0%|                                                                                                         …"
      ]
     },
     "metadata": {
      "tags": []
     },
     "output_type": "display_data"
    },
    {
     "data": {
      "application/vnd.jupyter.widget-view+json": {
       "model_id": "fb8f359825ca4a18a6ef906a47748f08",
       "version_major": 2,
       "version_minor": 0
      },
      "text/plain": [
       "  0%|                                                                                                         …"
      ]
     },
     "metadata": {
      "tags": []
     },
     "output_type": "display_data"
    },
    {
     "data": {
      "application/vnd.jupyter.widget-view+json": {
       "model_id": "ad634dd434c7428bbb8540d5d028f23b",
       "version_major": 2,
       "version_minor": 0
      },
      "text/plain": [
       "  0%|                                                                                                         …"
      ]
     },
     "metadata": {
      "tags": []
     },
     "output_type": "display_data"
    },
    {
     "data": {
      "application/vnd.jupyter.widget-view+json": {
       "model_id": "0ae794c9618a4880bba52a92dfddd240",
       "version_major": 2,
       "version_minor": 0
      },
      "text/plain": [
       "  0%|                                                                                                         …"
      ]
     },
     "metadata": {
      "tags": []
     },
     "output_type": "display_data"
    },
    {
     "data": {
      "application/vnd.jupyter.widget-view+json": {
       "model_id": "bb5e4a27473f4800929200d032dfe7f9",
       "version_major": 2,
       "version_minor": 0
      },
      "text/plain": [
       "  0%|                                                                                                         …"
      ]
     },
     "metadata": {
      "tags": []
     },
     "output_type": "display_data"
    },
    {
     "data": {
      "application/vnd.jupyter.widget-view+json": {
       "model_id": "444debc11a51471abcf7b5859c775458",
       "version_major": 2,
       "version_minor": 0
      },
      "text/plain": [
       "  0%|                                                                                                         …"
      ]
     },
     "metadata": {
      "tags": []
     },
     "output_type": "display_data"
    },
    {
     "data": {
      "application/vnd.jupyter.widget-view+json": {
       "model_id": "91e55cef6a2747af932246b25c8aabcd",
       "version_major": 2,
       "version_minor": 0
      },
      "text/plain": [
       "  0%|                                                                                                         …"
      ]
     },
     "metadata": {
      "tags": []
     },
     "output_type": "display_data"
    },
    {
     "data": {
      "application/vnd.jupyter.widget-view+json": {
       "model_id": "a12385d098bd409bad75a445bf655956",
       "version_major": 2,
       "version_minor": 0
      },
      "text/plain": [
       "  0%|                                                                                                         …"
      ]
     },
     "metadata": {
      "tags": []
     },
     "output_type": "display_data"
    },
    {
     "data": {
      "application/vnd.jupyter.widget-view+json": {
       "model_id": "e0995c7ec2ae4da2a1d65ac6398d9a3b",
       "version_major": 2,
       "version_minor": 0
      },
      "text/plain": [
       "  0%|                                                                                                         …"
      ]
     },
     "metadata": {
      "tags": []
     },
     "output_type": "display_data"
    },
    {
     "data": {
      "application/vnd.jupyter.widget-view+json": {
       "model_id": "f87f1bac32b24a779bb9d60ffbf0ffaf",
       "version_major": 2,
       "version_minor": 0
      },
      "text/plain": [
       "  0%|                                                                                                         …"
      ]
     },
     "metadata": {
      "tags": []
     },
     "output_type": "display_data"
    },
    {
     "data": {
      "application/vnd.jupyter.widget-view+json": {
       "model_id": "1e51b7174d554b088fd4a403f4217f62",
       "version_major": 2,
       "version_minor": 0
      },
      "text/plain": [
       "  0%|                                                                                                         …"
      ]
     },
     "metadata": {
      "tags": []
     },
     "output_type": "display_data"
    },
    {
     "data": {
      "application/vnd.jupyter.widget-view+json": {
       "model_id": "3d132d18a5d74773855f488d4e708d7b",
       "version_major": 2,
       "version_minor": 0
      },
      "text/plain": [
       "  0%|                                                                                                         …"
      ]
     },
     "metadata": {
      "tags": []
     },
     "output_type": "display_data"
    },
    {
     "data": {
      "application/vnd.jupyter.widget-view+json": {
       "model_id": "1f72b340c55a4a5d90ae19b1cc0cd44c",
       "version_major": 2,
       "version_minor": 0
      },
      "text/plain": [
       "  0%|                                                                                                         …"
      ]
     },
     "metadata": {
      "tags": []
     },
     "output_type": "display_data"
    },
    {
     "data": {
      "application/vnd.jupyter.widget-view+json": {
       "model_id": "73aca7af998947b2a9d9b287040244f8",
       "version_major": 2,
       "version_minor": 0
      },
      "text/plain": [
       "  0%|                                                                                                         …"
      ]
     },
     "metadata": {
      "tags": []
     },
     "output_type": "display_data"
    },
    {
     "data": {
      "application/vnd.jupyter.widget-view+json": {
       "model_id": "2d8b0ffacd2647bb80dc2139216bc624",
       "version_major": 2,
       "version_minor": 0
      },
      "text/plain": [
       "  0%|                                                                                                         …"
      ]
     },
     "metadata": {
      "tags": []
     },
     "output_type": "display_data"
    },
    {
     "data": {
      "application/vnd.jupyter.widget-view+json": {
       "model_id": "f1d233a892b34cbc8348bf93320f2fd6",
       "version_major": 2,
       "version_minor": 0
      },
      "text/plain": [
       "  0%|                                                                                                         …"
      ]
     },
     "metadata": {
      "tags": []
     },
     "output_type": "display_data"
    },
    {
     "data": {
      "application/vnd.jupyter.widget-view+json": {
       "model_id": "ea0d5603791d4d0abf13179a9d8018a8",
       "version_major": 2,
       "version_minor": 0
      },
      "text/plain": [
       "  0%|                                                                                                         …"
      ]
     },
     "metadata": {
      "tags": []
     },
     "output_type": "display_data"
    },
    {
     "data": {
      "application/vnd.jupyter.widget-view+json": {
       "model_id": "ab20947a163844da8ce8e7220ed6bb44",
       "version_major": 2,
       "version_minor": 0
      },
      "text/plain": [
       "  0%|                                                                                                         …"
      ]
     },
     "metadata": {
      "tags": []
     },
     "output_type": "display_data"
    },
    {
     "data": {
      "application/vnd.jupyter.widget-view+json": {
       "model_id": "ad503771d8e24ca884f6400fdd06a059",
       "version_major": 2,
       "version_minor": 0
      },
      "text/plain": [
       "  0%|                                                                                                         …"
      ]
     },
     "metadata": {
      "tags": []
     },
     "output_type": "display_data"
    },
    {
     "data": {
      "application/vnd.jupyter.widget-view+json": {
       "model_id": "45d311663eaf4074a34655566c6d8069",
       "version_major": 2,
       "version_minor": 0
      },
      "text/plain": [
       "  0%|                                                                                                         …"
      ]
     },
     "metadata": {
      "tags": []
     },
     "output_type": "display_data"
    },
    {
     "data": {
      "application/vnd.jupyter.widget-view+json": {
       "model_id": "9afcab5cf7594a63a750b132ff1e7e1a",
       "version_major": 2,
       "version_minor": 0
      },
      "text/plain": [
       "  0%|                                                                                                         …"
      ]
     },
     "metadata": {
      "tags": []
     },
     "output_type": "display_data"
    },
    {
     "data": {
      "application/vnd.jupyter.widget-view+json": {
       "model_id": "e54c6199343e4e76809572919fe39417",
       "version_major": 2,
       "version_minor": 0
      },
      "text/plain": [
       "  0%|                                                                                                         …"
      ]
     },
     "metadata": {
      "tags": []
     },
     "output_type": "display_data"
    },
    {
     "data": {
      "application/vnd.jupyter.widget-view+json": {
       "model_id": "35713a22996f486b928d8ede5384155c",
       "version_major": 2,
       "version_minor": 0
      },
      "text/plain": [
       "  0%|                                                                                                         …"
      ]
     },
     "metadata": {
      "tags": []
     },
     "output_type": "display_data"
    },
    {
     "data": {
      "application/vnd.jupyter.widget-view+json": {
       "model_id": "d5f764273919444e9a4b3b9178d96a88",
       "version_major": 2,
       "version_minor": 0
      },
      "text/plain": [
       "  0%|                                                                                                         …"
      ]
     },
     "metadata": {
      "tags": []
     },
     "output_type": "display_data"
    },
    {
     "data": {
      "application/vnd.jupyter.widget-view+json": {
       "model_id": "080b5367abe14218ab82900b6de28ac2",
       "version_major": 2,
       "version_minor": 0
      },
      "text/plain": [
       "  0%|                                                                                                         …"
      ]
     },
     "metadata": {
      "tags": []
     },
     "output_type": "display_data"
    },
    {
     "data": {
      "application/vnd.jupyter.widget-view+json": {
       "model_id": "4ee4a71442114619ab5a8e0c6f9d2c41",
       "version_major": 2,
       "version_minor": 0
      },
      "text/plain": [
       "  0%|                                                                                                         …"
      ]
     },
     "metadata": {
      "tags": []
     },
     "output_type": "display_data"
    },
    {
     "data": {
      "application/vnd.jupyter.widget-view+json": {
       "model_id": "b54e34a453a3484bb1e383371cfd8cb5",
       "version_major": 2,
       "version_minor": 0
      },
      "text/plain": [
       "  0%|                                                                                                         …"
      ]
     },
     "metadata": {
      "tags": []
     },
     "output_type": "display_data"
    },
    {
     "data": {
      "application/vnd.jupyter.widget-view+json": {
       "model_id": "6948c234060c436887e30fca24afc7b0",
       "version_major": 2,
       "version_minor": 0
      },
      "text/plain": [
       "  0%|                                                                                                         …"
      ]
     },
     "metadata": {
      "tags": []
     },
     "output_type": "display_data"
    },
    {
     "data": {
      "application/vnd.jupyter.widget-view+json": {
       "model_id": "da5ce72f39fb4543a853e38b39d0dff3",
       "version_major": 2,
       "version_minor": 0
      },
      "text/plain": [
       "  0%|                                                                                                         …"
      ]
     },
     "metadata": {
      "tags": []
     },
     "output_type": "display_data"
    },
    {
     "data": {
      "application/vnd.jupyter.widget-view+json": {
       "model_id": "a8c13ae67f6e4a2eaaf46bb01458fc93",
       "version_major": 2,
       "version_minor": 0
      },
      "text/plain": [
       "  0%|                                                                                                         …"
      ]
     },
     "metadata": {
      "tags": []
     },
     "output_type": "display_data"
    },
    {
     "data": {
      "application/vnd.jupyter.widget-view+json": {
       "model_id": "8abe397aceb8422eb7cd394e05aa9c05",
       "version_major": 2,
       "version_minor": 0
      },
      "text/plain": [
       "  0%|                                                                                                         …"
      ]
     },
     "metadata": {
      "tags": []
     },
     "output_type": "display_data"
    },
    {
     "data": {
      "application/vnd.jupyter.widget-view+json": {
       "model_id": "e70ee79943cc41fc9ee3f41ac0d6c991",
       "version_major": 2,
       "version_minor": 0
      },
      "text/plain": [
       "  0%|                                                                                                         …"
      ]
     },
     "metadata": {
      "tags": []
     },
     "output_type": "display_data"
    },
    {
     "data": {
      "application/vnd.jupyter.widget-view+json": {
       "model_id": "53822b9145b0464187502c125d9dc8c0",
       "version_major": 2,
       "version_minor": 0
      },
      "text/plain": [
       "  0%|                                                                                                         …"
      ]
     },
     "metadata": {
      "tags": []
     },
     "output_type": "display_data"
    },
    {
     "data": {
      "application/vnd.jupyter.widget-view+json": {
       "model_id": "e13052cb9d8947b596c34f7aaed5cffe",
       "version_major": 2,
       "version_minor": 0
      },
      "text/plain": [
       "  0%|                                                                                                         …"
      ]
     },
     "metadata": {
      "tags": []
     },
     "output_type": "display_data"
    },
    {
     "data": {
      "application/vnd.jupyter.widget-view+json": {
       "model_id": "8dc6953fe2dc47b998c4fb2cd7030ef9",
       "version_major": 2,
       "version_minor": 0
      },
      "text/plain": [
       "  0%|                                                                                                         …"
      ]
     },
     "metadata": {
      "tags": []
     },
     "output_type": "display_data"
    },
    {
     "data": {
      "application/vnd.jupyter.widget-view+json": {
       "model_id": "c799dd8fc0a74cbaafe1e7f826d7bd53",
       "version_major": 2,
       "version_minor": 0
      },
      "text/plain": [
       "  0%|                                                                                                         …"
      ]
     },
     "metadata": {
      "tags": []
     },
     "output_type": "display_data"
    },
    {
     "data": {
      "application/vnd.jupyter.widget-view+json": {
       "model_id": "c1d01239d626483eae56276ec77ee616",
       "version_major": 2,
       "version_minor": 0
      },
      "text/plain": [
       "  0%|                                                                                                         …"
      ]
     },
     "metadata": {
      "tags": []
     },
     "output_type": "display_data"
    },
    {
     "data": {
      "application/vnd.jupyter.widget-view+json": {
       "model_id": "822a638250054bcfb54d6d0733048bab",
       "version_major": 2,
       "version_minor": 0
      },
      "text/plain": [
       "  0%|                                                                                                         …"
      ]
     },
     "metadata": {
      "tags": []
     },
     "output_type": "display_data"
    }
   ],
   "source": [
    "tmp = torch.load('./ResAE_Model_III.pth')\n",
    "ae = ResidualAutoEncoder(192)\n",
    "ae.load_state_dict(tmp['state_dict'])\n",
    "ae = ae.to(device)\n",
    "\n",
    "model = StackAETrainer(ae, lr=1e-4)\n",
    "history = model.train(120, aeDataset, lossType=\"recons\")"
   ]
  },
  {
   "cell_type": "code",
   "execution_count": null,
   "metadata": {
    "execution": {
     "iopub.execute_input": "2021-04-28T15:35:45.902633Z",
     "iopub.status.busy": "2021-04-28T15:35:45.901543Z",
     "iopub.status.idle": "2021-04-28T15:35:46.053985Z",
     "shell.execute_reply": "2021-04-28T15:35:46.054592Z"
    },
    "id": "lO7Al1M453g4",
    "outputId": "1ab5a30e-a17c-4acc-d31a-8daae329f0f4",
    "papermill": {
     "duration": 0.413379,
     "end_time": "2021-04-28T15:35:46.054771",
     "exception": false,
     "start_time": "2021-04-28T15:35:45.641392",
     "status": "completed"
    },
    "tags": []
   },
   "outputs": [
    {
     "data": {
      "text/plain": [
       "[<matplotlib.lines.Line2D at 0x7f93ec1e96d0>]"
      ]
     },
     "execution_count": 18,
     "metadata": {
      "tags": []
     },
     "output_type": "execute_result"
    },
    {
     "data": {
      "image/png": "[encoded data removed]",
      "text/plain": [
       "<Figure size 432x288 with 1 Axes>"
      ]
     },
     "metadata": {
      "needs_background": "light",
      "tags": []
     },
     "output_type": "display_data"
    }
   ],
   "source": [
    "plt.plot(history)"
   ]
  },
  {
   "cell_type": "code",
   "execution_count": null,
   "metadata": {
    "execution": {
     "iopub.execute_input": "2021-04-28T15:35:46.531092Z",
     "iopub.status.busy": "2021-04-28T15:35:46.529953Z",
     "iopub.status.idle": "2021-04-28T15:35:46.558129Z",
     "shell.execute_reply": "2021-04-28T15:35:46.557485Z"
    },
    "id": "loQdg0g553g5",
    "papermill": {
     "duration": 0.269636,
     "end_time": "2021-04-28T15:35:46.558282",
     "exception": false,
     "start_time": "2021-04-28T15:35:46.288646",
     "status": "completed"
    },
    "tags": []
   },
   "outputs": [],
   "source": [
    "# Save model\n",
    "checkpoint = {'state_dict': model.model.state_dict()}\n",
    "torch.save(checkpoint, './ResAE_Model_III_FT.pth')"
   ]
  },
  {
   "cell_type": "code",
   "execution_count": null,
   "metadata": {
    "id": "qeLgihw853g6",
    "papermill": {
     "duration": 0.240228,
     "end_time": "2021-04-28T15:35:57.873178",
     "exception": false,
     "start_time": "2021-04-28T15:35:57.632950",
     "status": "completed"
    },
    "tags": []
   },
   "outputs": [],
   "source": []
  }
 ],
 "metadata": {
  "colab": {
   "collapsed_sections": [],
   "name": "TrainAutoEncoder.ipynb",
   "provenance": []
  },
  "kernelspec": {
   "display_name": "Python 3",
   "language": "python",
   "name": "python3"
  },
  "language_info": {
   "codemirror_mode": {
    "name": "ipython",
    "version": 3
   },
   "file_extension": ".py",
   "mimetype": "text/x-python",
   "name": "python",
   "nbconvert_exporter": "python",
   "pygments_lexer": "ipython3",
   "version": "3.7.6"
  },
  "papermill": {
   "default_parameters": {},
   "duration": 2442.458137,
   "end_time": "2021-04-28T15:36:00.149694",
   "environment_variables": {},
   "exception": null,
   "input_path": "__notebook__.ipynb",
   "output_path": "__notebook__.ipynb",
   "parameters": {},
   "start_time": "2021-04-28T14:55:17.691557",
   "version": "2.3.2"
  },
  "widgets": {
   "application/vnd.jupyter.widget-state+json": {}
  }
 },
 "nbformat": 4,
 "nbformat_minor": 5
}
