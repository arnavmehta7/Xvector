{
 "cells": [
  {
   "cell_type": "markdown",
   "metadata": {
    "id": "DT5hNAsu0X-u"
   },
   "source": [
    "# **LOAD LIBRARIES**"
   ]
  },
  {
   "cell_type": "code",
   "execution_count": 1,
   "metadata": {
    "colab": {
     "base_uri": "https://localhost:8080/"
    },
    "executionInfo": {
     "elapsed": 16400,
     "status": "ok",
     "timestamp": 1620721876651,
     "user": {
      "displayName": "Shashi Kant",
      "photoUrl": "https://lh3.googleusercontent.com/a-/AOh14GiHv2woo7B1czb0XKsLBEOsgMWsuYITOryCdNNv7A=s64",
      "userId": "09783338171816410510"
     },
     "user_tz": -330
    },
    "id": "ouVW09h_0Usm",
    "outputId": "4a2ba42a-7e44-45cb-85b8-aca4958b4227"
   },
   "outputs": [
    {
     "name": "stdout",
     "output_type": "stream",
     "text": [
      "\u001b[K     |████████████████████████████████| 1.9MB 29.6MB/s \n",
      "\u001b[K     |████████████████████████████████| 358kB 32.1MB/s \n",
      "\u001b[K     |████████████████████████████████| 1.2MB 47.8MB/s \n",
      "\u001b[K     |████████████████████████████████| 645kB 44.3MB/s \n",
      "\u001b[K     |████████████████████████████████| 102kB 13.3MB/s \n",
      "\u001b[K     |████████████████████████████████| 552kB 45.2MB/s \n",
      "\u001b[K     |████████████████████████████████| 51kB 7.6MB/s \n",
      "\u001b[K     |████████████████████████████████| 51kB 8.5MB/s \n",
      "\u001b[K     |████████████████████████████████| 61kB 9.5MB/s \n",
      "\u001b[K     |████████████████████████████████| 133kB 42.0MB/s \n",
      "\u001b[?25h"
     ]
    }
   ],
   "source": [
    "!pip install torchaudio -q --no-deps\n",
    "!pip install speechbrain -q\n",
    "!pip install spectralcluster -q\n",
    "!pip install pyannote.metrics -q\n",
    "!pip install gdown -q"
   ]
  },
  {
   "cell_type": "code",
   "execution_count": 2,
   "metadata": {
    "colab": {
     "base_uri": "https://localhost:8080/"
    },
    "executionInfo": {
     "elapsed": 20521,
     "status": "ok",
     "timestamp": 1620721880792,
     "user": {
      "displayName": "Shashi Kant",
      "photoUrl": "https://lh3.googleusercontent.com/a-/AOh14GiHv2woo7B1czb0XKsLBEOsgMWsuYITOryCdNNv7A=s64",
      "userId": "09783338171816410510"
     },
     "user_tz": -330
    },
    "id": "Qe3sDhQYbwDi",
    "outputId": "56336477-7bb9-4bce-c9ee-8381ecebd5e4"
   },
   "outputs": [
    {
     "name": "stdout",
     "output_type": "stream",
     "text": [
      "Downloading...\n",
      "From: https://drive.google.com/uc?id=1XltkNas1LTOck62GIDYT0WcPDPGZEo7P\n",
      "To: /content/utils.py\n",
      "100% 16.8k/16.8k [00:00<00:00, 14.8MB/s]\n",
      "Downloading...\n",
      "From: https://drive.google.com/uc?id=1FWIRF2Kq6JB0fFHwjkZmVfEuGq0-SSC5\n",
      "To: /content/DEC.py\n",
      "100% 10.1k/10.1k [00:00<00:00, 16.5MB/s]\n",
      "Downloading...\n",
      "From: https://drive.google.com/uc?id=1hbepzjAxHTQS5QoAlKNP9zK0nMxdjauJ\n",
      "To: /content/optimumSpeaker.py\n",
      "100% 7.08k/7.08k [00:00<00:00, 6.12MB/s]\n",
      "Downloading...\n",
      "From: https://drive.google.com/uc?id=1RQkezkiXa5DVFHE7g4UKE2v8vcmgJFpm\n",
      "To: /content/baselineMethods.py\n",
      "100% 4.39k/4.39k [00:00<00:00, 7.30MB/s]\n"
     ]
    }
   ],
   "source": [
    "!git clone https://github.com/shashikg/speaker_diarization_ee698.git\n",
    "!cp -r speaker_diarization_ee698/core/. core"
   ]
  },
  {
   "cell_type": "code",
   "execution_count": 3,
   "metadata": {
    "colab": {
     "base_uri": "https://localhost:8080/"
    },
    "executionInfo": {
     "elapsed": 20514,
     "status": "ok",
     "timestamp": 1620721880793,
     "user": {
      "displayName": "Shashi Kant",
      "photoUrl": "https://lh3.googleusercontent.com/a-/AOh14GiHv2woo7B1czb0XKsLBEOsgMWsuYITOryCdNNv7A=s64",
      "userId": "09783338171816410510"
     },
     "user_tz": -330
    },
    "id": "0iqaDi7jb5qQ",
    "outputId": "df4b8336-5370-4258-e6db-dfd60a2bcab6"
   },
   "outputs": [
    {
     "name": "stdout",
     "output_type": "stream",
     "text": [
      "Populating the interactive namespace from numpy and matplotlib\n"
     ]
    }
   ],
   "source": [
    "%pylab inline"
   ]
  },
  {
   "cell_type": "code",
   "execution_count": 4,
   "metadata": {
    "executionInfo": {
     "elapsed": 28189,
     "status": "ok",
     "timestamp": 1620721888470,
     "user": {
      "displayName": "Shashi Kant",
      "photoUrl": "https://lh3.googleusercontent.com/a-/AOh14GiHv2woo7B1czb0XKsLBEOsgMWsuYITOryCdNNv7A=s64",
      "userId": "09783338171816410510"
     },
     "user_tz": -330
    },
    "id": "FGTt1sJS0bLP"
   },
   "outputs": [],
   "source": [
    "from __future__ import print_function, division\n",
    "import numpy as np\n",
    "import matplotlib.pyplot as plt\n",
    "import torchaudio\n",
    "import os\n",
    "import torch\n",
    "from torch.utils.data import Dataset, DataLoader\n",
    "from speechbrain.pretrained import SpeakerRecognition\n",
    "import warnings\n",
    "warnings.filterwarnings('ignore')\n",
    "\n",
    "from sklearn.cluster import KMeans, SpectralClustering\n",
    "from sklearn import decomposition\n",
    "from tqdm.auto import tqdm\n",
    "\n",
    "from core.utils import DiarizationDataSet, get_metrics, plot_annot\n",
    "import core.baselineMethods as baselineMethods\n",
    "from core.DEC import diarizationDEC\n",
    "\n",
    "import shutil\n",
    "import pandas as pd"
   ]
  },
  {
   "cell_type": "markdown",
   "metadata": {
    "id": "4Dv0fC5mhhao"
   },
   "source": [
    "# Download dataset"
   ]
  },
  {
   "cell_type": "code",
   "execution_count": 5,
   "metadata": {
    "colab": {
     "base_uri": "https://localhost:8080/"
    },
    "executionInfo": {
     "elapsed": 143549,
     "status": "ok",
     "timestamp": 1620722032030,
     "user": {
      "displayName": "Shashi Kant",
      "photoUrl": "https://lh3.googleusercontent.com/a-/AOh14GiHv2woo7B1czb0XKsLBEOsgMWsuYITOryCdNNv7A=s64",
      "userId": "09783338171816410510"
     },
     "user_tz": -330
    },
    "id": "OwMmmaqYhnn0",
    "outputId": "97180540-fd7e-4fc0-9268-3edb2fe51e9a"
   },
   "outputs": [
    {
     "name": "stdout",
     "output_type": "stream",
     "text": [
      "Downloading audio dataset...\n"
     ]
    },
    {
     "name": "stderr",
     "output_type": "stream",
     "text": [
      "Downloading...\n",
      "From: https://drive.google.com/uc?id=1-Ft9RKdEv6xcR3XHlVAgMNuf0jfy08aY\n",
      "To: /content/tmp.zip\n",
      "1.99GB [00:28, 69.9MB/s]\n"
     ]
    },
    {
     "name": "stdout",
     "output_type": "stream",
     "text": [
      "Download and Extraction Complete\n",
      "Downloading precomputed VADs...\n"
     ]
    },
    {
     "name": "stderr",
     "output_type": "stream",
     "text": [
      "Downloading...\n",
      "From: https://drive.google.com/uc?id=18oXqn9Zyt5tJpoEwKKztpTag-AJMQ2Sz\n",
      "To: /content/tmp.zip\n",
      "100%|██████████| 128k/128k [00:00<00:00, 6.50MB/s]\n"
     ]
    },
    {
     "name": "stdout",
     "output_type": "stream",
     "text": [
      "Download and Extraction Complete\n",
      "Precomputed X-vectors exists!\n",
      "Will use precomputed features...\n",
      "\n",
      "Downloading precomputed features...\n"
     ]
    },
    {
     "name": "stderr",
     "output_type": "stream",
     "text": [
      "Downloading...\n",
      "From: https://drive.google.com/uc?id=1-2-AZnabTtHxLmw2DBwj4PJDGwlvFa8J\n",
      "To: /content/tmp.zip\n",
      "69.4MB [00:01, 56.1MB/s]\n"
     ]
    },
    {
     "name": "stdout",
     "output_type": "stream",
     "text": [
      "Download and Extraction Complete\n",
      "\n",
      "Data size: 50\n"
     ]
    }
   ],
   "source": [
    "audio_dataset = DiarizationDataSet(dataset_name='voxconverse',\n",
    "                                   window_len=1500, \n",
    "                                   window_step=750,\n",
    "                                   split='test',\n",
    "                                   use_oracle_vad=True)\n",
    "\n",
    "print(\"\\nData size:\", len(audio_dataset))"
   ]
  },
  {
   "cell_type": "markdown",
   "metadata": {
    "id": "OiFZ_66hh6Nv"
   },
   "source": [
    "# Spectral - EigenGap"
   ]
  },
  {
   "cell_type": "code",
   "execution_count": 6,
   "metadata": {
    "colab": {
     "base_uri": "https://localhost:8080/",
     "height": 115,
     "referenced_widgets": [
      "f15813e5769b45ba9427e5075c7fadd5",
      "5a7117e189584adaa240a5ceff5c6569",
      "51d256e71dbf46a18721f86fa847b936",
      "e50474d350b84c00ac8f1dde4368d2e5",
      "de41df56d31549ce9a861342e4f8f8af",
      "9952bbcc038b49309115e884fb0f008d",
      "847fb3017fe74c2e9c094406efa2bd4e",
      "87aedc582c2e4b9f97f6a49297760019",
      "4d2d2e13a217404dbc36dd5969758a2b",
      "12d018b65998438fb2ab3b149efbc299",
      "bcfd0fa80fde4a41ae1ac5d32b4b462e",
      "b9a6309bc4fa43d2886133a1798ea688",
      "8812a74d461c41788881f47a0478689c",
      "3c728c80538e4e3c9eb6275db1dea8bb",
      "702f410396d1416bb529d419373ff0e0",
      "a23f02ca146b4b0aa7239bf7f76b1e0d"
     ]
    },
    "executionInfo": {
     "elapsed": 161224,
     "status": "ok",
     "timestamp": 1620722049713,
     "user": {
      "displayName": "Shashi Kant",
      "photoUrl": "https://lh3.googleusercontent.com/a-/AOh14GiHv2woo7B1czb0XKsLBEOsgMWsuYITOryCdNNv7A=s64",
      "userId": "09783338171816410510"
     },
     "user_tz": -330
    },
    "id": "x5JJ_CkFiEcI",
    "outputId": "58889805-919b-48ef-8fbd-a6931a4dd337"
   },
   "outputs": [
    {
     "data": {
      "application/vnd.jupyter.widget-view+json": {
       "model_id": "f15813e5769b45ba9427e5075c7fadd5",
       "version_major": 2,
       "version_minor": 0
      },
      "text/plain": [
       "HBox(children=(FloatProgress(value=0.0, max=50.0), HTML(value='')))"
      ]
     },
     "metadata": {
      "tags": []
     },
     "output_type": "display_data"
    },
    {
     "name": "stdout",
     "output_type": "stream",
     "text": [
      "\n"
     ]
    },
    {
     "data": {
      "application/vnd.jupyter.widget-view+json": {
       "model_id": "4d2d2e13a217404dbc36dd5969758a2b",
       "version_major": 2,
       "version_minor": 0
      },
      "text/plain": [
       "HBox(children=(FloatProgress(value=0.0, max=50.0), HTML(value='')))"
      ]
     },
     "metadata": {
      "tags": []
     },
     "output_type": "display_data"
    },
    {
     "name": "stdout",
     "output_type": "stream",
     "text": [
      "\n"
     ]
    }
   ],
   "source": [
    "hypothesis_dir_spectral = baselineMethods.diarizationEigenGapNumSpkrs(audio_dataset, hypothesis_dir=\"./rttm_output_spectral/\")\n",
    "metric_spectral = get_metrics(audio_dataset.label_dir, hypothesis_dir_spectral)"
   ]
  },
  {
   "cell_type": "markdown",
   "metadata": {
    "id": "WVWdrk5kv4vp"
   },
   "source": [
    "# DEC"
   ]
  },
  {
   "cell_type": "code",
   "execution_count": 7,
   "metadata": {
    "colab": {
     "base_uri": "https://localhost:8080/",
     "height": 166,
     "referenced_widgets": [
      "147fccaa706c433a8ebabf4f6f969333",
      "a684323a157c4f8e95c8b5ad63e950ca",
      "1e68a531ad7a48fc9ddf6ba47ab1ec45",
      "412d74dddb1b41d992ab1fa509806f0e",
      "4345cd71d54d4fcc8b4f9b56aa2e3c67",
      "2f4cd06803ca49f0abfbbf1bd2bc6d59",
      "c92a2ea6cec44173812768beef43dabd",
      "ffcc6bde98ff4d6295784d473e252f0c",
      "fde982909aee4905945efc38d995c512",
      "0efdcb86a2c44ad9bbcace22c57eb9de",
      "70aa6b7114914f8ea44e0baf6523c90b",
      "541f4597f13a4f22941afe37f7f82852",
      "efc791baa5374881aa1d32058448d69f",
      "a7139809dd1e44e897e0d1159cfdc2a0",
      "b74980edad7d4004a3b390ac91a94d13",
      "90937ef6cad54ff5b725c53a313dd300"
     ]
    },
    "executionInfo": {
     "elapsed": 210006,
     "status": "ok",
     "timestamp": 1620722113153,
     "user": {
      "displayName": "Shashi Kant",
      "photoUrl": "https://lh3.googleusercontent.com/a-/AOh14GiHv2woo7B1czb0XKsLBEOsgMWsuYITOryCdNNv7A=s64",
      "userId": "09783338171816410510"
     },
     "user_tz": -330
    },
    "id": "D3myQoh-lv-U",
    "outputId": "26cb5dc1-1272-4d6c-c5c3-86f2caf95b1f"
   },
   "outputs": [
    {
     "data": {
      "application/vnd.jupyter.widget-view+json": {
       "model_id": "147fccaa706c433a8ebabf4f6f969333",
       "version_major": 2,
       "version_minor": 0
      },
      "text/plain": [
       "HBox(children=(FloatProgress(value=0.0, max=50.0), HTML(value='')))"
      ]
     },
     "metadata": {
      "tags": []
     },
     "output_type": "display_data"
    },
    {
     "name": "stdout",
     "output_type": "stream",
     "text": [
      "Downloading pre-trained weights for auto encoder...\n",
      "Downloading Complete!\n",
      "\n",
      "\n"
     ]
    },
    {
     "data": {
      "application/vnd.jupyter.widget-view+json": {
       "model_id": "fde982909aee4905945efc38d995c512",
       "version_major": 2,
       "version_minor": 0
      },
      "text/plain": [
       "HBox(children=(FloatProgress(value=0.0, max=50.0), HTML(value='')))"
      ]
     },
     "metadata": {
      "tags": []
     },
     "output_type": "display_data"
    },
    {
     "name": "stdout",
     "output_type": "stream",
     "text": [
      "\n"
     ]
    }
   ],
   "source": [
    "hypothesis_dir_dec = diarizationDEC(audio_dataset, hypothesis_dir=\"./rttm_output_dec/\")\n",
    "metric_dec = get_metrics(audio_dataset.label_dir, hypothesis_dir_dec)"
   ]
  },
  {
   "cell_type": "markdown",
   "metadata": {
    "id": "2TgnLCbohjn6"
   },
   "source": [
    "# Compare"
   ]
  },
  {
   "cell_type": "code",
   "execution_count": 14,
   "metadata": {
    "executionInfo": {
     "elapsed": 2053,
     "status": "ok",
     "timestamp": 1620722131059,
     "user": {
      "displayName": "Shashi Kant",
      "photoUrl": "https://lh3.googleusercontent.com/a-/AOh14GiHv2woo7B1czb0XKsLBEOsgMWsuYITOryCdNNv7A=s64",
      "userId": "09783338171816410510"
     },
     "user_tz": -330
    },
    "id": "PTlgV9PWmJ-k"
   },
   "outputs": [],
   "source": [
    "df_dec = metric_dec.report()\n",
    "df_spectral = metric_spectral.report()\n",
    "\n",
    "df_spectral = df_spectral[[df_dec.keys()[0]]]\n",
    "df_dec = df_dec[[df_dec.keys()[0]]]\n",
    "\n",
    "df_both = df_dec\n",
    "df_both[\"DER (Spectral)\"] = df_spectral[[df_dec.keys()[0]]]\n",
    "df_both.columns = [\"DER (DEC)\", \"DER (Spectral)\"]\n",
    "\n",
    "df_both[\"DER Difference\"] = df_both[\"DER (Spectral)\"]-df_both[\"DER (DEC)\"]\n",
    "\n",
    "df_both = df_both[:-1]\n",
    "df_both = df_both.sort_values(by=['DER Difference'])"
   ]
  },
  {
   "cell_type": "code",
   "execution_count": 15,
   "metadata": {
    "colab": {
     "base_uri": "https://localhost:8080/",
     "height": 111
    },
    "executionInfo": {
     "elapsed": 1769,
     "status": "ok",
     "timestamp": 1620722131061,
     "user": {
      "displayName": "Shashi Kant",
      "photoUrl": "https://lh3.googleusercontent.com/a-/AOh14GiHv2woo7B1czb0XKsLBEOsgMWsuYITOryCdNNv7A=s64",
      "userId": "09783338171816410510"
     },
     "user_tz": -330
    },
    "id": "zEIp5MM9uR_A",
    "outputId": "9efcc349-7e3f-436d-dcf5-8cb6874ad79e"
   },
   "outputs": [
    {
     "data": {
      "text/html": [
       "<div>\n",
       "<style scoped>\n",
       "    .dataframe tbody tr th:only-of-type {\n",
       "        vertical-align: middle;\n",
       "    }\n",
       "\n",
       "    .dataframe tbody tr th {\n",
       "        vertical-align: top;\n",
       "    }\n",
       "\n",
       "    .dataframe thead th {\n",
       "        text-align: right;\n",
       "    }\n",
       "</style>\n",
       "<table border=\"1\" class=\"dataframe\">\n",
       "  <thead>\n",
       "    <tr style=\"text-align: right;\">\n",
       "      <th></th>\n",
       "      <th>DER (DEC)</th>\n",
       "      <th>DER (Spectral)</th>\n",
       "      <th>DER Difference</th>\n",
       "    </tr>\n",
       "    <tr>\n",
       "      <th>item</th>\n",
       "      <th></th>\n",
       "      <th></th>\n",
       "      <th></th>\n",
       "    </tr>\n",
       "  </thead>\n",
       "  <tbody>\n",
       "    <tr>\n",
       "      <th>TOTAL</th>\n",
       "      <td>11.695932</td>\n",
       "      <td>17.979152</td>\n",
       "      <td>6.28322</td>\n",
       "    </tr>\n",
       "  </tbody>\n",
       "</table>\n",
       "</div>"
      ],
      "text/plain": [
       "       DER (DEC)  DER (Spectral)  DER Difference\n",
       "item                                            \n",
       "TOTAL  11.695932       17.979152         6.28322"
      ]
     },
     "execution_count": 15,
     "metadata": {
      "tags": []
     },
     "output_type": "execute_result"
    }
   ],
   "source": [
    "df_dec[-1:]"
   ]
  },
  {
   "cell_type": "code",
   "execution_count": 16,
   "metadata": {
    "colab": {
     "base_uri": "https://localhost:8080/",
     "height": 1000
    },
    "executionInfo": {
     "elapsed": 1283,
     "status": "ok",
     "timestamp": 1620722134536,
     "user": {
      "displayName": "Shashi Kant",
      "photoUrl": "https://lh3.googleusercontent.com/a-/AOh14GiHv2woo7B1czb0XKsLBEOsgMWsuYITOryCdNNv7A=s64",
      "userId": "09783338171816410510"
     },
     "user_tz": -330
    },
    "id": "vjQP9QqUvuOZ",
    "outputId": "d8df2e63-e6ed-4c2d-b1c7-aa20f0b2ebc6"
   },
   "outputs": [
    {
     "data": {
      "text/html": [
       "<div>\n",
       "<style scoped>\n",
       "    .dataframe tbody tr th:only-of-type {\n",
       "        vertical-align: middle;\n",
       "    }\n",
       "\n",
       "    .dataframe tbody tr th {\n",
       "        vertical-align: top;\n",
       "    }\n",
       "\n",
       "    .dataframe thead th {\n",
       "        text-align: right;\n",
       "    }\n",
       "</style>\n",
       "<table border=\"1\" class=\"dataframe\">\n",
       "  <thead>\n",
       "    <tr style=\"text-align: right;\">\n",
       "      <th></th>\n",
       "      <th>DER (DEC)</th>\n",
       "      <th>DER (Spectral)</th>\n",
       "      <th>DER Difference</th>\n",
       "    </tr>\n",
       "    <tr>\n",
       "      <th>item</th>\n",
       "      <th></th>\n",
       "      <th></th>\n",
       "      <th></th>\n",
       "    </tr>\n",
       "  </thead>\n",
       "  <tbody>\n",
       "    <tr>\n",
       "      <th>ehpau</th>\n",
       "      <td>29.702110</td>\n",
       "      <td>10.777824</td>\n",
       "      <td>-18.924286</td>\n",
       "    </tr>\n",
       "    <tr>\n",
       "      <th>qjgpl</th>\n",
       "      <td>57.762641</td>\n",
       "      <td>40.362988</td>\n",
       "      <td>-17.399653</td>\n",
       "    </tr>\n",
       "    <tr>\n",
       "      <th>akthc</th>\n",
       "      <td>40.628986</td>\n",
       "      <td>28.736140</td>\n",
       "      <td>-11.892847</td>\n",
       "    </tr>\n",
       "    <tr>\n",
       "      <th>cqaec</th>\n",
       "      <td>37.296847</td>\n",
       "      <td>27.160742</td>\n",
       "      <td>-10.136105</td>\n",
       "    </tr>\n",
       "    <tr>\n",
       "      <th>pilgb</th>\n",
       "      <td>14.029515</td>\n",
       "      <td>7.609876</td>\n",
       "      <td>-6.419639</td>\n",
       "    </tr>\n",
       "    <tr>\n",
       "      <th>xmfzh</th>\n",
       "      <td>22.951305</td>\n",
       "      <td>19.608307</td>\n",
       "      <td>-3.342997</td>\n",
       "    </tr>\n",
       "    <tr>\n",
       "      <th>kbkon</th>\n",
       "      <td>3.126518</td>\n",
       "      <td>2.750121</td>\n",
       "      <td>-0.376396</td>\n",
       "    </tr>\n",
       "    <tr>\n",
       "      <th>vmaiq</th>\n",
       "      <td>17.741048</td>\n",
       "      <td>17.629521</td>\n",
       "      <td>-0.111527</td>\n",
       "    </tr>\n",
       "    <tr>\n",
       "      <th>falxo</th>\n",
       "      <td>57.071026</td>\n",
       "      <td>57.071026</td>\n",
       "      <td>0.000000</td>\n",
       "    </tr>\n",
       "    <tr>\n",
       "      <th>oxxwk</th>\n",
       "      <td>27.314046</td>\n",
       "      <td>27.314046</td>\n",
       "      <td>0.000000</td>\n",
       "    </tr>\n",
       "    <tr>\n",
       "      <th>jsdmu</th>\n",
       "      <td>6.291195</td>\n",
       "      <td>6.291195</td>\n",
       "      <td>0.000000</td>\n",
       "    </tr>\n",
       "    <tr>\n",
       "      <th>cmhsm</th>\n",
       "      <td>1.541770</td>\n",
       "      <td>1.541770</td>\n",
       "      <td>0.000000</td>\n",
       "    </tr>\n",
       "    <tr>\n",
       "      <th>ufpel</th>\n",
       "      <td>32.086302</td>\n",
       "      <td>32.086302</td>\n",
       "      <td>0.000000</td>\n",
       "    </tr>\n",
       "    <tr>\n",
       "      <th>pnook</th>\n",
       "      <td>32.378289</td>\n",
       "      <td>32.378289</td>\n",
       "      <td>0.000000</td>\n",
       "    </tr>\n",
       "    <tr>\n",
       "      <th>ysgbf</th>\n",
       "      <td>6.113070</td>\n",
       "      <td>6.113070</td>\n",
       "      <td>0.000000</td>\n",
       "    </tr>\n",
       "    <tr>\n",
       "      <th>txcok</th>\n",
       "      <td>2.541708</td>\n",
       "      <td>2.911319</td>\n",
       "      <td>0.369611</td>\n",
       "    </tr>\n",
       "    <tr>\n",
       "      <th>jnivh</th>\n",
       "      <td>1.751784</td>\n",
       "      <td>2.233757</td>\n",
       "      <td>0.481972</td>\n",
       "    </tr>\n",
       "    <tr>\n",
       "      <th>irvat</th>\n",
       "      <td>2.816792</td>\n",
       "      <td>3.376522</td>\n",
       "      <td>0.559731</td>\n",
       "    </tr>\n",
       "    <tr>\n",
       "      <th>dhorc</th>\n",
       "      <td>3.266616</td>\n",
       "      <td>3.897335</td>\n",
       "      <td>0.630719</td>\n",
       "    </tr>\n",
       "    <tr>\n",
       "      <th>zyffh</th>\n",
       "      <td>3.554732</td>\n",
       "      <td>4.228615</td>\n",
       "      <td>0.673883</td>\n",
       "    </tr>\n",
       "    <tr>\n",
       "      <th>qygfk</th>\n",
       "      <td>3.751242</td>\n",
       "      <td>4.464007</td>\n",
       "      <td>0.712764</td>\n",
       "    </tr>\n",
       "    <tr>\n",
       "      <th>blwmj</th>\n",
       "      <td>2.092484</td>\n",
       "      <td>2.942492</td>\n",
       "      <td>0.850008</td>\n",
       "    </tr>\n",
       "    <tr>\n",
       "      <th>uatlu</th>\n",
       "      <td>7.821791</td>\n",
       "      <td>8.783666</td>\n",
       "      <td>0.961875</td>\n",
       "    </tr>\n",
       "    <tr>\n",
       "      <th>bravd</th>\n",
       "      <td>9.360491</td>\n",
       "      <td>10.553428</td>\n",
       "      <td>1.192937</td>\n",
       "    </tr>\n",
       "    <tr>\n",
       "      <th>djngn</th>\n",
       "      <td>2.663632</td>\n",
       "      <td>4.490650</td>\n",
       "      <td>1.827018</td>\n",
       "    </tr>\n",
       "    <tr>\n",
       "      <th>ahnss</th>\n",
       "      <td>3.141424</td>\n",
       "      <td>5.063378</td>\n",
       "      <td>1.921954</td>\n",
       "    </tr>\n",
       "    <tr>\n",
       "      <th>fsaal</th>\n",
       "      <td>4.906745</td>\n",
       "      <td>6.961614</td>\n",
       "      <td>2.054869</td>\n",
       "    </tr>\n",
       "    <tr>\n",
       "      <th>uvnmy</th>\n",
       "      <td>3.243494</td>\n",
       "      <td>5.449195</td>\n",
       "      <td>2.205700</td>\n",
       "    </tr>\n",
       "    <tr>\n",
       "      <th>hgdez</th>\n",
       "      <td>8.788644</td>\n",
       "      <td>11.891982</td>\n",
       "      <td>3.103338</td>\n",
       "    </tr>\n",
       "    <tr>\n",
       "      <th>imbqf</th>\n",
       "      <td>3.857455</td>\n",
       "      <td>9.959515</td>\n",
       "      <td>6.102060</td>\n",
       "    </tr>\n",
       "    <tr>\n",
       "      <th>eapdk</th>\n",
       "      <td>8.738537</td>\n",
       "      <td>14.842697</td>\n",
       "      <td>6.104160</td>\n",
       "    </tr>\n",
       "    <tr>\n",
       "      <th>esrit</th>\n",
       "      <td>4.911400</td>\n",
       "      <td>13.249001</td>\n",
       "      <td>8.337601</td>\n",
       "    </tr>\n",
       "    <tr>\n",
       "      <th>luvfz</th>\n",
       "      <td>12.660266</td>\n",
       "      <td>21.098455</td>\n",
       "      <td>8.438190</td>\n",
       "    </tr>\n",
       "    <tr>\n",
       "      <th>sduml</th>\n",
       "      <td>9.227857</td>\n",
       "      <td>18.605568</td>\n",
       "      <td>9.377711</td>\n",
       "    </tr>\n",
       "    <tr>\n",
       "      <th>kckqn</th>\n",
       "      <td>2.478940</td>\n",
       "      <td>12.594045</td>\n",
       "      <td>10.115105</td>\n",
       "    </tr>\n",
       "    <tr>\n",
       "      <th>gwtwd</th>\n",
       "      <td>20.379597</td>\n",
       "      <td>31.601423</td>\n",
       "      <td>11.221827</td>\n",
       "    </tr>\n",
       "    <tr>\n",
       "      <th>gzvkx</th>\n",
       "      <td>22.554047</td>\n",
       "      <td>36.651584</td>\n",
       "      <td>14.097536</td>\n",
       "    </tr>\n",
       "    <tr>\n",
       "      <th>ccokr</th>\n",
       "      <td>7.537370</td>\n",
       "      <td>23.555865</td>\n",
       "      <td>16.018495</td>\n",
       "    </tr>\n",
       "    <tr>\n",
       "      <th>aufkn</th>\n",
       "      <td>4.820945</td>\n",
       "      <td>22.572606</td>\n",
       "      <td>17.751661</td>\n",
       "    </tr>\n",
       "    <tr>\n",
       "      <th>tguxv</th>\n",
       "      <td>25.086446</td>\n",
       "      <td>43.579509</td>\n",
       "      <td>18.493063</td>\n",
       "    </tr>\n",
       "    <tr>\n",
       "      <th>sosnj</th>\n",
       "      <td>10.932560</td>\n",
       "      <td>32.380456</td>\n",
       "      <td>21.447896</td>\n",
       "    </tr>\n",
       "    <tr>\n",
       "      <th>goyli</th>\n",
       "      <td>3.803749</td>\n",
       "      <td>25.630617</td>\n",
       "      <td>21.826868</td>\n",
       "    </tr>\n",
       "    <tr>\n",
       "      <th>gofnj</th>\n",
       "      <td>3.192511</td>\n",
       "      <td>27.812450</td>\n",
       "      <td>24.619939</td>\n",
       "    </tr>\n",
       "    <tr>\n",
       "      <th>ycxxe</th>\n",
       "      <td>3.818112</td>\n",
       "      <td>32.359939</td>\n",
       "      <td>28.541827</td>\n",
       "    </tr>\n",
       "    <tr>\n",
       "      <th>ngyrk</th>\n",
       "      <td>6.360381</td>\n",
       "      <td>40.355660</td>\n",
       "      <td>33.995280</td>\n",
       "    </tr>\n",
       "    <tr>\n",
       "      <th>mevkw</th>\n",
       "      <td>8.512949</td>\n",
       "      <td>49.883041</td>\n",
       "      <td>41.370092</td>\n",
       "    </tr>\n",
       "    <tr>\n",
       "      <th>wmori</th>\n",
       "      <td>4.894444</td>\n",
       "      <td>47.410986</td>\n",
       "      <td>42.516542</td>\n",
       "    </tr>\n",
       "    <tr>\n",
       "      <th>szsyz</th>\n",
       "      <td>19.026258</td>\n",
       "      <td>79.835886</td>\n",
       "      <td>60.809628</td>\n",
       "    </tr>\n",
       "    <tr>\n",
       "      <th>plbbw</th>\n",
       "      <td>3.822692</td>\n",
       "      <td>80.940762</td>\n",
       "      <td>77.118070</td>\n",
       "    </tr>\n",
       "    <tr>\n",
       "      <th>bkwns</th>\n",
       "      <td>5.778474</td>\n",
       "      <td>82.957158</td>\n",
       "      <td>77.178683</td>\n",
       "    </tr>\n",
       "  </tbody>\n",
       "</table>\n",
       "</div>"
      ],
      "text/plain": [
       "       DER (DEC)  DER (Spectral)  DER Difference\n",
       "item                                            \n",
       "ehpau  29.702110       10.777824      -18.924286\n",
       "qjgpl  57.762641       40.362988      -17.399653\n",
       "akthc  40.628986       28.736140      -11.892847\n",
       "cqaec  37.296847       27.160742      -10.136105\n",
       "pilgb  14.029515        7.609876       -6.419639\n",
       "xmfzh  22.951305       19.608307       -3.342997\n",
       "kbkon   3.126518        2.750121       -0.376396\n",
       "vmaiq  17.741048       17.629521       -0.111527\n",
       "falxo  57.071026       57.071026        0.000000\n",
       "oxxwk  27.314046       27.314046        0.000000\n",
       "jsdmu   6.291195        6.291195        0.000000\n",
       "cmhsm   1.541770        1.541770        0.000000\n",
       "ufpel  32.086302       32.086302        0.000000\n",
       "pnook  32.378289       32.378289        0.000000\n",
       "ysgbf   6.113070        6.113070        0.000000\n",
       "txcok   2.541708        2.911319        0.369611\n",
       "jnivh   1.751784        2.233757        0.481972\n",
       "irvat   2.816792        3.376522        0.559731\n",
       "dhorc   3.266616        3.897335        0.630719\n",
       "zyffh   3.554732        4.228615        0.673883\n",
       "qygfk   3.751242        4.464007        0.712764\n",
       "blwmj   2.092484        2.942492        0.850008\n",
       "uatlu   7.821791        8.783666        0.961875\n",
       "bravd   9.360491       10.553428        1.192937\n",
       "djngn   2.663632        4.490650        1.827018\n",
       "ahnss   3.141424        5.063378        1.921954\n",
       "fsaal   4.906745        6.961614        2.054869\n",
       "uvnmy   3.243494        5.449195        2.205700\n",
       "hgdez   8.788644       11.891982        3.103338\n",
       "imbqf   3.857455        9.959515        6.102060\n",
       "eapdk   8.738537       14.842697        6.104160\n",
       "esrit   4.911400       13.249001        8.337601\n",
       "luvfz  12.660266       21.098455        8.438190\n",
       "sduml   9.227857       18.605568        9.377711\n",
       "kckqn   2.478940       12.594045       10.115105\n",
       "gwtwd  20.379597       31.601423       11.221827\n",
       "gzvkx  22.554047       36.651584       14.097536\n",
       "ccokr   7.537370       23.555865       16.018495\n",
       "aufkn   4.820945       22.572606       17.751661\n",
       "tguxv  25.086446       43.579509       18.493063\n",
       "sosnj  10.932560       32.380456       21.447896\n",
       "goyli   3.803749       25.630617       21.826868\n",
       "gofnj   3.192511       27.812450       24.619939\n",
       "ycxxe   3.818112       32.359939       28.541827\n",
       "ngyrk   6.360381       40.355660       33.995280\n",
       "mevkw   8.512949       49.883041       41.370092\n",
       "wmori   4.894444       47.410986       42.516542\n",
       "szsyz  19.026258       79.835886       60.809628\n",
       "plbbw   3.822692       80.940762       77.118070\n",
       "bkwns   5.778474       82.957158       77.178683"
      ]
     },
     "execution_count": 16,
     "metadata": {
      "tags": []
     },
     "output_type": "execute_result"
    }
   ],
   "source": [
    "df_both"
   ]
  },
  {
   "cell_type": "code",
   "execution_count": 17,
   "metadata": {
    "colab": {
     "base_uri": "https://localhost:8080/"
    },
    "executionInfo": {
     "elapsed": 1269,
     "status": "ok",
     "timestamp": 1620722140601,
     "user": {
      "displayName": "Shashi Kant",
      "photoUrl": "https://lh3.googleusercontent.com/a-/AOh14GiHv2woo7B1czb0XKsLBEOsgMWsuYITOryCdNNv7A=s64",
      "userId": "09783338171816410510"
     },
     "user_tz": -330
    },
    "id": "cNkpz4-XpHDs",
    "outputId": "54919b7f-6a29-4afb-8ee3-4b755c93c73f"
   },
   "outputs": [
    {
     "name": "stdout",
     "output_type": "stream",
     "text": [
      "Better DER for 35 examples.\n",
      "Poor DER for 8 examples.\n",
      "Same DER for 7 examples.\n"
     ]
    }
   ],
   "source": [
    "print(\"Better DER for\", np.sum(df_both['DER Difference'].values>0), \"examples.\")\n",
    "print(\"Poor DER for\", np.sum(df_both['DER Difference'].values<0), \"examples.\")\n",
    "print(\"Same DER for\", np.sum(df_both['DER Difference'].values==0), \"examples.\")"
   ]
  },
  {
   "cell_type": "code",
   "execution_count": 18,
   "metadata": {
    "executionInfo": {
     "elapsed": 889,
     "status": "ok",
     "timestamp": 1620722143234,
     "user": {
      "displayName": "Shashi Kant",
      "photoUrl": "https://lh3.googleusercontent.com/a-/AOh14GiHv2woo7B1czb0XKsLBEOsgMWsuYITOryCdNNv7A=s64",
      "userId": "09783338171816410510"
     },
     "user_tz": -330
    },
    "id": "vnXwVIAwqoSC"
   },
   "outputs": [],
   "source": [
    "filenames = [\"hgdez\"] + list(df_both.index[[-1, -2, -3, 2, 1, 0]])"
   ]
  },
  {
   "cell_type": "code",
   "execution_count": 19,
   "metadata": {
    "colab": {
     "base_uri": "https://localhost:8080/",
     "height": 1000
    },
    "executionInfo": {
     "elapsed": 8992,
     "status": "ok",
     "timestamp": 1620722154938,
     "user": {
      "displayName": "Shashi Kant",
      "photoUrl": "https://lh3.googleusercontent.com/a-/AOh14GiHv2woo7B1czb0XKsLBEOsgMWsuYITOryCdNNv7A=s64",
      "userId": "09783338171816410510"
     },
     "user_tz": -330
    },
    "id": "9hAGvSouLxTe",
    "outputId": "ccbdbe66-aad5-4dd7-c971-4db4b7d4dbc5"
   },
   "outputs": [
    {
     "name": "stdout",
     "output_type": "stream",
     "text": [
      "\n",
      "---------------------------\n",
      "DEC\n",
      "---------------------------\n",
      "\n"
     ]
    },
    {
     "data": {
      "image/png": "[encoded data removed]",
      "text/plain": [
       "<Figure size 1728x504 with 2 Axes>"
      ]
     },
     "metadata": {
      "needs_background": "light",
      "tags": []
     },
     "output_type": "display_data"
    },
    {
     "name": "stdout",
     "output_type": "stream",
     "text": [
      "\n",
      "---------------------------\n",
      "Spectral\n",
      "---------------------------\n",
      "\n"
     ]
    },
    {
     "data": {
      "image/png": "[encoded data removed]",
      "text/plain": [
       "<Figure size 1728x504 with 2 Axes>"
      ]
     },
     "metadata": {
      "needs_background": "light",
      "tags": []
     },
     "output_type": "display_data"
    },
    {
     "name": "stdout",
     "output_type": "stream",
     "text": [
      "\n",
      "---------------------------\n",
      "DEC\n",
      "---------------------------\n",
      "\n"
     ]
    },
    {
     "data": {
      "image/png": "[encoded data removed]",
      "text/plain": [
       "<Figure size 1728x504 with 2 Axes>"
      ]
     },
     "metadata": {
      "needs_background": "light",
      "tags": []
     },
     "output_type": "display_data"
    },
    {
     "name": "stdout",
     "output_type": "stream",
     "text": [
      "\n",
      "---------------------------\n",
      "Spectral\n",
      "---------------------------\n",
      "\n"
     ]
    },
    {
     "data": {
      "image/png": "[encoded data removed]",
      "text/plain": [
       "<Figure size 1728x504 with 2 Axes>"
      ]
     },
     "metadata": {
      "needs_background": "light",
      "tags": []
     },
     "output_type": "display_data"
    },
    {
     "name": "stdout",
     "output_type": "stream",
     "text": [
      "\n",
      "---------------------------\n",
      "DEC\n",
      "---------------------------\n",
      "\n"
     ]
    },
    {
     "data": {
      "image/png": "[encoded data removed]",
      "text/plain": [
       "<Figure size 1728x504 with 2 Axes>"
      ]
     },
     "metadata": {
      "needs_background": "light",
      "tags": []
     },
     "output_type": "display_data"
    },
    {
     "name": "stdout",
     "output_type": "stream",
     "text": [
      "\n",
      "---------------------------\n",
      "Spectral\n",
      "---------------------------\n",
      "\n"
     ]
    },
    {
     "data": {
      "image/png": "[encoded data removed]",
      "text/plain": [
       "<Figure size 1728x504 with 2 Axes>"
      ]
     },
     "metadata": {
      "needs_background": "light",
      "tags": []
     },
     "output_type": "display_data"
    },
    {
     "name": "stdout",
     "output_type": "stream",
     "text": [
      "\n",
      "---------------------------\n",
      "DEC\n",
      "---------------------------\n",
      "\n"
     ]
    },
    {
     "data": {
      "image/png": "[encoded data removed]",
      "text/plain": [
       "<Figure size 1728x504 with 2 Axes>"
      ]
     },
     "metadata": {
      "needs_background": "light",
      "tags": []
     },
     "output_type": "display_data"
    },
    {
     "name": "stdout",
     "output_type": "stream",
     "text": [
      "\n",
      "---------------------------\n",
      "Spectral\n",
      "---------------------------\n",
      "\n"
     ]
    },
    {
     "data": {
      "image/png": "[encoded data removed]",
      "text/plain": [
       "<Figure size 1728x504 with 2 Axes>"
      ]
     },
     "metadata": {
      "needs_background": "light",
      "tags": []
     },
     "output_type": "display_data"
    },
    {
     "name": "stdout",
     "output_type": "stream",
     "text": [
      "\n",
      "---------------------------\n",
      "DEC\n",
      "---------------------------\n",
      "\n"
     ]
    },
    {
     "data": {
      "image/png": "[encoded data removed]",
      "text/plain": [
       "<Figure size 1728x504 with 2 Axes>"
      ]
     },
     "metadata": {
      "needs_background": "light",
      "tags": []
     },
     "output_type": "display_data"
    },
    {
     "name": "stdout",
     "output_type": "stream",
     "text": [
      "\n",
      "---------------------------\n",
      "Spectral\n",
      "---------------------------\n",
      "\n"
     ]
    },
    {
     "data": {
      "image/png": "[encoded data removed]",
      "text/plain": [
       "<Figure size 1728x504 with 2 Axes>"
      ]
     },
     "metadata": {
      "needs_background": "light",
      "tags": []
     },
     "output_type": "display_data"
    },
    {
     "name": "stdout",
     "output_type": "stream",
     "text": [
      "\n",
      "---------------------------\n",
      "DEC\n",
      "---------------------------\n",
      "\n"
     ]
    },
    {
     "data": {
      "image/png": "[encoded data removed]",
      "text/plain": [
       "<Figure size 1728x504 with 2 Axes>"
      ]
     },
     "metadata": {
      "needs_background": "light",
      "tags": []
     },
     "output_type": "display_data"
    },
    {
     "name": "stdout",
     "output_type": "stream",
     "text": [
      "\n",
      "---------------------------\n",
      "Spectral\n",
      "---------------------------\n",
      "\n"
     ]
    },
    {
     "data": {
      "image/png": "[encoded data removed]",
      "text/plain": [
       "<Figure size 1728x504 with 2 Axes>"
      ]
     },
     "metadata": {
      "needs_background": "light",
      "tags": []
     },
     "output_type": "display_data"
    },
    {
     "name": "stdout",
     "output_type": "stream",
     "text": [
      "\n",
      "---------------------------\n",
      "DEC\n",
      "---------------------------\n",
      "\n"
     ]
    },
    {
     "data": {
      "image/png": "[encoded data removed]",
      "text/plain": [
       "<Figure size 1728x504 with 2 Axes>"
      ]
     },
     "metadata": {
      "needs_background": "light",
      "tags": []
     },
     "output_type": "display_data"
    },
    {
     "name": "stdout",
     "output_type": "stream",
     "text": [
      "\n",
      "---------------------------\n",
      "Spectral\n",
      "---------------------------\n",
      "\n"
     ]
    },
    {
     "data": {
      "image/png": "[encoded data removed]",
      "text/plain": [
       "<Figure size 1728x504 with 2 Axes>"
      ]
     },
     "metadata": {
      "needs_background": "light",
      "tags": []
     },
     "output_type": "display_data"
    }
   ],
   "source": [
    "for name in filenames:\n",
    "    print(\"\\n---------------------------\\nDEC\\n---------------------------\\n\")\n",
    "    plot_annot(name=name, collar=0.25, skip_overlap=True, groundtruth_path=audio_dataset.label_dir, hypothesis_path=hypothesis_dir_dec)\n",
    "    plt.show()\n",
    "\n",
    "    print(\"\\n---------------------------\\nSpectral\\n---------------------------\\n\")\n",
    "    plot_annot(name=name, collar=0.25, skip_overlap=True, groundtruth_path=audio_dataset.label_dir, hypothesis_path=hypothesis_dir_spectral)\n",
    "    plt.show()"
   ]
  },
  {
   "cell_type": "code",
   "execution_count": null,
   "metadata": {
    "id": "M6diVRDO1wt8"
   },
   "outputs": [],
   "source": []
  }
 ],
 "metadata": {
  "accelerator": "GPU",
  "colab": {
   "collapsed_sections": [],
   "name": "Compare_Spectral_Vs_DEC_VoxConverse_OracleVAD.ipynb",
   "provenance": [],
   "toc_visible": true
  },
  "kernelspec": {
   "display_name": "Python 3",
   "language": "python",
   "name": "python3"
  },
  "language_info": {
   "codemirror_mode": {
    "name": "ipython",
    "version": 3
   },
   "file_extension": ".py",
   "mimetype": "text/x-python",
   "name": "python",
   "nbconvert_exporter": "python",
   "pygments_lexer": "ipython3",
   "version": "3.7.6"
  },
  "widgets": {
   "application/vnd.jupyter.widget-state+json": {
    "0efdcb86a2c44ad9bbcace22c57eb9de": {
     "model_module": "@jupyter-widgets/base",
     "model_name": "LayoutModel",
     "state": {
      "_model_module": "@jupyter-widgets/base",
      "_model_module_version": "1.2.0",
      "_model_name": "LayoutModel",
      "_view_count": null,
      "_view_module": "@jupyter-widgets/base",
      "_view_module_version": "1.2.0",
      "_view_name": "LayoutView",
      "align_content": null,
      "align_items": null,
      "align_self": null,
      "border": null,
      "bottom": null,
      "display": null,
      "flex": null,
      "flex_flow": null,
      "grid_area": null,
      "grid_auto_columns": null,
      "grid_auto_flow": null,
      "grid_auto_rows": null,
      "grid_column": null,
      "grid_gap": null,
      "grid_row": null,
      "grid_template_areas": null,
      "grid_template_columns": null,
      "grid_template_rows": null,
      "height": null,
      "justify_content": null,
      "justify_items": null,
      "left": null,
      "margin": null,
      "max_height": null,
      "max_width": null,
      "min_height": null,
      "min_width": null,
      "object_fit": null,
      "object_position": null,
      "order": null,
      "overflow": null,
      "overflow_x": null,
      "overflow_y": null,
      "padding": null,
      "right": null,
      "top": null,
      "visibility": null,
      "width": null
     }
    },
    "12d018b65998438fb2ab3b149efbc299": {
     "model_module": "@jupyter-widgets/base",
     "model_name": "LayoutModel",
     "state": {
      "_model_module": "@jupyter-widgets/base",
      "_model_module_version": "1.2.0",
      "_model_name": "LayoutModel",
      "_view_count": null,
      "_view_module": "@jupyter-widgets/base",
      "_view_module_version": "1.2.0",
      "_view_name": "LayoutView",
      "align_content": null,
      "align_items": null,
      "align_self": null,
      "border": null,
      "bottom": null,
      "display": null,
      "flex": null,
      "flex_flow": null,
      "grid_area": null,
      "grid_auto_columns": null,
      "grid_auto_flow": null,
      "grid_auto_rows": null,
      "grid_column": null,
      "grid_gap": null,
      "grid_row": null,
      "grid_template_areas": null,
      "grid_template_columns": null,
      "grid_template_rows": null,
      "height": null,
      "justify_content": null,
      "justify_items": null,
      "left": null,
      "margin": null,
      "max_height": null,
      "max_width": null,
      "min_height": null,
      "min_width": null,
      "object_fit": null,
      "object_position": null,
      "order": null,
      "overflow": null,
      "overflow_x": null,
      "overflow_y": null,
      "padding": null,
      "right": null,
      "top": null,
      "visibility": null,
      "width": null
     }
    },
    "147fccaa706c433a8ebabf4f6f969333": {
     "model_module": "@jupyter-widgets/controls",
     "model_name": "HBoxModel",
     "state": {
      "_dom_classes": [],
      "_model_module": "@jupyter-widgets/controls",
      "_model_module_version": "1.5.0",
      "_model_name": "HBoxModel",
      "_view_count": null,
      "_view_module": "@jupyter-widgets/controls",
      "_view_module_version": "1.5.0",
      "_view_name": "HBoxView",
      "box_style": "",
      "children": [
       "IPY_MODEL_1e68a531ad7a48fc9ddf6ba47ab1ec45",
       "IPY_MODEL_412d74dddb1b41d992ab1fa509806f0e"
      ],
      "layout": "IPY_MODEL_a684323a157c4f8e95c8b5ad63e950ca"
     }
    },
    "1e68a531ad7a48fc9ddf6ba47ab1ec45": {
     "model_module": "@jupyter-widgets/controls",
     "model_name": "FloatProgressModel",
     "state": {
      "_dom_classes": [],
      "_model_module": "@jupyter-widgets/controls",
      "_model_module_version": "1.5.0",
      "_model_name": "FloatProgressModel",
      "_view_count": null,
      "_view_module": "@jupyter-widgets/controls",
      "_view_module_version": "1.5.0",
      "_view_name": "ProgressView",
      "bar_style": "success",
      "description": "100%",
      "description_tooltip": null,
      "layout": "IPY_MODEL_2f4cd06803ca49f0abfbbf1bd2bc6d59",
      "max": 50,
      "min": 0,
      "orientation": "horizontal",
      "style": "IPY_MODEL_4345cd71d54d4fcc8b4f9b56aa2e3c67",
      "value": 50
     }
    },
    "2f4cd06803ca49f0abfbbf1bd2bc6d59": {
     "model_module": "@jupyter-widgets/base",
     "model_name": "LayoutModel",
     "state": {
      "_model_module": "@jupyter-widgets/base",
      "_model_module_version": "1.2.0",
      "_model_name": "LayoutModel",
      "_view_count": null,
      "_view_module": "@jupyter-widgets/base",
      "_view_module_version": "1.2.0",
      "_view_name": "LayoutView",
      "align_content": null,
      "align_items": null,
      "align_self": null,
      "border": null,
      "bottom": null,
      "display": null,
      "flex": null,
      "flex_flow": null,
      "grid_area": null,
      "grid_auto_columns": null,
      "grid_auto_flow": null,
      "grid_auto_rows": null,
      "grid_column": null,
      "grid_gap": null,
      "grid_row": null,
      "grid_template_areas": null,
      "grid_template_columns": null,
      "grid_template_rows": null,
      "height": null,
      "justify_content": null,
      "justify_items": null,
      "left": null,
      "margin": null,
      "max_height": null,
      "max_width": null,
      "min_height": null,
      "min_width": null,
      "object_fit": null,
      "object_position": null,
      "order": null,
      "overflow": null,
      "overflow_x": null,
      "overflow_y": null,
      "padding": null,
      "right": null,
      "top": null,
      "visibility": null,
      "width": null
     }
    },
    "3c728c80538e4e3c9eb6275db1dea8bb": {
     "model_module": "@jupyter-widgets/base",
     "model_name": "LayoutModel",
     "state": {
      "_model_module": "@jupyter-widgets/base",
      "_model_module_version": "1.2.0",
      "_model_name": "LayoutModel",
      "_view_count": null,
      "_view_module": "@jupyter-widgets/base",
      "_view_module_version": "1.2.0",
      "_view_name": "LayoutView",
      "align_content": null,
      "align_items": null,
      "align_self": null,
      "border": null,
      "bottom": null,
      "display": null,
      "flex": null,
      "flex_flow": null,
      "grid_area": null,
      "grid_auto_columns": null,
      "grid_auto_flow": null,
      "grid_auto_rows": null,
      "grid_column": null,
      "grid_gap": null,
      "grid_row": null,
      "grid_template_areas": null,
      "grid_template_columns": null,
      "grid_template_rows": null,
      "height": null,
      "justify_content": null,
      "justify_items": null,
      "left": null,
      "margin": null,
      "max_height": null,
      "max_width": null,
      "min_height": null,
      "min_width": null,
      "object_fit": null,
      "object_position": null,
      "order": null,
      "overflow": null,
      "overflow_x": null,
      "overflow_y": null,
      "padding": null,
      "right": null,
      "top": null,
      "visibility": null,
      "width": null
     }
    },
    "412d74dddb1b41d992ab1fa509806f0e": {
     "model_module": "@jupyter-widgets/controls",
     "model_name": "HTMLModel",
     "state": {
      "_dom_classes": [],
      "_model_module": "@jupyter-widgets/controls",
      "_model_module_version": "1.5.0",
      "_model_name": "HTMLModel",
      "_view_count": null,
      "_view_module": "@jupyter-widgets/controls",
      "_view_module_version": "1.5.0",
      "_view_name": "HTMLView",
      "description": "",
      "description_tooltip": null,
      "layout": "IPY_MODEL_ffcc6bde98ff4d6295784d473e252f0c",
      "placeholder": "​",
      "style": "IPY_MODEL_c92a2ea6cec44173812768beef43dabd",
      "value": " 50/50 [01:03&lt;00:00,  1.28s/it]"
     }
    },
    "4345cd71d54d4fcc8b4f9b56aa2e3c67": {
     "model_module": "@jupyter-widgets/controls",
     "model_name": "ProgressStyleModel",
     "state": {
      "_model_module": "@jupyter-widgets/controls",
      "_model_module_version": "1.5.0",
      "_model_name": "ProgressStyleModel",
      "_view_count": null,
      "_view_module": "@jupyter-widgets/base",
      "_view_module_version": "1.2.0",
      "_view_name": "StyleView",
      "bar_color": null,
      "description_width": "initial"
     }
    },
    "4d2d2e13a217404dbc36dd5969758a2b": {
     "model_module": "@jupyter-widgets/controls",
     "model_name": "HBoxModel",
     "state": {
      "_dom_classes": [],
      "_model_module": "@jupyter-widgets/controls",
      "_model_module_version": "1.5.0",
      "_model_name": "HBoxModel",
      "_view_count": null,
      "_view_module": "@jupyter-widgets/controls",
      "_view_module_version": "1.5.0",
      "_view_name": "HBoxView",
      "box_style": "",
      "children": [
       "IPY_MODEL_bcfd0fa80fde4a41ae1ac5d32b4b462e",
       "IPY_MODEL_b9a6309bc4fa43d2886133a1798ea688"
      ],
      "layout": "IPY_MODEL_12d018b65998438fb2ab3b149efbc299"
     }
    },
    "51d256e71dbf46a18721f86fa847b936": {
     "model_module": "@jupyter-widgets/controls",
     "model_name": "FloatProgressModel",
     "state": {
      "_dom_classes": [],
      "_model_module": "@jupyter-widgets/controls",
      "_model_module_version": "1.5.0",
      "_model_name": "FloatProgressModel",
      "_view_count": null,
      "_view_module": "@jupyter-widgets/controls",
      "_view_module_version": "1.5.0",
      "_view_name": "ProgressView",
      "bar_style": "success",
      "description": "100%",
      "description_tooltip": null,
      "layout": "IPY_MODEL_9952bbcc038b49309115e884fb0f008d",
      "max": 50,
      "min": 0,
      "orientation": "horizontal",
      "style": "IPY_MODEL_de41df56d31549ce9a861342e4f8f8af",
      "value": 50
     }
    },
    "541f4597f13a4f22941afe37f7f82852": {
     "model_module": "@jupyter-widgets/controls",
     "model_name": "HTMLModel",
     "state": {
      "_dom_classes": [],
      "_model_module": "@jupyter-widgets/controls",
      "_model_module_version": "1.5.0",
      "_model_name": "HTMLModel",
      "_view_count": null,
      "_view_module": "@jupyter-widgets/controls",
      "_view_module_version": "1.5.0",
      "_view_name": "HTMLView",
      "description": "",
      "description_tooltip": null,
      "layout": "IPY_MODEL_90937ef6cad54ff5b725c53a313dd300",
      "placeholder": "​",
      "style": "IPY_MODEL_b74980edad7d4004a3b390ac91a94d13",
      "value": " 50/50 [00:02&lt;00:00, 16.80it/s]"
     }
    },
    "5a7117e189584adaa240a5ceff5c6569": {
     "model_module": "@jupyter-widgets/base",
     "model_name": "LayoutModel",
     "state": {
      "_model_module": "@jupyter-widgets/base",
      "_model_module_version": "1.2.0",
      "_model_name": "LayoutModel",
      "_view_count": null,
      "_view_module": "@jupyter-widgets/base",
      "_view_module_version": "1.2.0",
      "_view_name": "LayoutView",
      "align_content": null,
      "align_items": null,
      "align_self": null,
      "border": null,
      "bottom": null,
      "display": null,
      "flex": null,
      "flex_flow": null,
      "grid_area": null,
      "grid_auto_columns": null,
      "grid_auto_flow": null,
      "grid_auto_rows": null,
      "grid_column": null,
      "grid_gap": null,
      "grid_row": null,
      "grid_template_areas": null,
      "grid_template_columns": null,
      "grid_template_rows": null,
      "height": null,
      "justify_content": null,
      "justify_items": null,
      "left": null,
      "margin": null,
      "max_height": null,
      "max_width": null,
      "min_height": null,
      "min_width": null,
      "object_fit": null,
      "object_position": null,
      "order": null,
      "overflow": null,
      "overflow_x": null,
      "overflow_y": null,
      "padding": null,
      "right": null,
      "top": null,
      "visibility": null,
      "width": null
     }
    },
    "702f410396d1416bb529d419373ff0e0": {
     "model_module": "@jupyter-widgets/controls",
     "model_name": "DescriptionStyleModel",
     "state": {
      "_model_module": "@jupyter-widgets/controls",
      "_model_module_version": "1.5.0",
      "_model_name": "DescriptionStyleModel",
      "_view_count": null,
      "_view_module": "@jupyter-widgets/base",
      "_view_module_version": "1.2.0",
      "_view_name": "StyleView",
      "description_width": ""
     }
    },
    "70aa6b7114914f8ea44e0baf6523c90b": {
     "model_module": "@jupyter-widgets/controls",
     "model_name": "FloatProgressModel",
     "state": {
      "_dom_classes": [],
      "_model_module": "@jupyter-widgets/controls",
      "_model_module_version": "1.5.0",
      "_model_name": "FloatProgressModel",
      "_view_count": null,
      "_view_module": "@jupyter-widgets/controls",
      "_view_module_version": "1.5.0",
      "_view_name": "ProgressView",
      "bar_style": "success",
      "description": "100%",
      "description_tooltip": null,
      "layout": "IPY_MODEL_a7139809dd1e44e897e0d1159cfdc2a0",
      "max": 50,
      "min": 0,
      "orientation": "horizontal",
      "style": "IPY_MODEL_efc791baa5374881aa1d32058448d69f",
      "value": 50
     }
    },
    "847fb3017fe74c2e9c094406efa2bd4e": {
     "model_module": "@jupyter-widgets/controls",
     "model_name": "DescriptionStyleModel",
     "state": {
      "_model_module": "@jupyter-widgets/controls",
      "_model_module_version": "1.5.0",
      "_model_name": "DescriptionStyleModel",
      "_view_count": null,
      "_view_module": "@jupyter-widgets/base",
      "_view_module_version": "1.2.0",
      "_view_name": "StyleView",
      "description_width": ""
     }
    },
    "87aedc582c2e4b9f97f6a49297760019": {
     "model_module": "@jupyter-widgets/base",
     "model_name": "LayoutModel",
     "state": {
      "_model_module": "@jupyter-widgets/base",
      "_model_module_version": "1.2.0",
      "_model_name": "LayoutModel",
      "_view_count": null,
      "_view_module": "@jupyter-widgets/base",
      "_view_module_version": "1.2.0",
      "_view_name": "LayoutView",
      "align_content": null,
      "align_items": null,
      "align_self": null,
      "border": null,
      "bottom": null,
      "display": null,
      "flex": null,
      "flex_flow": null,
      "grid_area": null,
      "grid_auto_columns": null,
      "grid_auto_flow": null,
      "grid_auto_rows": null,
      "grid_column": null,
      "grid_gap": null,
      "grid_row": null,
      "grid_template_areas": null,
      "grid_template_columns": null,
      "grid_template_rows": null,
      "height": null,
      "justify_content": null,
      "justify_items": null,
      "left": null,
      "margin": null,
      "max_height": null,
      "max_width": null,
      "min_height": null,
      "min_width": null,
      "object_fit": null,
      "object_position": null,
      "order": null,
      "overflow": null,
      "overflow_x": null,
      "overflow_y": null,
      "padding": null,
      "right": null,
      "top": null,
      "visibility": null,
      "width": null
     }
    },
    "8812a74d461c41788881f47a0478689c": {
     "model_module": "@jupyter-widgets/controls",
     "model_name": "ProgressStyleModel",
     "state": {
      "_model_module": "@jupyter-widgets/controls",
      "_model_module_version": "1.5.0",
      "_model_name": "ProgressStyleModel",
      "_view_count": null,
      "_view_module": "@jupyter-widgets/base",
      "_view_module_version": "1.2.0",
      "_view_name": "StyleView",
      "bar_color": null,
      "description_width": "initial"
     }
    },
    "90937ef6cad54ff5b725c53a313dd300": {
     "model_module": "@jupyter-widgets/base",
     "model_name": "LayoutModel",
     "state": {
      "_model_module": "@jupyter-widgets/base",
      "_model_module_version": "1.2.0",
      "_model_name": "LayoutModel",
      "_view_count": null,
      "_view_module": "@jupyter-widgets/base",
      "_view_module_version": "1.2.0",
      "_view_name": "LayoutView",
      "align_content": null,
      "align_items": null,
      "align_self": null,
      "border": null,
      "bottom": null,
      "display": null,
      "flex": null,
      "flex_flow": null,
      "grid_area": null,
      "grid_auto_columns": null,
      "grid_auto_flow": null,
      "grid_auto_rows": null,
      "grid_column": null,
      "grid_gap": null,
      "grid_row": null,
      "grid_template_areas": null,
      "grid_template_columns": null,
      "grid_template_rows": null,
      "height": null,
      "justify_content": null,
      "justify_items": null,
      "left": null,
      "margin": null,
      "max_height": null,
      "max_width": null,
      "min_height": null,
      "min_width": null,
      "object_fit": null,
      "object_position": null,
      "order": null,
      "overflow": null,
      "overflow_x": null,
      "overflow_y": null,
      "padding": null,
      "right": null,
      "top": null,
      "visibility": null,
      "width": null
     }
    },
    "9952bbcc038b49309115e884fb0f008d": {
     "model_module": "@jupyter-widgets/base",
     "model_name": "LayoutModel",
     "state": {
      "_model_module": "@jupyter-widgets/base",
      "_model_module_version": "1.2.0",
      "_model_name": "LayoutModel",
      "_view_count": null,
      "_view_module": "@jupyter-widgets/base",
      "_view_module_version": "1.2.0",
      "_view_name": "LayoutView",
      "align_content": null,
      "align_items": null,
      "align_self": null,
      "border": null,
      "bottom": null,
      "display": null,
      "flex": null,
      "flex_flow": null,
      "grid_area": null,
      "grid_auto_columns": null,
      "grid_auto_flow": null,
      "grid_auto_rows": null,
      "grid_column": null,
      "grid_gap": null,
      "grid_row": null,
      "grid_template_areas": null,
      "grid_template_columns": null,
      "grid_template_rows": null,
      "height": null,
      "justify_content": null,
      "justify_items": null,
      "left": null,
      "margin": null,
      "max_height": null,
      "max_width": null,
      "min_height": null,
      "min_width": null,
      "object_fit": null,
      "object_position": null,
      "order": null,
      "overflow": null,
      "overflow_x": null,
      "overflow_y": null,
      "padding": null,
      "right": null,
      "top": null,
      "visibility": null,
      "width": null
     }
    },
    "a23f02ca146b4b0aa7239bf7f76b1e0d": {
     "model_module": "@jupyter-widgets/base",
     "model_name": "LayoutModel",
     "state": {
      "_model_module": "@jupyter-widgets/base",
      "_model_module_version": "1.2.0",
      "_model_name": "LayoutModel",
      "_view_count": null,
      "_view_module": "@jupyter-widgets/base",
      "_view_module_version": "1.2.0",
      "_view_name": "LayoutView",
      "align_content": null,
      "align_items": null,
      "align_self": null,
      "border": null,
      "bottom": null,
      "display": null,
      "flex": null,
      "flex_flow": null,
      "grid_area": null,
      "grid_auto_columns": null,
      "grid_auto_flow": null,
      "grid_auto_rows": null,
      "grid_column": null,
      "grid_gap": null,
      "grid_row": null,
      "grid_template_areas": null,
      "grid_template_columns": null,
      "grid_template_rows": null,
      "height": null,
      "justify_content": null,
      "justify_items": null,
      "left": null,
      "margin": null,
      "max_height": null,
      "max_width": null,
      "min_height": null,
      "min_width": null,
      "object_fit": null,
      "object_position": null,
      "order": null,
      "overflow": null,
      "overflow_x": null,
      "overflow_y": null,
      "padding": null,
      "right": null,
      "top": null,
      "visibility": null,
      "width": null
     }
    },
    "a684323a157c4f8e95c8b5ad63e950ca": {
     "model_module": "@jupyter-widgets/base",
     "model_name": "LayoutModel",
     "state": {
      "_model_module": "@jupyter-widgets/base",
      "_model_module_version": "1.2.0",
      "_model_name": "LayoutModel",
      "_view_count": null,
      "_view_module": "@jupyter-widgets/base",
      "_view_module_version": "1.2.0",
      "_view_name": "LayoutView",
      "align_content": null,
      "align_items": null,
      "align_self": null,
      "border": null,
      "bottom": null,
      "display": null,
      "flex": null,
      "flex_flow": null,
      "grid_area": null,
      "grid_auto_columns": null,
      "grid_auto_flow": null,
      "grid_auto_rows": null,
      "grid_column": null,
      "grid_gap": null,
      "grid_row": null,
      "grid_template_areas": null,
      "grid_template_columns": null,
      "grid_template_rows": null,
      "height": null,
      "justify_content": null,
      "justify_items": null,
      "left": null,
      "margin": null,
      "max_height": null,
      "max_width": null,
      "min_height": null,
      "min_width": null,
      "object_fit": null,
      "object_position": null,
      "order": null,
      "overflow": null,
      "overflow_x": null,
      "overflow_y": null,
      "padding": null,
      "right": null,
      "top": null,
      "visibility": null,
      "width": null
     }
    },
    "a7139809dd1e44e897e0d1159cfdc2a0": {
     "model_module": "@jupyter-widgets/base",
     "model_name": "LayoutModel",
     "state": {
      "_model_module": "@jupyter-widgets/base",
      "_model_module_version": "1.2.0",
      "_model_name": "LayoutModel",
      "_view_count": null,
      "_view_module": "@jupyter-widgets/base",
      "_view_module_version": "1.2.0",
      "_view_name": "LayoutView",
      "align_content": null,
      "align_items": null,
      "align_self": null,
      "border": null,
      "bottom": null,
      "display": null,
      "flex": null,
      "flex_flow": null,
      "grid_area": null,
      "grid_auto_columns": null,
      "grid_auto_flow": null,
      "grid_auto_rows": null,
      "grid_column": null,
      "grid_gap": null,
      "grid_row": null,
      "grid_template_areas": null,
      "grid_template_columns": null,
      "grid_template_rows": null,
      "height": null,
      "justify_content": null,
      "justify_items": null,
      "left": null,
      "margin": null,
      "max_height": null,
      "max_width": null,
      "min_height": null,
      "min_width": null,
      "object_fit": null,
      "object_position": null,
      "order": null,
      "overflow": null,
      "overflow_x": null,
      "overflow_y": null,
      "padding": null,
      "right": null,
      "top": null,
      "visibility": null,
      "width": null
     }
    },
    "b74980edad7d4004a3b390ac91a94d13": {
     "model_module": "@jupyter-widgets/controls",
     "model_name": "DescriptionStyleModel",
     "state": {
      "_model_module": "@jupyter-widgets/controls",
      "_model_module_version": "1.5.0",
      "_model_name": "DescriptionStyleModel",
      "_view_count": null,
      "_view_module": "@jupyter-widgets/base",
      "_view_module_version": "1.2.0",
      "_view_name": "StyleView",
      "description_width": ""
     }
    },
    "b9a6309bc4fa43d2886133a1798ea688": {
     "model_module": "@jupyter-widgets/controls",
     "model_name": "HTMLModel",
     "state": {
      "_dom_classes": [],
      "_model_module": "@jupyter-widgets/controls",
      "_model_module_version": "1.5.0",
      "_model_name": "HTMLModel",
      "_view_count": null,
      "_view_module": "@jupyter-widgets/controls",
      "_view_module_version": "1.5.0",
      "_view_name": "HTMLView",
      "description": "",
      "description_tooltip": null,
      "layout": "IPY_MODEL_a23f02ca146b4b0aa7239bf7f76b1e0d",
      "placeholder": "​",
      "style": "IPY_MODEL_702f410396d1416bb529d419373ff0e0",
      "value": " 50/50 [01:06&lt;00:00,  1.32s/it]"
     }
    },
    "bcfd0fa80fde4a41ae1ac5d32b4b462e": {
     "model_module": "@jupyter-widgets/controls",
     "model_name": "FloatProgressModel",
     "state": {
      "_dom_classes": [],
      "_model_module": "@jupyter-widgets/controls",
      "_model_module_version": "1.5.0",
      "_model_name": "FloatProgressModel",
      "_view_count": null,
      "_view_module": "@jupyter-widgets/controls",
      "_view_module_version": "1.5.0",
      "_view_name": "ProgressView",
      "bar_style": "success",
      "description": "100%",
      "description_tooltip": null,
      "layout": "IPY_MODEL_3c728c80538e4e3c9eb6275db1dea8bb",
      "max": 50,
      "min": 0,
      "orientation": "horizontal",
      "style": "IPY_MODEL_8812a74d461c41788881f47a0478689c",
      "value": 50
     }
    },
    "c92a2ea6cec44173812768beef43dabd": {
     "model_module": "@jupyter-widgets/controls",
     "model_name": "DescriptionStyleModel",
     "state": {
      "_model_module": "@jupyter-widgets/controls",
      "_model_module_version": "1.5.0",
      "_model_name": "DescriptionStyleModel",
      "_view_count": null,
      "_view_module": "@jupyter-widgets/base",
      "_view_module_version": "1.2.0",
      "_view_name": "StyleView",
      "description_width": ""
     }
    },
    "de41df56d31549ce9a861342e4f8f8af": {
     "model_module": "@jupyter-widgets/controls",
     "model_name": "ProgressStyleModel",
     "state": {
      "_model_module": "@jupyter-widgets/controls",
      "_model_module_version": "1.5.0",
      "_model_name": "ProgressStyleModel",
      "_view_count": null,
      "_view_module": "@jupyter-widgets/base",
      "_view_module_version": "1.2.0",
      "_view_name": "StyleView",
      "bar_color": null,
      "description_width": "initial"
     }
    },
    "e50474d350b84c00ac8f1dde4368d2e5": {
     "model_module": "@jupyter-widgets/controls",
     "model_name": "HTMLModel",
     "state": {
      "_dom_classes": [],
      "_model_module": "@jupyter-widgets/controls",
      "_model_module_version": "1.5.0",
      "_model_name": "HTMLModel",
      "_view_count": null,
      "_view_module": "@jupyter-widgets/controls",
      "_view_module_version": "1.5.0",
      "_view_name": "HTMLView",
      "description": "",
      "description_tooltip": null,
      "layout": "IPY_MODEL_87aedc582c2e4b9f97f6a49297760019",
      "placeholder": "​",
      "style": "IPY_MODEL_847fb3017fe74c2e9c094406efa2bd4e",
      "value": " 50/50 [00:15&lt;00:00,  3.17it/s]"
     }
    },
    "efc791baa5374881aa1d32058448d69f": {
     "model_module": "@jupyter-widgets/controls",
     "model_name": "ProgressStyleModel",
     "state": {
      "_model_module": "@jupyter-widgets/controls",
      "_model_module_version": "1.5.0",
      "_model_name": "ProgressStyleModel",
      "_view_count": null,
      "_view_module": "@jupyter-widgets/base",
      "_view_module_version": "1.2.0",
      "_view_name": "StyleView",
      "bar_color": null,
      "description_width": "initial"
     }
    },
    "f15813e5769b45ba9427e5075c7fadd5": {
     "model_module": "@jupyter-widgets/controls",
     "model_name": "HBoxModel",
     "state": {
      "_dom_classes": [],
      "_model_module": "@jupyter-widgets/controls",
      "_model_module_version": "1.5.0",
      "_model_name": "HBoxModel",
      "_view_count": null,
      "_view_module": "@jupyter-widgets/controls",
      "_view_module_version": "1.5.0",
      "_view_name": "HBoxView",
      "box_style": "",
      "children": [
       "IPY_MODEL_51d256e71dbf46a18721f86fa847b936",
       "IPY_MODEL_e50474d350b84c00ac8f1dde4368d2e5"
      ],
      "layout": "IPY_MODEL_5a7117e189584adaa240a5ceff5c6569"
     }
    },
    "fde982909aee4905945efc38d995c512": {
     "model_module": "@jupyter-widgets/controls",
     "model_name": "HBoxModel",
     "state": {
      "_dom_classes": [],
      "_model_module": "@jupyter-widgets/controls",
      "_model_module_version": "1.5.0",
      "_model_name": "HBoxModel",
      "_view_count": null,
      "_view_module": "@jupyter-widgets/controls",
      "_view_module_version": "1.5.0",
      "_view_name": "HBoxView",
      "box_style": "",
      "children": [
       "IPY_MODEL_70aa6b7114914f8ea44e0baf6523c90b",
       "IPY_MODEL_541f4597f13a4f22941afe37f7f82852"
      ],
      "layout": "IPY_MODEL_0efdcb86a2c44ad9bbcace22c57eb9de"
     }
    },
    "ffcc6bde98ff4d6295784d473e252f0c": {
     "model_module": "@jupyter-widgets/base",
     "model_name": "LayoutModel",
     "state": {
      "_model_module": "@jupyter-widgets/base",
      "_model_module_version": "1.2.0",
      "_model_name": "LayoutModel",
      "_view_count": null,
      "_view_module": "@jupyter-widgets/base",
      "_view_module_version": "1.2.0",
      "_view_name": "LayoutView",
      "align_content": null,
      "align_items": null,
      "align_self": null,
      "border": null,
      "bottom": null,
      "display": null,
      "flex": null,
      "flex_flow": null,
      "grid_area": null,
      "grid_auto_columns": null,
      "grid_auto_flow": null,
      "grid_auto_rows": null,
      "grid_column": null,
      "grid_gap": null,
      "grid_row": null,
      "grid_template_areas": null,
      "grid_template_columns": null,
      "grid_template_rows": null,
      "height": null,
      "justify_content": null,
      "justify_items": null,
      "left": null,
      "margin": null,
      "max_height": null,
      "max_width": null,
      "min_height": null,
      "min_width": null,
      "object_fit": null,
      "object_position": null,
      "order": null,
      "overflow": null,
      "overflow_x": null,
      "overflow_y": null,
      "padding": null,
      "right": null,
      "top": null,
      "visibility": null,
      "width": null
     }
    }
   }
  }
 },
 "nbformat": 4,
 "nbformat_minor": 1
}
